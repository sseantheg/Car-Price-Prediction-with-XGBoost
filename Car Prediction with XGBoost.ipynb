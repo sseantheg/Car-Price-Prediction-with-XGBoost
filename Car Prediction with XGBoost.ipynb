{
 "cells": [
  {
   "cell_type": "markdown",
   "id": "571b96db",
   "metadata": {
    "papermill": {
     "duration": 0.005246,
     "end_time": "2024-06-04T17:12:37.836366",
     "exception": false,
     "start_time": "2024-06-04T17:12:37.831120",
     "status": "completed"
    },
    "tags": []
   },
   "source": [
    "# Used Vehicle Price Prediction: KaggleX Skill Assessment Challenge\n",
    "This work is for the participation the cahllenge mentioned in the title, aiming to predict used vehicle prices based on the data given.\n",
    "\n",
    "## Dataset\n",
    "We are given train.csv and test.csv, with the former (as the name suggests) having 12 features column an 1 target column of price. The test data lacks the target price column so has 12 columns.\n",
    "\n",
    "The test data is usually large (from my experience), having about 36k rows compared to the 54k rows in the training dataset. (may make the prediction hard if the test data distribution is marginally different from training data?)\n",
    "\n",
    "## Methodology\n",
    "Off the top of my head I will approach this similar to my previous project where we follow the steps of:\n",
    "1. data exploration: distribution, outliers, data types, correlation...\n",
    "2. data preprocessing: data cleaning, feature engineering, train-test split\n",
    "3. baseline modeling: use baseline models like decision trees, random forest & linear regression\n",
    "4. model2 : build fancy model trying to beat baseline model\n",
    "5. model tuning: overfit then prune? hyperparameter-tuning? monitor loss-curve? early stopping?\n",
    "6. model evaluation?\n"
   ]
  },
  {
   "cell_type": "markdown",
   "id": "41773bd6",
   "metadata": {
    "papermill": {
     "duration": 0.00428,
     "end_time": "2024-06-04T17:12:37.846079",
     "exception": false,
     "start_time": "2024-06-04T17:12:37.841799",
     "status": "completed"
    },
    "tags": []
   },
   "source": [
    "# 1. Data Preparation "
   ]
  },
  {
   "cell_type": "markdown",
   "id": "53f0a0f8",
   "metadata": {
    "papermill": {
     "duration": 0.004153,
     "end_time": "2024-06-04T17:12:37.854732",
     "exception": false,
     "start_time": "2024-06-04T17:12:37.850579",
     "status": "completed"
    },
    "tags": []
   },
   "source": [
    "## 1.1 Data Loading"
   ]
  },
  {
   "cell_type": "code",
   "execution_count": 1,
   "id": "14b4c160",
   "metadata": {
    "_cell_guid": "b1076dfc-b9ad-4769-8c92-a6c4dae69d19",
    "_uuid": "8f2839f25d086af736a60e9eeb907d3b93b6e0e5",
    "execution": {
     "iopub.execute_input": "2024-06-04T17:12:37.866461Z",
     "iopub.status.busy": "2024-06-04T17:12:37.865466Z",
     "iopub.status.idle": "2024-06-04T17:12:38.777053Z",
     "shell.execute_reply": "2024-06-04T17:12:38.776006Z"
    },
    "papermill": {
     "duration": 0.920414,
     "end_time": "2024-06-04T17:12:38.779651",
     "exception": false,
     "start_time": "2024-06-04T17:12:37.859237",
     "status": "completed"
    },
    "tags": []
   },
   "outputs": [
    {
     "name": "stdout",
     "output_type": "stream",
     "text": [
      "/kaggle/input/kagglex/sample_submission.csv\n",
      "/kaggle/input/kagglex/train.csv\n",
      "/kaggle/input/kagglex/test.csv\n"
     ]
    }
   ],
   "source": [
    "# This Python 3 environment comes with many helpful analytics libraries installed\n",
    "# It is defined by the kaggle/python Docker image: https://github.com/kaggle/docker-python\n",
    "# For example, here's several helpful packages to load\n",
    "\n",
    "import numpy as np # linear algebra\n",
    "import pandas as pd # data processing, CSV file I/O (e.g. pd.read_csv)\n",
    "\n",
    "# Input data files are available in the read-only \"../input/\" directory\n",
    "# For example, running this (by clicking run or pressing Shift+Enter) will list all files under the input directory\n",
    "\n",
    "import os\n",
    "for dirname, _, filenames in os.walk('/kaggle/input'):\n",
    "    for filename in filenames:\n",
    "        print(os.path.join(dirname, filename))\n",
    "\n",
    "# You can write up to 20GB to the current directory (/kaggle/working/) that gets preserved as output when you create a version using \"Save & Run All\" \n",
    "# You can also write temporary files to /kaggle/temp/, but they won't be saved outside of the current session"
   ]
  },
  {
   "cell_type": "code",
   "execution_count": 2,
   "id": "a7a1ba1e",
   "metadata": {
    "execution": {
     "iopub.execute_input": "2024-06-04T17:12:38.790680Z",
     "iopub.status.busy": "2024-06-04T17:12:38.790157Z",
     "iopub.status.idle": "2024-06-04T17:12:39.209529Z",
     "shell.execute_reply": "2024-06-04T17:12:39.208317Z"
    },
    "papermill": {
     "duration": 0.427768,
     "end_time": "2024-06-04T17:12:39.212102",
     "exception": false,
     "start_time": "2024-06-04T17:12:38.784334",
     "status": "completed"
    },
    "tags": []
   },
   "outputs": [
    {
     "name": "stdout",
     "output_type": "stream",
     "text": [
      "(54273, 13)\n",
      "(36183, 12)\n"
     ]
    }
   ],
   "source": [
    "#load the train.csv into a dataframe\n",
    "train_df = pd.read_csv('/kaggle/input/kagglex/train.csv')\n",
    "test_df = pd.read_csv('/kaggle/input/kagglex/test.csv')\n",
    "\n",
    "print(train_df.shape)\n",
    "print(test_df.shape)"
   ]
  },
  {
   "cell_type": "markdown",
   "id": "afa5676e",
   "metadata": {
    "papermill": {
     "duration": 0.004345,
     "end_time": "2024-06-04T17:12:39.221268",
     "exception": false,
     "start_time": "2024-06-04T17:12:39.216923",
     "status": "completed"
    },
    "tags": []
   },
   "source": [
    "## 1.2 Data Exploration"
   ]
  },
  {
   "cell_type": "code",
   "execution_count": 3,
   "id": "7f78c14d",
   "metadata": {
    "execution": {
     "iopub.execute_input": "2024-06-04T17:12:39.232963Z",
     "iopub.status.busy": "2024-06-04T17:12:39.231883Z",
     "iopub.status.idle": "2024-06-04T17:12:39.257661Z",
     "shell.execute_reply": "2024-06-04T17:12:39.256442Z"
    },
    "papermill": {
     "duration": 0.034398,
     "end_time": "2024-06-04T17:12:39.260215",
     "exception": false,
     "start_time": "2024-06-04T17:12:39.225817",
     "status": "completed"
    },
    "tags": []
   },
   "outputs": [
    {
     "data": {
      "text/html": [
       "<div>\n",
       "<style scoped>\n",
       "    .dataframe tbody tr th:only-of-type {\n",
       "        vertical-align: middle;\n",
       "    }\n",
       "\n",
       "    .dataframe tbody tr th {\n",
       "        vertical-align: top;\n",
       "    }\n",
       "\n",
       "    .dataframe thead th {\n",
       "        text-align: right;\n",
       "    }\n",
       "</style>\n",
       "<table border=\"1\" class=\"dataframe\">\n",
       "  <thead>\n",
       "    <tr style=\"text-align: right;\">\n",
       "      <th></th>\n",
       "      <th>id</th>\n",
       "      <th>brand</th>\n",
       "      <th>model</th>\n",
       "      <th>model_year</th>\n",
       "      <th>milage</th>\n",
       "      <th>fuel_type</th>\n",
       "      <th>engine</th>\n",
       "      <th>transmission</th>\n",
       "      <th>ext_col</th>\n",
       "      <th>int_col</th>\n",
       "      <th>accident</th>\n",
       "      <th>clean_title</th>\n",
       "      <th>price</th>\n",
       "    </tr>\n",
       "  </thead>\n",
       "  <tbody>\n",
       "    <tr>\n",
       "      <th>0</th>\n",
       "      <td>0</td>\n",
       "      <td>Ford</td>\n",
       "      <td>F-150 Lariat</td>\n",
       "      <td>2018</td>\n",
       "      <td>74349</td>\n",
       "      <td>Gasoline</td>\n",
       "      <td>375.0HP 3.5L V6 Cylinder Engine Gasoline Fuel</td>\n",
       "      <td>10-Speed A/T</td>\n",
       "      <td>Blue</td>\n",
       "      <td>Gray</td>\n",
       "      <td>None reported</td>\n",
       "      <td>Yes</td>\n",
       "      <td>11000</td>\n",
       "    </tr>\n",
       "    <tr>\n",
       "      <th>1</th>\n",
       "      <td>1</td>\n",
       "      <td>BMW</td>\n",
       "      <td>335 i</td>\n",
       "      <td>2007</td>\n",
       "      <td>80000</td>\n",
       "      <td>Gasoline</td>\n",
       "      <td>300.0HP 3.0L Straight 6 Cylinder Engine Gasoli...</td>\n",
       "      <td>6-Speed M/T</td>\n",
       "      <td>Black</td>\n",
       "      <td>Black</td>\n",
       "      <td>None reported</td>\n",
       "      <td>Yes</td>\n",
       "      <td>8250</td>\n",
       "    </tr>\n",
       "    <tr>\n",
       "      <th>2</th>\n",
       "      <td>2</td>\n",
       "      <td>Jaguar</td>\n",
       "      <td>XF Luxury</td>\n",
       "      <td>2009</td>\n",
       "      <td>91491</td>\n",
       "      <td>Gasoline</td>\n",
       "      <td>300.0HP 4.2L 8 Cylinder Engine Gasoline Fuel</td>\n",
       "      <td>6-Speed A/T</td>\n",
       "      <td>Purple</td>\n",
       "      <td>Beige</td>\n",
       "      <td>None reported</td>\n",
       "      <td>Yes</td>\n",
       "      <td>15000</td>\n",
       "    </tr>\n",
       "    <tr>\n",
       "      <th>3</th>\n",
       "      <td>3</td>\n",
       "      <td>BMW</td>\n",
       "      <td>X7 xDrive40i</td>\n",
       "      <td>2022</td>\n",
       "      <td>2437</td>\n",
       "      <td>Hybrid</td>\n",
       "      <td>335.0HP 3.0L Straight 6 Cylinder Engine Gasoli...</td>\n",
       "      <td>Transmission w/Dual Shift Mode</td>\n",
       "      <td>Gray</td>\n",
       "      <td>Brown</td>\n",
       "      <td>None reported</td>\n",
       "      <td>Yes</td>\n",
       "      <td>63500</td>\n",
       "    </tr>\n",
       "    <tr>\n",
       "      <th>4</th>\n",
       "      <td>4</td>\n",
       "      <td>Pontiac</td>\n",
       "      <td>Firebird Base</td>\n",
       "      <td>2001</td>\n",
       "      <td>111000</td>\n",
       "      <td>Gasoline</td>\n",
       "      <td>200.0HP 3.8L V6 Cylinder Engine Gasoline Fuel</td>\n",
       "      <td>A/T</td>\n",
       "      <td>White</td>\n",
       "      <td>Black</td>\n",
       "      <td>None reported</td>\n",
       "      <td>Yes</td>\n",
       "      <td>7850</td>\n",
       "    </tr>\n",
       "  </tbody>\n",
       "</table>\n",
       "</div>"
      ],
      "text/plain": [
       "   id    brand          model  model_year  milage fuel_type  \\\n",
       "0   0     Ford   F-150 Lariat        2018   74349  Gasoline   \n",
       "1   1      BMW          335 i        2007   80000  Gasoline   \n",
       "2   2   Jaguar      XF Luxury        2009   91491  Gasoline   \n",
       "3   3      BMW   X7 xDrive40i        2022    2437    Hybrid   \n",
       "4   4  Pontiac  Firebird Base        2001  111000  Gasoline   \n",
       "\n",
       "                                              engine  \\\n",
       "0      375.0HP 3.5L V6 Cylinder Engine Gasoline Fuel   \n",
       "1  300.0HP 3.0L Straight 6 Cylinder Engine Gasoli...   \n",
       "2       300.0HP 4.2L 8 Cylinder Engine Gasoline Fuel   \n",
       "3  335.0HP 3.0L Straight 6 Cylinder Engine Gasoli...   \n",
       "4      200.0HP 3.8L V6 Cylinder Engine Gasoline Fuel   \n",
       "\n",
       "                     transmission ext_col int_col       accident clean_title  \\\n",
       "0                    10-Speed A/T    Blue    Gray  None reported         Yes   \n",
       "1                     6-Speed M/T   Black   Black  None reported         Yes   \n",
       "2                     6-Speed A/T  Purple   Beige  None reported         Yes   \n",
       "3  Transmission w/Dual Shift Mode    Gray   Brown  None reported         Yes   \n",
       "4                             A/T   White   Black  None reported         Yes   \n",
       "\n",
       "   price  \n",
       "0  11000  \n",
       "1   8250  \n",
       "2  15000  \n",
       "3  63500  \n",
       "4   7850  "
      ]
     },
     "execution_count": 3,
     "metadata": {},
     "output_type": "execute_result"
    }
   ],
   "source": [
    "train_df.head()"
   ]
  },
  {
   "cell_type": "code",
   "execution_count": 4,
   "id": "1fef11c2",
   "metadata": {
    "execution": {
     "iopub.execute_input": "2024-06-04T17:12:39.271683Z",
     "iopub.status.busy": "2024-06-04T17:12:39.271337Z",
     "iopub.status.idle": "2024-06-04T17:12:39.287064Z",
     "shell.execute_reply": "2024-06-04T17:12:39.286033Z"
    },
    "papermill": {
     "duration": 0.023948,
     "end_time": "2024-06-04T17:12:39.289154",
     "exception": false,
     "start_time": "2024-06-04T17:12:39.265206",
     "status": "completed"
    },
    "tags": []
   },
   "outputs": [
    {
     "data": {
      "text/html": [
       "<div>\n",
       "<style scoped>\n",
       "    .dataframe tbody tr th:only-of-type {\n",
       "        vertical-align: middle;\n",
       "    }\n",
       "\n",
       "    .dataframe tbody tr th {\n",
       "        vertical-align: top;\n",
       "    }\n",
       "\n",
       "    .dataframe thead th {\n",
       "        text-align: right;\n",
       "    }\n",
       "</style>\n",
       "<table border=\"1\" class=\"dataframe\">\n",
       "  <thead>\n",
       "    <tr style=\"text-align: right;\">\n",
       "      <th></th>\n",
       "      <th>id</th>\n",
       "      <th>brand</th>\n",
       "      <th>model</th>\n",
       "      <th>model_year</th>\n",
       "      <th>milage</th>\n",
       "      <th>fuel_type</th>\n",
       "      <th>engine</th>\n",
       "      <th>transmission</th>\n",
       "      <th>ext_col</th>\n",
       "      <th>int_col</th>\n",
       "      <th>accident</th>\n",
       "      <th>clean_title</th>\n",
       "    </tr>\n",
       "  </thead>\n",
       "  <tbody>\n",
       "    <tr>\n",
       "      <th>0</th>\n",
       "      <td>54273</td>\n",
       "      <td>Mercedes-Benz</td>\n",
       "      <td>E-Class E 350</td>\n",
       "      <td>2014</td>\n",
       "      <td>73000</td>\n",
       "      <td>Gasoline</td>\n",
       "      <td>302.0HP 3.5L V6 Cylinder Engine Gasoline Fuel</td>\n",
       "      <td>A/T</td>\n",
       "      <td>White</td>\n",
       "      <td>Beige</td>\n",
       "      <td>None reported</td>\n",
       "      <td>Yes</td>\n",
       "    </tr>\n",
       "    <tr>\n",
       "      <th>1</th>\n",
       "      <td>54274</td>\n",
       "      <td>Lexus</td>\n",
       "      <td>RX 350 Base</td>\n",
       "      <td>2015</td>\n",
       "      <td>128032</td>\n",
       "      <td>Gasoline</td>\n",
       "      <td>275.0HP 3.5L V6 Cylinder Engine Gasoline Fuel</td>\n",
       "      <td>8-Speed A/T</td>\n",
       "      <td>Silver</td>\n",
       "      <td>Black</td>\n",
       "      <td>None reported</td>\n",
       "      <td>Yes</td>\n",
       "    </tr>\n",
       "    <tr>\n",
       "      <th>2</th>\n",
       "      <td>54275</td>\n",
       "      <td>Mercedes-Benz</td>\n",
       "      <td>C-Class C 300</td>\n",
       "      <td>2015</td>\n",
       "      <td>51983</td>\n",
       "      <td>Gasoline</td>\n",
       "      <td>241.0HP 2.0L 4 Cylinder Engine Gasoline Fuel</td>\n",
       "      <td>7-Speed A/T</td>\n",
       "      <td>Blue</td>\n",
       "      <td>White</td>\n",
       "      <td>None reported</td>\n",
       "      <td>Yes</td>\n",
       "    </tr>\n",
       "    <tr>\n",
       "      <th>3</th>\n",
       "      <td>54276</td>\n",
       "      <td>Land</td>\n",
       "      <td>Rover Range Rover 5.0L Supercharged Autobiogra...</td>\n",
       "      <td>2018</td>\n",
       "      <td>29500</td>\n",
       "      <td>Gasoline</td>\n",
       "      <td>518.0HP 5.0L 8 Cylinder Engine Gasoline Fuel</td>\n",
       "      <td>Transmission w/Dual Shift Mode</td>\n",
       "      <td>White</td>\n",
       "      <td>White</td>\n",
       "      <td>At least 1 accident or damage reported</td>\n",
       "      <td>Yes</td>\n",
       "    </tr>\n",
       "    <tr>\n",
       "      <th>4</th>\n",
       "      <td>54277</td>\n",
       "      <td>BMW</td>\n",
       "      <td>X6 xDrive40i</td>\n",
       "      <td>2020</td>\n",
       "      <td>90000</td>\n",
       "      <td>Gasoline</td>\n",
       "      <td>335.0HP 3.0L Straight 6 Cylinder Engine Gasoli...</td>\n",
       "      <td>8-Speed A/T</td>\n",
       "      <td>White</td>\n",
       "      <td>Black</td>\n",
       "      <td>At least 1 accident or damage reported</td>\n",
       "      <td>Yes</td>\n",
       "    </tr>\n",
       "  </tbody>\n",
       "</table>\n",
       "</div>"
      ],
      "text/plain": [
       "      id          brand                                              model  \\\n",
       "0  54273  Mercedes-Benz                                      E-Class E 350   \n",
       "1  54274          Lexus                                        RX 350 Base   \n",
       "2  54275  Mercedes-Benz                                      C-Class C 300   \n",
       "3  54276           Land  Rover Range Rover 5.0L Supercharged Autobiogra...   \n",
       "4  54277            BMW                                       X6 xDrive40i   \n",
       "\n",
       "   model_year  milage fuel_type  \\\n",
       "0        2014   73000  Gasoline   \n",
       "1        2015  128032  Gasoline   \n",
       "2        2015   51983  Gasoline   \n",
       "3        2018   29500  Gasoline   \n",
       "4        2020   90000  Gasoline   \n",
       "\n",
       "                                              engine  \\\n",
       "0      302.0HP 3.5L V6 Cylinder Engine Gasoline Fuel   \n",
       "1      275.0HP 3.5L V6 Cylinder Engine Gasoline Fuel   \n",
       "2       241.0HP 2.0L 4 Cylinder Engine Gasoline Fuel   \n",
       "3       518.0HP 5.0L 8 Cylinder Engine Gasoline Fuel   \n",
       "4  335.0HP 3.0L Straight 6 Cylinder Engine Gasoli...   \n",
       "\n",
       "                     transmission ext_col int_col  \\\n",
       "0                             A/T   White   Beige   \n",
       "1                     8-Speed A/T  Silver   Black   \n",
       "2                     7-Speed A/T    Blue   White   \n",
       "3  Transmission w/Dual Shift Mode   White   White   \n",
       "4                     8-Speed A/T   White   Black   \n",
       "\n",
       "                                 accident clean_title  \n",
       "0                           None reported         Yes  \n",
       "1                           None reported         Yes  \n",
       "2                           None reported         Yes  \n",
       "3  At least 1 accident or damage reported         Yes  \n",
       "4  At least 1 accident or damage reported         Yes  "
      ]
     },
     "execution_count": 4,
     "metadata": {},
     "output_type": "execute_result"
    }
   ],
   "source": [
    "test_df.head()"
   ]
  },
  {
   "cell_type": "markdown",
   "id": "becdc693",
   "metadata": {
    "papermill": {
     "duration": 0.005006,
     "end_time": "2024-06-04T17:12:39.299379",
     "exception": false,
     "start_time": "2024-06-04T17:12:39.294373",
     "status": "completed"
    },
    "tags": []
   },
   "source": [
    "Quick look and the data suggest some columns should be more valuable than others?\n",
    "* brand\n",
    "* ~model??~\n",
    "* model_year\n",
    "* fuel_type\n",
    "* milage (need transformation?)\n",
    "* ext_col (need transformation, make it simple)\n",
    "* accident\n",
    "\n",
    "engine is a mess (need transformation), will not consider first as heuristically i think it might be less important. color can be important but not sure if enough. year, brand and accident should the most important.\n",
    "\n",
    "lets check the distribution for numerical and unique value of each categorical column to further determine:"
   ]
  },
  {
   "cell_type": "code",
   "execution_count": 5,
   "id": "87d2621e",
   "metadata": {
    "execution": {
     "iopub.execute_input": "2024-06-04T17:12:39.311980Z",
     "iopub.status.busy": "2024-06-04T17:12:39.310839Z",
     "iopub.status.idle": "2024-06-04T17:12:39.346575Z",
     "shell.execute_reply": "2024-06-04T17:12:39.345532Z"
    },
    "papermill": {
     "duration": 0.044502,
     "end_time": "2024-06-04T17:12:39.349039",
     "exception": false,
     "start_time": "2024-06-04T17:12:39.304537",
     "status": "completed"
    },
    "tags": []
   },
   "outputs": [
    {
     "data": {
      "text/html": [
       "<div>\n",
       "<style scoped>\n",
       "    .dataframe tbody tr th:only-of-type {\n",
       "        vertical-align: middle;\n",
       "    }\n",
       "\n",
       "    .dataframe tbody tr th {\n",
       "        vertical-align: top;\n",
       "    }\n",
       "\n",
       "    .dataframe thead th {\n",
       "        text-align: right;\n",
       "    }\n",
       "</style>\n",
       "<table border=\"1\" class=\"dataframe\">\n",
       "  <thead>\n",
       "    <tr style=\"text-align: right;\">\n",
       "      <th></th>\n",
       "      <th>id</th>\n",
       "      <th>model_year</th>\n",
       "      <th>milage</th>\n",
       "      <th>price</th>\n",
       "    </tr>\n",
       "  </thead>\n",
       "  <tbody>\n",
       "    <tr>\n",
       "      <th>count</th>\n",
       "      <td>54273.000000</td>\n",
       "      <td>54273.000000</td>\n",
       "      <td>54273.000000</td>\n",
       "      <td>5.427300e+04</td>\n",
       "    </tr>\n",
       "    <tr>\n",
       "      <th>mean</th>\n",
       "      <td>27136.000000</td>\n",
       "      <td>2015.091979</td>\n",
       "      <td>72746.175667</td>\n",
       "      <td>3.921844e+04</td>\n",
       "    </tr>\n",
       "    <tr>\n",
       "      <th>std</th>\n",
       "      <td>15667.409917</td>\n",
       "      <td>5.588909</td>\n",
       "      <td>50469.490448</td>\n",
       "      <td>7.282634e+04</td>\n",
       "    </tr>\n",
       "    <tr>\n",
       "      <th>min</th>\n",
       "      <td>0.000000</td>\n",
       "      <td>1974.000000</td>\n",
       "      <td>100.000000</td>\n",
       "      <td>2.000000e+03</td>\n",
       "    </tr>\n",
       "    <tr>\n",
       "      <th>25%</th>\n",
       "      <td>13568.000000</td>\n",
       "      <td>2012.000000</td>\n",
       "      <td>32268.000000</td>\n",
       "      <td>1.550000e+04</td>\n",
       "    </tr>\n",
       "    <tr>\n",
       "      <th>50%</th>\n",
       "      <td>27136.000000</td>\n",
       "      <td>2016.000000</td>\n",
       "      <td>66107.000000</td>\n",
       "      <td>2.800000e+04</td>\n",
       "    </tr>\n",
       "    <tr>\n",
       "      <th>75%</th>\n",
       "      <td>40704.000000</td>\n",
       "      <td>2019.000000</td>\n",
       "      <td>102000.000000</td>\n",
       "      <td>4.500000e+04</td>\n",
       "    </tr>\n",
       "    <tr>\n",
       "      <th>max</th>\n",
       "      <td>54272.000000</td>\n",
       "      <td>2024.000000</td>\n",
       "      <td>405000.000000</td>\n",
       "      <td>2.954083e+06</td>\n",
       "    </tr>\n",
       "  </tbody>\n",
       "</table>\n",
       "</div>"
      ],
      "text/plain": [
       "                 id    model_year         milage         price\n",
       "count  54273.000000  54273.000000   54273.000000  5.427300e+04\n",
       "mean   27136.000000   2015.091979   72746.175667  3.921844e+04\n",
       "std    15667.409917      5.588909   50469.490448  7.282634e+04\n",
       "min        0.000000   1974.000000     100.000000  2.000000e+03\n",
       "25%    13568.000000   2012.000000   32268.000000  1.550000e+04\n",
       "50%    27136.000000   2016.000000   66107.000000  2.800000e+04\n",
       "75%    40704.000000   2019.000000  102000.000000  4.500000e+04\n",
       "max    54272.000000   2024.000000  405000.000000  2.954083e+06"
      ]
     },
     "execution_count": 5,
     "metadata": {},
     "output_type": "execute_result"
    }
   ],
   "source": [
    "# check the distribution of numerical numbers\n",
    "train_df.describe()"
   ]
  },
  {
   "cell_type": "code",
   "execution_count": 6,
   "id": "2689cdfe",
   "metadata": {
    "execution": {
     "iopub.execute_input": "2024-06-04T17:12:39.361778Z",
     "iopub.status.busy": "2024-06-04T17:12:39.361429Z",
     "iopub.status.idle": "2024-06-04T17:12:39.390104Z",
     "shell.execute_reply": "2024-06-04T17:12:39.388970Z"
    },
    "papermill": {
     "duration": 0.038691,
     "end_time": "2024-06-04T17:12:39.393315",
     "exception": false,
     "start_time": "2024-06-04T17:12:39.354624",
     "status": "completed"
    },
    "tags": []
   },
   "outputs": [
    {
     "name": "stdout",
     "output_type": "stream",
     "text": [
      "columns and respective unique values:\n",
      "brands: ['Ford' 'BMW' 'Jaguar' 'Pontiac' 'Acura' 'Audi' 'GMC' 'Maserati'\n",
      " 'Chevrolet' 'Porsche' 'Mercedes-Benz' 'Tesla' 'Lexus' 'Kia' 'Lincoln'\n",
      " 'Dodge' 'Volkswagen' 'Land' 'Cadillac' 'Mazda' 'RAM' 'Subaru' 'Hyundai'\n",
      " 'MINI' 'Jeep' 'Honda' 'Hummer' 'Nissan' 'Toyota' 'Volvo' 'Genesis'\n",
      " 'Mitsubishi' 'Buick' 'INFINITI' 'McLaren' 'Scion' 'Lamborghini' 'Bentley'\n",
      " 'Suzuki' 'Ferrari' 'Alfa' 'Rolls-Royce' 'Chrysler' 'Aston' 'Rivian'\n",
      " 'Lotus' 'Saturn' 'Lucid' 'Mercury' 'Maybach' 'FIAT' 'Plymouth' 'Bugatti']\n",
      "fuel_type: ['Gasoline' 'Hybrid' 'E85 Flex Fuel' 'Diesel' '–' 'Plug-In Hybrid'\n",
      " 'not supported']\n",
      "ext_col: ['Blue' 'Black' 'Purple' 'Gray' 'White' 'Red' 'Silver' 'Summit White'\n",
      " 'Platinum Quartz Metallic' 'Green' 'Orange' 'Lunar Rock'\n",
      " 'Red Quartz Tintcoat' 'Beige' 'Gold' 'Jet Black Mica'\n",
      " 'Delmonico Red Pearlcoat' 'Brown' 'Rich Garnet Metallic'\n",
      " 'Stellar Black Metallic' 'Yellow' 'Deep Black Pearl Effect' 'Metallic'\n",
      " 'Ice Silver Metallic' 'Agate Black Metallic' 'Rosso Mars Metallic'\n",
      " 'White Clearcoat' 'Santorini Black Metallic' 'DB Black Clearcoat'\n",
      " 'Snowflake White Pearl' 'Glacial White Pearl' 'Maximum Steel Metallic'\n",
      " 'Blue Caelum' 'Dark Matter Metallic' '–' 'Oxford White'\n",
      " 'Cobra Beige Metallic' 'Velvet Red Pearlcoat' 'Python Green'\n",
      " 'Obsidian Black Metallic' 'Beluga Black' 'Blue Reflex Mica'\n",
      " 'Sparkling Silver' 'Black Clearcoat' 'Soul Red Crystal Metallic'\n",
      " 'Bright White Clearcoat' 'Shimmering Silver' 'Midnight Black Metallic'\n",
      " 'Cajun Red Tintcoat' 'Cirrus Silver Metallic' 'Blu'\n",
      " 'Burnished Bronze Metallic' 'Hellayella Clearcoat' 'Diamond Black'\n",
      " 'White Diamond Tri-Coat' 'Nebula Gray Pearl' 'Bronze Dune Metallic'\n",
      " 'Polymetal Gray Metallic' 'Nightfall Gray Metallic' 'Fuji White'\n",
      " 'Shadow Gray Metallic' 'Dark Moon Blue Metallic' 'Dark Sapphire'\n",
      " 'Firecracker Red Clearcoat' 'Black Raven' 'White Knuckle Clearcoat'\n",
      " 'Siren Red Tintcoat' 'Designo Magno Matte' 'Atomic Silver'\n",
      " 'Billet Silver Metallic Clearcoat' 'Ember Pearlcoat' 'Magnetic Black'\n",
      " 'Pacific Blue Metallic' 'Midnight Blue Metallic' 'Alta White'\n",
      " 'Eiger Grey' 'Diamond White' 'Onyx' 'Hyper Red' 'Ebony Twilight Metallic'\n",
      " 'Alpine White' 'Sonic Silver Metallic' 'Dark Ash Metallic'\n",
      " 'Volcano Grey Metallic' 'Patriot Blue Pearlcoat' 'Onyx Black'\n",
      " 'Titanium Silver' 'Granite Crystal Clearcoat Metallic' 'Nero Noctis'\n",
      " 'Silver Zynith' 'Black Cherry' 'Iconic Silver Metallic' 'Nero Daytona'\n",
      " 'Daytona Gray Pearl Effect' 'Dark Moss' 'Deep Crystal Blue Mica'\n",
      " 'China Blue' 'Magnetic Metallic' 'Midnight Black' 'Vega Blue'\n",
      " 'Sandstone Metallic' 'Machine Gray Metallic' 'C / C'\n",
      " 'Platinum Gray Metallic' 'Silver Ice Metallic' 'Carrara White Metallic'\n",
      " 'Black Sapphire Metallic' 'Go Mango!' 'White Frost Tri-Coat'\n",
      " 'Lizard Green' 'Santorin Black' 'Twilight Black' 'Gecko Pearlcoat'\n",
      " 'Satin Steel Metallic' 'Imperial Blue Metallic' 'Nautical Blue Pearl'\n",
      " 'Stone Gray Metallic' 'Quartzite Grey Metallic' 'Majestic Black Pearl'\n",
      " 'Shadow Black' 'Crimson Red Tintcoat' 'Silver Flare Metallic' 'Vik Black'\n",
      " 'Lunar Silver Metallic' 'Maroon' 'Redline Red' 'Iridescent Pearl Tricoat'\n",
      " 'Brilliant Silver Metallic' 'Lunar Blue Metallic' 'Matte White' 'Tan'\n",
      " 'Stormy Sea' 'Twilight Blue Metallic' 'Ibis White'\n",
      " 'Kodiak Brown Metallic' 'Crystal Black Silica' 'Sting Gray Clearcoat'\n",
      " 'Pristine White' 'Pearl White' 'Antimatter Blue Metallic'\n",
      " 'Tango Red Metallic' 'Crystal Black Pearl' 'Rift Metallic'\n",
      " 'Glacier White Metallic' 'Quartz White' 'Black Obsidian'\n",
      " 'Brilliant Black' 'Ruby Red Metallic Tinted Clearcoat'\n",
      " 'Tungsten Metallic' 'Magnetite Black Metallic' 'Jupiter Red' 'Glacier'\n",
      " 'Santorini Black' 'Navarre Blue'\n",
      " 'Phantom Black Pearl Effect / Black Roof' 'Isle of Man Green Metallic'\n",
      " 'Snowflake White Pearl Metallic' 'Brands Hatch Gray Metallic'\n",
      " 'Volcanic Orange' 'Liquid Platinum' 'Bayside Blue'\n",
      " 'Rapid Red Metallic Tinted Clearcoat' 'Majestic Plum Metallic'\n",
      " 'White Platinum Tri-Coat Metallic' 'Mosaic Black Metallic' 'Chalk'\n",
      " 'Black Noir Pearl' 'Nightfall Mica' 'Dark Gray Metallic'\n",
      " 'Mythos Black Metallic' 'Blueprint' 'Quicksilver Metallic' 'Frozen White'\n",
      " 'Lunare White Metallic' 'Verde' 'Dark Graphite Metallic' 'Mythos Black'\n",
      " 'Ebony Black' 'Ultra Black' 'Ingot Silver Metallic'\n",
      " 'Glacier Silver Metallic' 'Gun Metallic' 'Wind Chill Pearl'\n",
      " 'Anodized Blue Metallic' 'designo Diamond White' 'Tempest' 'Caviar'\n",
      " 'Phytonic Blue Metallic' 'Moonlight Cloud'\n",
      " 'Daytona Gray Pearl Effect w/ Black Roof' 'Bianco Isis'\n",
      " 'Carbonized Gray Metallic' 'Deep Blue Metallic' 'Ametrin Metallic'\n",
      " 'Super Black' 'Rosso Corsa' 'Blue Metallic' 'Iridium Metallic'\n",
      " 'Dark Slate Metallic' 'Manhattan Noir Metallic' 'Alfa White'\n",
      " 'Baltic Gray' 'Northsky Blue Metallic' 'Super White'\n",
      " 'Carbon Black Metallic' 'Horizon Blue' 'Jungle Green'\n",
      " 'Cayenne Red Tintcoat' 'Pink' 'Daytona Gray' 'Gentian Blue Metallic'\n",
      " 'Sangria Red' 'Kemora Gray Metallic' 'Magnetite Gray Metallic'\n",
      " 'Octane Red Pearlcoat' 'Custom Color' 'Ultra White' 'Pacific Blue'\n",
      " 'Ruby Flare Pearl' 'Caspian Blue' 'Silver Radiance'\n",
      " 'Carpathian Grey Premium Metallic' 'Ice' 'Balloon White'\n",
      " 'Shoreline Blue Pearl' 'Firenze Red Metallic' 'Remington Red Metallic'\n",
      " 'Orca Black Metallic' 'Radiant Red Metallic II' 'Mineral White'\n",
      " 'Glacier White' 'Snow White Pearl' 'Iridium Silver Metallic'\n",
      " 'Carpathian Grey' 'Mountain Air Metallic' 'Selenite Gray Metallic'\n",
      " 'Graphite Grey Metallic' 'Selenite Grey Metallic' 'Kinetic Blue'\n",
      " 'Wolf Gray' 'Star White' 'Emin White' 'Indus Silver'\n",
      " 'Matador Red Metallic' 'Portofino Gray' 'Black Forest Green'\n",
      " 'Dazzling White' 'Flame Red Clearcoat' 'Glacier Blue Metallic'\n",
      " 'Arctic White' 'Rosso' 'Silver Mist' 'Bianco Icarus Metallic'\n",
      " 'Firenze Red' 'Ironman Silver' 'Red Obsession' 'Magnetic Gray Metallic'\n",
      " 'Garnet Red Metallic' 'Vulcano Black Metallic' 'Magnetic Gray Clearcoat']\n",
      "clean_title: ['Yes']\n",
      "accident: ['None reported' 'At least 1 accident or damage reported']\n"
     ]
    }
   ],
   "source": [
    "# check unique values of categorical data\n",
    "print(\"columns and respective unique values:\")\n",
    "print(\"brands:\", train_df.brand.unique())\n",
    "# print(\"model:\", train_df.model.unique())\n",
    "print(\"fuel_type:\", train_df.fuel_type.unique())\n",
    "print(\"ext_col:\", train_df.ext_col.unique())\n",
    "print(\"clean_title:\", train_df.clean_title.unique())\n",
    "print(\"accident:\", train_df.accident.unique())"
   ]
  },
  {
   "cell_type": "markdown",
   "id": "a70c0182",
   "metadata": {
    "execution": {
     "iopub.execute_input": "2024-06-04T16:29:28.729010Z",
     "iopub.status.busy": "2024-06-04T16:29:28.728395Z",
     "iopub.status.idle": "2024-06-04T16:29:28.738212Z",
     "shell.execute_reply": "2024-06-04T16:29:28.736540Z",
     "shell.execute_reply.started": "2024-06-04T16:29:28.728969Z"
    },
    "papermill": {
     "duration": 0.006448,
     "end_time": "2024-06-04T17:12:39.405622",
     "exception": false,
     "start_time": "2024-06-04T17:12:39.399174",
     "status": "completed"
    },
    "tags": []
   },
   "source": [
    "lets check missing data:"
   ]
  },
  {
   "cell_type": "code",
   "execution_count": 7,
   "id": "3d01911e",
   "metadata": {
    "execution": {
     "iopub.execute_input": "2024-06-04T17:12:39.423223Z",
     "iopub.status.busy": "2024-06-04T17:12:39.422665Z",
     "iopub.status.idle": "2024-06-04T17:12:39.477652Z",
     "shell.execute_reply": "2024-06-04T17:12:39.476533Z"
    },
    "papermill": {
     "duration": 0.068289,
     "end_time": "2024-06-04T17:12:39.481213",
     "exception": false,
     "start_time": "2024-06-04T17:12:39.412924",
     "status": "completed"
    },
    "tags": []
   },
   "outputs": [
    {
     "name": "stdout",
     "output_type": "stream",
     "text": [
      "NaN value in brand: 0\n",
      "NaN value in model: 0\n",
      "NaN value in model_year: 0\n",
      "NaN value in fuel_type: 0\n",
      "'-' or 'not supported' value in fuel_type: 298\n",
      "NaN value in milage: 0\n",
      "NaN value in ext_col: 0\n",
      "NaN value in accident: 0\n",
      "NaN value in price: 0\n",
      "0 value in price: 0\n"
     ]
    }
   ],
   "source": [
    "# check missing values\n",
    "print(\"NaN value in brand:\", train_df.brand.isna().sum())\n",
    "print(\"NaN value in model:\", train_df.model.isna().sum())\n",
    "print(\"NaN value in model_year:\", train_df.model_year.isna().sum())\n",
    "print(\"NaN value in fuel_type:\", train_df.fuel_type.isna().sum())\n",
    "print(\"'-' or 'not supported' value in fuel_type:\", train_df[(train_df.fuel_type == '–') | (train_df.fuel_type == 'not supported')].shape[0])\n",
    "print(\"NaN value in milage:\", train_df.milage.isna().sum())\n",
    "print(\"NaN value in ext_col:\", train_df.ext_col.isna().sum())\n",
    "print(\"NaN value in accident:\", train_df.accident.isna().sum())\n",
    "print(\"NaN value in price:\", train_df.price.isna().sum())\n",
    "print(\"0 value in price:\", train_df[(train_df.price == 0)].shape[0])"
   ]
  },
  {
   "cell_type": "markdown",
   "id": "1c3b3bda",
   "metadata": {
    "papermill": {
     "duration": 0.005724,
     "end_time": "2024-06-04T17:12:39.493164",
     "exception": false,
     "start_time": "2024-06-04T17:12:39.487440",
     "status": "completed"
    },
    "tags": []
   },
   "source": [
    "quick thoughts upon inspection:\n",
    "\n",
    "There are columns that are clearly useful and important:\n",
    "* *brands*\n",
    "* *model_year*\n",
    "* *milage*\n",
    "* *accident*\n",
    "\n",
    "There are also columns that needs work:\n",
    "* *fuel_type* has some missing value & might be useful, we will drop columns with missing values & proceed\n",
    "* *ext_col* may be useful, but need transformation (try to convert most to simple color: white, red, black etc)\n",
    "\n",
    "Finally there are columns deemed not significant and we will proceed without for now:\n",
    "* *model* will not be used for now, a lot of work to do and seems less significant\n",
    "\n",
    "Also it is noteworthy that the target value *price* is free of missing value or 0"
   ]
  },
  {
   "cell_type": "markdown",
   "id": "89628902",
   "metadata": {
    "papermill": {
     "duration": 0.005745,
     "end_time": "2024-06-04T17:12:39.505639",
     "exception": false,
     "start_time": "2024-06-04T17:12:39.499894",
     "status": "completed"
    },
    "tags": []
   },
   "source": [
    "## 1.3 Data Cleaning\n",
    "remove columns with *fuel_type* having missing values"
   ]
  },
  {
   "cell_type": "code",
   "execution_count": null,
   "id": "be10ea9b",
   "metadata": {
    "papermill": {
     "duration": 0.005706,
     "end_time": "2024-06-04T17:12:39.517244",
     "exception": false,
     "start_time": "2024-06-04T17:12:39.511538",
     "status": "completed"
    },
    "tags": []
   },
   "outputs": [],
   "source": []
  },
  {
   "cell_type": "markdown",
   "id": "0625767a",
   "metadata": {
    "papermill": {
     "duration": 0.005629,
     "end_time": "2024-06-04T17:12:39.528875",
     "exception": false,
     "start_time": "2024-06-04T17:12:39.523246",
     "status": "completed"
    },
    "tags": []
   },
   "source": [
    "## 1.4 Data Transformation"
   ]
  },
  {
   "cell_type": "markdown",
   "id": "94b1a0ab",
   "metadata": {
    "papermill": {
     "duration": 0.005482,
     "end_time": "2024-06-04T17:12:39.540268",
     "exception": false,
     "start_time": "2024-06-04T17:12:39.534786",
     "status": "completed"
    },
    "tags": []
   },
   "source": [
    "### 1.4.1 Deal with the strings in column ext_col to make them more generic\n",
    "turn weird color names into general colors (e.g. white, black, blue...)\n",
    "make a new column?\n",
    "then mayyybe remove the weird colors if there is minimal of them? want to make sure the test data has same distribution tho....\n"
   ]
  },
  {
   "cell_type": "markdown",
   "id": "654bed8c",
   "metadata": {
    "papermill": {
     "duration": 0.005518,
     "end_time": "2024-06-04T17:12:39.551523",
     "exception": false,
     "start_time": "2024-06-04T17:12:39.546005",
     "status": "completed"
    },
    "tags": []
   },
   "source": [
    "### 1.4.2 One-hot encoding the categorical data\n",
    "use some library to one-hot encode: brand, fuel_type, (new)ext_col, accident"
   ]
  },
  {
   "cell_type": "markdown",
   "id": "0dd68e8d",
   "metadata": {
    "papermill": {
     "duration": 0.005565,
     "end_time": "2024-06-04T17:12:39.562811",
     "exception": false,
     "start_time": "2024-06-04T17:12:39.557246",
     "status": "completed"
    },
    "tags": []
   },
   "source": [
    "### 1.4.3 Make a new dataframe for the preprocessed data"
   ]
  }
 ],
 "metadata": {
  "kaggle": {
   "accelerator": "none",
   "dataSources": [
    {
     "datasetId": 5149343,
     "sourceId": 8605671,
     "sourceType": "datasetVersion"
    }
   ],
   "dockerImageVersionId": 30715,
   "isGpuEnabled": false,
   "isInternetEnabled": true,
   "language": "python",
   "sourceType": "notebook"
  },
  "kernelspec": {
   "display_name": "Python 3",
   "language": "python",
   "name": "python3"
  },
  "language_info": {
   "codemirror_mode": {
    "name": "ipython",
    "version": 3
   },
   "file_extension": ".py",
   "mimetype": "text/x-python",
   "name": "python",
   "nbconvert_exporter": "python",
   "pygments_lexer": "ipython3",
   "version": "3.10.13"
  },
  "papermill": {
   "default_parameters": {},
   "duration": 5.073362,
   "end_time": "2024-06-04T17:12:40.090121",
   "environment_variables": {},
   "exception": null,
   "input_path": "__notebook__.ipynb",
   "output_path": "__notebook__.ipynb",
   "parameters": {},
   "start_time": "2024-06-04T17:12:35.016759",
   "version": "2.5.0"
  }
 },
 "nbformat": 4,
 "nbformat_minor": 5
}
