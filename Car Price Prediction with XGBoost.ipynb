{
 "cells": [
  {
   "cell_type": "markdown",
   "id": "c0fe08fb",
   "metadata": {
    "papermill": {
     "duration": 0.01496,
     "end_time": "2024-06-11T17:50:06.392968",
     "exception": false,
     "start_time": "2024-06-11T17:50:06.378008",
     "status": "completed"
    },
    "tags": []
   },
   "source": [
    "# Used Vehicle Price Prediction: KaggleX Skill Assessment Challenge\n",
    "This work is for the participation the challenge mentioned in the title, aiming to predict used vehicle prices based on the data given.\n",
    "\n",
    "## Dataset\n",
    "We are given train.csv and test.csv, with the former (as the name suggests) having 12 features column an 1 target column of price. The test data lacks the target price column so has 12 columns.\n",
    "\n",
    "The test data is usually large (from my experience), having about 36k rows compared to the 54k rows in the training dataset. (may make the prediction hard if the test data distribution is marginally different from training data?)\n",
    "\n",
    "## Methodology\n",
    "Off the top of my head I will approach this similar to my previous project where we follow the steps of:\n",
    "1. data exploration: distribution, outliers, data types, correlation...\n",
    "2. data preprocessing: data cleaning, feature engineering, train-test split\n",
    "3. baseline modeling: use baseline models like decision trees, random forest & linear regression\n",
    "4. model2 : build fancy model trying to beat baseline model\n",
    "5. model tuning: overfit then prune? hyperparameter-tuning? monitor loss-curve? early stopping?\n",
    "6. model evaluation?\n"
   ]
  },
  {
   "cell_type": "markdown",
   "id": "b87fd8d1",
   "metadata": {
    "papermill": {
     "duration": 0.014501,
     "end_time": "2024-06-11T17:50:06.421683",
     "exception": false,
     "start_time": "2024-06-11T17:50:06.407182",
     "status": "completed"
    },
    "tags": []
   },
   "source": [
    "# 1. Data Preparation "
   ]
  },
  {
   "cell_type": "markdown",
   "id": "6ac36f9b",
   "metadata": {
    "papermill": {
     "duration": 0.015077,
     "end_time": "2024-06-11T17:50:06.450885",
     "exception": false,
     "start_time": "2024-06-11T17:50:06.435808",
     "status": "completed"
    },
    "tags": []
   },
   "source": [
    "## 1.1 Data Loading"
   ]
  },
  {
   "cell_type": "code",
   "execution_count": 1,
   "id": "599563ad",
   "metadata": {
    "_cell_guid": "b1076dfc-b9ad-4769-8c92-a6c4dae69d19",
    "_uuid": "8f2839f25d086af736a60e9eeb907d3b93b6e0e5",
    "execution": {
     "iopub.execute_input": "2024-06-11T17:50:06.481816Z",
     "iopub.status.busy": "2024-06-11T17:50:06.481182Z",
     "iopub.status.idle": "2024-06-11T17:50:07.221704Z",
     "shell.execute_reply": "2024-06-11T17:50:07.220553Z"
    },
    "papermill": {
     "duration": 0.759021,
     "end_time": "2024-06-11T17:50:07.223793",
     "exception": false,
     "start_time": "2024-06-11T17:50:06.464772",
     "status": "completed"
    },
    "tags": []
   },
   "outputs": [
    {
     "name": "stdout",
     "output_type": "stream",
     "text": [
      "/kaggle/input/kagglex/sample_submission.csv\n",
      "/kaggle/input/kagglex/train.csv\n",
      "/kaggle/input/kagglex/test.csv\n"
     ]
    }
   ],
   "source": [
    "# This Python 3 environment comes with many helpful analytics libraries installed\n",
    "# It is defined by the kaggle/python Docker image: https://github.com/kaggle/docker-python\n",
    "# For example, here's several helpful packages to load\n",
    "\n",
    "import numpy as np # linear algebra\n",
    "import pandas as pd # data processing, CSV file I/O (e.g. pd.read_csv)\n",
    "\n",
    "# Input data files are available in the read-only \"../input/\" directory\n",
    "# For example, running this (by clicking run or pressing Shift+Enter) will list all files under the input directory\n",
    "\n",
    "import os\n",
    "for dirname, _, filenames in os.walk('/kaggle/input'):\n",
    "    for filename in filenames:\n",
    "        print(os.path.join(dirname, filename))\n",
    "\n",
    "# You can write up to 20GB to the current directory (/kaggle/working/) that gets preserved as output when you create a version using \"Save & Run All\" \n",
    "# You can also write temporary files to /kaggle/temp/, but they won't be saved outside of the current session"
   ]
  },
  {
   "cell_type": "code",
   "execution_count": 2,
   "id": "721c143d",
   "metadata": {
    "execution": {
     "iopub.execute_input": "2024-06-11T17:50:07.255590Z",
     "iopub.status.busy": "2024-06-11T17:50:07.255226Z",
     "iopub.status.idle": "2024-06-11T17:50:07.636119Z",
     "shell.execute_reply": "2024-06-11T17:50:07.635090Z"
    },
    "papermill": {
     "duration": 0.398194,
     "end_time": "2024-06-11T17:50:07.638375",
     "exception": false,
     "start_time": "2024-06-11T17:50:07.240181",
     "status": "completed"
    },
    "tags": []
   },
   "outputs": [
    {
     "name": "stdout",
     "output_type": "stream",
     "text": [
      "(54273, 13)\n",
      "(36183, 12)\n"
     ]
    }
   ],
   "source": [
    "#load the train.csv into a dataframe\n",
    "train_df = pd.read_csv('/kaggle/input/kagglex/train.csv')\n",
    "test_df = pd.read_csv('/kaggle/input/kagglex/test.csv')\n",
    "\n",
    "print(train_df.shape)\n",
    "print(test_df.shape)"
   ]
  },
  {
   "cell_type": "markdown",
   "id": "ab538fd0",
   "metadata": {
    "papermill": {
     "duration": 0.014524,
     "end_time": "2024-06-11T17:50:07.668032",
     "exception": false,
     "start_time": "2024-06-11T17:50:07.653508",
     "status": "completed"
    },
    "tags": []
   },
   "source": [
    "## 1.2 Data Exploration"
   ]
  },
  {
   "cell_type": "code",
   "execution_count": 3,
   "id": "e40d5679",
   "metadata": {
    "execution": {
     "iopub.execute_input": "2024-06-11T17:50:07.699663Z",
     "iopub.status.busy": "2024-06-11T17:50:07.699315Z",
     "iopub.status.idle": "2024-06-11T17:50:07.723557Z",
     "shell.execute_reply": "2024-06-11T17:50:07.722695Z"
    },
    "papermill": {
     "duration": 0.042555,
     "end_time": "2024-06-11T17:50:07.725772",
     "exception": false,
     "start_time": "2024-06-11T17:50:07.683217",
     "status": "completed"
    },
    "tags": []
   },
   "outputs": [
    {
     "data": {
      "text/html": [
       "<div>\n",
       "<style scoped>\n",
       "    .dataframe tbody tr th:only-of-type {\n",
       "        vertical-align: middle;\n",
       "    }\n",
       "\n",
       "    .dataframe tbody tr th {\n",
       "        vertical-align: top;\n",
       "    }\n",
       "\n",
       "    .dataframe thead th {\n",
       "        text-align: right;\n",
       "    }\n",
       "</style>\n",
       "<table border=\"1\" class=\"dataframe\">\n",
       "  <thead>\n",
       "    <tr style=\"text-align: right;\">\n",
       "      <th></th>\n",
       "      <th>id</th>\n",
       "      <th>brand</th>\n",
       "      <th>model</th>\n",
       "      <th>model_year</th>\n",
       "      <th>milage</th>\n",
       "      <th>fuel_type</th>\n",
       "      <th>engine</th>\n",
       "      <th>transmission</th>\n",
       "      <th>ext_col</th>\n",
       "      <th>int_col</th>\n",
       "      <th>accident</th>\n",
       "      <th>clean_title</th>\n",
       "      <th>price</th>\n",
       "    </tr>\n",
       "  </thead>\n",
       "  <tbody>\n",
       "    <tr>\n",
       "      <th>0</th>\n",
       "      <td>0</td>\n",
       "      <td>Ford</td>\n",
       "      <td>F-150 Lariat</td>\n",
       "      <td>2018</td>\n",
       "      <td>74349</td>\n",
       "      <td>Gasoline</td>\n",
       "      <td>375.0HP 3.5L V6 Cylinder Engine Gasoline Fuel</td>\n",
       "      <td>10-Speed A/T</td>\n",
       "      <td>Blue</td>\n",
       "      <td>Gray</td>\n",
       "      <td>None reported</td>\n",
       "      <td>Yes</td>\n",
       "      <td>11000</td>\n",
       "    </tr>\n",
       "    <tr>\n",
       "      <th>1</th>\n",
       "      <td>1</td>\n",
       "      <td>BMW</td>\n",
       "      <td>335 i</td>\n",
       "      <td>2007</td>\n",
       "      <td>80000</td>\n",
       "      <td>Gasoline</td>\n",
       "      <td>300.0HP 3.0L Straight 6 Cylinder Engine Gasoli...</td>\n",
       "      <td>6-Speed M/T</td>\n",
       "      <td>Black</td>\n",
       "      <td>Black</td>\n",
       "      <td>None reported</td>\n",
       "      <td>Yes</td>\n",
       "      <td>8250</td>\n",
       "    </tr>\n",
       "    <tr>\n",
       "      <th>2</th>\n",
       "      <td>2</td>\n",
       "      <td>Jaguar</td>\n",
       "      <td>XF Luxury</td>\n",
       "      <td>2009</td>\n",
       "      <td>91491</td>\n",
       "      <td>Gasoline</td>\n",
       "      <td>300.0HP 4.2L 8 Cylinder Engine Gasoline Fuel</td>\n",
       "      <td>6-Speed A/T</td>\n",
       "      <td>Purple</td>\n",
       "      <td>Beige</td>\n",
       "      <td>None reported</td>\n",
       "      <td>Yes</td>\n",
       "      <td>15000</td>\n",
       "    </tr>\n",
       "    <tr>\n",
       "      <th>3</th>\n",
       "      <td>3</td>\n",
       "      <td>BMW</td>\n",
       "      <td>X7 xDrive40i</td>\n",
       "      <td>2022</td>\n",
       "      <td>2437</td>\n",
       "      <td>Hybrid</td>\n",
       "      <td>335.0HP 3.0L Straight 6 Cylinder Engine Gasoli...</td>\n",
       "      <td>Transmission w/Dual Shift Mode</td>\n",
       "      <td>Gray</td>\n",
       "      <td>Brown</td>\n",
       "      <td>None reported</td>\n",
       "      <td>Yes</td>\n",
       "      <td>63500</td>\n",
       "    </tr>\n",
       "    <tr>\n",
       "      <th>4</th>\n",
       "      <td>4</td>\n",
       "      <td>Pontiac</td>\n",
       "      <td>Firebird Base</td>\n",
       "      <td>2001</td>\n",
       "      <td>111000</td>\n",
       "      <td>Gasoline</td>\n",
       "      <td>200.0HP 3.8L V6 Cylinder Engine Gasoline Fuel</td>\n",
       "      <td>A/T</td>\n",
       "      <td>White</td>\n",
       "      <td>Black</td>\n",
       "      <td>None reported</td>\n",
       "      <td>Yes</td>\n",
       "      <td>7850</td>\n",
       "    </tr>\n",
       "  </tbody>\n",
       "</table>\n",
       "</div>"
      ],
      "text/plain": [
       "   id    brand          model  model_year  milage fuel_type  \\\n",
       "0   0     Ford   F-150 Lariat        2018   74349  Gasoline   \n",
       "1   1      BMW          335 i        2007   80000  Gasoline   \n",
       "2   2   Jaguar      XF Luxury        2009   91491  Gasoline   \n",
       "3   3      BMW   X7 xDrive40i        2022    2437    Hybrid   \n",
       "4   4  Pontiac  Firebird Base        2001  111000  Gasoline   \n",
       "\n",
       "                                              engine  \\\n",
       "0      375.0HP 3.5L V6 Cylinder Engine Gasoline Fuel   \n",
       "1  300.0HP 3.0L Straight 6 Cylinder Engine Gasoli...   \n",
       "2       300.0HP 4.2L 8 Cylinder Engine Gasoline Fuel   \n",
       "3  335.0HP 3.0L Straight 6 Cylinder Engine Gasoli...   \n",
       "4      200.0HP 3.8L V6 Cylinder Engine Gasoline Fuel   \n",
       "\n",
       "                     transmission ext_col int_col       accident clean_title  \\\n",
       "0                    10-Speed A/T    Blue    Gray  None reported         Yes   \n",
       "1                     6-Speed M/T   Black   Black  None reported         Yes   \n",
       "2                     6-Speed A/T  Purple   Beige  None reported         Yes   \n",
       "3  Transmission w/Dual Shift Mode    Gray   Brown  None reported         Yes   \n",
       "4                             A/T   White   Black  None reported         Yes   \n",
       "\n",
       "   price  \n",
       "0  11000  \n",
       "1   8250  \n",
       "2  15000  \n",
       "3  63500  \n",
       "4   7850  "
      ]
     },
     "execution_count": 3,
     "metadata": {},
     "output_type": "execute_result"
    }
   ],
   "source": [
    "train_df.head()"
   ]
  },
  {
   "cell_type": "code",
   "execution_count": 4,
   "id": "0811d78f",
   "metadata": {
    "execution": {
     "iopub.execute_input": "2024-06-11T17:50:07.760379Z",
     "iopub.status.busy": "2024-06-11T17:50:07.760060Z",
     "iopub.status.idle": "2024-06-11T17:50:07.774775Z",
     "shell.execute_reply": "2024-06-11T17:50:07.773903Z"
    },
    "papermill": {
     "duration": 0.034408,
     "end_time": "2024-06-11T17:50:07.777311",
     "exception": false,
     "start_time": "2024-06-11T17:50:07.742903",
     "status": "completed"
    },
    "tags": []
   },
   "outputs": [
    {
     "data": {
      "text/html": [
       "<div>\n",
       "<style scoped>\n",
       "    .dataframe tbody tr th:only-of-type {\n",
       "        vertical-align: middle;\n",
       "    }\n",
       "\n",
       "    .dataframe tbody tr th {\n",
       "        vertical-align: top;\n",
       "    }\n",
       "\n",
       "    .dataframe thead th {\n",
       "        text-align: right;\n",
       "    }\n",
       "</style>\n",
       "<table border=\"1\" class=\"dataframe\">\n",
       "  <thead>\n",
       "    <tr style=\"text-align: right;\">\n",
       "      <th></th>\n",
       "      <th>id</th>\n",
       "      <th>brand</th>\n",
       "      <th>model</th>\n",
       "      <th>model_year</th>\n",
       "      <th>milage</th>\n",
       "      <th>fuel_type</th>\n",
       "      <th>engine</th>\n",
       "      <th>transmission</th>\n",
       "      <th>ext_col</th>\n",
       "      <th>int_col</th>\n",
       "      <th>accident</th>\n",
       "      <th>clean_title</th>\n",
       "    </tr>\n",
       "  </thead>\n",
       "  <tbody>\n",
       "    <tr>\n",
       "      <th>0</th>\n",
       "      <td>54273</td>\n",
       "      <td>Mercedes-Benz</td>\n",
       "      <td>E-Class E 350</td>\n",
       "      <td>2014</td>\n",
       "      <td>73000</td>\n",
       "      <td>Gasoline</td>\n",
       "      <td>302.0HP 3.5L V6 Cylinder Engine Gasoline Fuel</td>\n",
       "      <td>A/T</td>\n",
       "      <td>White</td>\n",
       "      <td>Beige</td>\n",
       "      <td>None reported</td>\n",
       "      <td>Yes</td>\n",
       "    </tr>\n",
       "    <tr>\n",
       "      <th>1</th>\n",
       "      <td>54274</td>\n",
       "      <td>Lexus</td>\n",
       "      <td>RX 350 Base</td>\n",
       "      <td>2015</td>\n",
       "      <td>128032</td>\n",
       "      <td>Gasoline</td>\n",
       "      <td>275.0HP 3.5L V6 Cylinder Engine Gasoline Fuel</td>\n",
       "      <td>8-Speed A/T</td>\n",
       "      <td>Silver</td>\n",
       "      <td>Black</td>\n",
       "      <td>None reported</td>\n",
       "      <td>Yes</td>\n",
       "    </tr>\n",
       "    <tr>\n",
       "      <th>2</th>\n",
       "      <td>54275</td>\n",
       "      <td>Mercedes-Benz</td>\n",
       "      <td>C-Class C 300</td>\n",
       "      <td>2015</td>\n",
       "      <td>51983</td>\n",
       "      <td>Gasoline</td>\n",
       "      <td>241.0HP 2.0L 4 Cylinder Engine Gasoline Fuel</td>\n",
       "      <td>7-Speed A/T</td>\n",
       "      <td>Blue</td>\n",
       "      <td>White</td>\n",
       "      <td>None reported</td>\n",
       "      <td>Yes</td>\n",
       "    </tr>\n",
       "    <tr>\n",
       "      <th>3</th>\n",
       "      <td>54276</td>\n",
       "      <td>Land</td>\n",
       "      <td>Rover Range Rover 5.0L Supercharged Autobiogra...</td>\n",
       "      <td>2018</td>\n",
       "      <td>29500</td>\n",
       "      <td>Gasoline</td>\n",
       "      <td>518.0HP 5.0L 8 Cylinder Engine Gasoline Fuel</td>\n",
       "      <td>Transmission w/Dual Shift Mode</td>\n",
       "      <td>White</td>\n",
       "      <td>White</td>\n",
       "      <td>At least 1 accident or damage reported</td>\n",
       "      <td>Yes</td>\n",
       "    </tr>\n",
       "    <tr>\n",
       "      <th>4</th>\n",
       "      <td>54277</td>\n",
       "      <td>BMW</td>\n",
       "      <td>X6 xDrive40i</td>\n",
       "      <td>2020</td>\n",
       "      <td>90000</td>\n",
       "      <td>Gasoline</td>\n",
       "      <td>335.0HP 3.0L Straight 6 Cylinder Engine Gasoli...</td>\n",
       "      <td>8-Speed A/T</td>\n",
       "      <td>White</td>\n",
       "      <td>Black</td>\n",
       "      <td>At least 1 accident or damage reported</td>\n",
       "      <td>Yes</td>\n",
       "    </tr>\n",
       "  </tbody>\n",
       "</table>\n",
       "</div>"
      ],
      "text/plain": [
       "      id          brand                                              model  \\\n",
       "0  54273  Mercedes-Benz                                      E-Class E 350   \n",
       "1  54274          Lexus                                        RX 350 Base   \n",
       "2  54275  Mercedes-Benz                                      C-Class C 300   \n",
       "3  54276           Land  Rover Range Rover 5.0L Supercharged Autobiogra...   \n",
       "4  54277            BMW                                       X6 xDrive40i   \n",
       "\n",
       "   model_year  milage fuel_type  \\\n",
       "0        2014   73000  Gasoline   \n",
       "1        2015  128032  Gasoline   \n",
       "2        2015   51983  Gasoline   \n",
       "3        2018   29500  Gasoline   \n",
       "4        2020   90000  Gasoline   \n",
       "\n",
       "                                              engine  \\\n",
       "0      302.0HP 3.5L V6 Cylinder Engine Gasoline Fuel   \n",
       "1      275.0HP 3.5L V6 Cylinder Engine Gasoline Fuel   \n",
       "2       241.0HP 2.0L 4 Cylinder Engine Gasoline Fuel   \n",
       "3       518.0HP 5.0L 8 Cylinder Engine Gasoline Fuel   \n",
       "4  335.0HP 3.0L Straight 6 Cylinder Engine Gasoli...   \n",
       "\n",
       "                     transmission ext_col int_col  \\\n",
       "0                             A/T   White   Beige   \n",
       "1                     8-Speed A/T  Silver   Black   \n",
       "2                     7-Speed A/T    Blue   White   \n",
       "3  Transmission w/Dual Shift Mode   White   White   \n",
       "4                     8-Speed A/T   White   Black   \n",
       "\n",
       "                                 accident clean_title  \n",
       "0                           None reported         Yes  \n",
       "1                           None reported         Yes  \n",
       "2                           None reported         Yes  \n",
       "3  At least 1 accident or damage reported         Yes  \n",
       "4  At least 1 accident or damage reported         Yes  "
      ]
     },
     "execution_count": 4,
     "metadata": {},
     "output_type": "execute_result"
    }
   ],
   "source": [
    "test_df.head()"
   ]
  },
  {
   "cell_type": "markdown",
   "id": "b7f040e9",
   "metadata": {
    "papermill": {
     "duration": 0.014529,
     "end_time": "2024-06-11T17:50:07.808211",
     "exception": false,
     "start_time": "2024-06-11T17:50:07.793682",
     "status": "completed"
    },
    "tags": []
   },
   "source": [
    "Quick look and the data suggest some columns should be more valuable than others?\n",
    "* brand\n",
    "* ~model??~\n",
    "* model_year\n",
    "* fuel_type\n",
    "* milage (need transformation?)\n",
    "* ext_col (need transformation, make it simple)\n",
    "* accident\n",
    "\n",
    "engine is a mess (need transformation), will not consider first as heuristically i think it might be less important. color can be important but not sure if enough. year, brand and accident should the most important.\n",
    "\n",
    "lets check the distribution for numerical and unique value of each categorical column to further determine:"
   ]
  },
  {
   "cell_type": "code",
   "execution_count": 5,
   "id": "594b4fcf",
   "metadata": {
    "execution": {
     "iopub.execute_input": "2024-06-11T17:50:07.839455Z",
     "iopub.status.busy": "2024-06-11T17:50:07.839150Z",
     "iopub.status.idle": "2024-06-11T17:50:07.868561Z",
     "shell.execute_reply": "2024-06-11T17:50:07.867652Z"
    },
    "papermill": {
     "duration": 0.047469,
     "end_time": "2024-06-11T17:50:07.870582",
     "exception": false,
     "start_time": "2024-06-11T17:50:07.823113",
     "status": "completed"
    },
    "tags": []
   },
   "outputs": [
    {
     "data": {
      "text/html": [
       "<div>\n",
       "<style scoped>\n",
       "    .dataframe tbody tr th:only-of-type {\n",
       "        vertical-align: middle;\n",
       "    }\n",
       "\n",
       "    .dataframe tbody tr th {\n",
       "        vertical-align: top;\n",
       "    }\n",
       "\n",
       "    .dataframe thead th {\n",
       "        text-align: right;\n",
       "    }\n",
       "</style>\n",
       "<table border=\"1\" class=\"dataframe\">\n",
       "  <thead>\n",
       "    <tr style=\"text-align: right;\">\n",
       "      <th></th>\n",
       "      <th>id</th>\n",
       "      <th>model_year</th>\n",
       "      <th>milage</th>\n",
       "      <th>price</th>\n",
       "    </tr>\n",
       "  </thead>\n",
       "  <tbody>\n",
       "    <tr>\n",
       "      <th>count</th>\n",
       "      <td>54273.000000</td>\n",
       "      <td>54273.000000</td>\n",
       "      <td>54273.000000</td>\n",
       "      <td>5.427300e+04</td>\n",
       "    </tr>\n",
       "    <tr>\n",
       "      <th>mean</th>\n",
       "      <td>27136.000000</td>\n",
       "      <td>2015.091979</td>\n",
       "      <td>72746.175667</td>\n",
       "      <td>3.921844e+04</td>\n",
       "    </tr>\n",
       "    <tr>\n",
       "      <th>std</th>\n",
       "      <td>15667.409917</td>\n",
       "      <td>5.588909</td>\n",
       "      <td>50469.490448</td>\n",
       "      <td>7.282634e+04</td>\n",
       "    </tr>\n",
       "    <tr>\n",
       "      <th>min</th>\n",
       "      <td>0.000000</td>\n",
       "      <td>1974.000000</td>\n",
       "      <td>100.000000</td>\n",
       "      <td>2.000000e+03</td>\n",
       "    </tr>\n",
       "    <tr>\n",
       "      <th>25%</th>\n",
       "      <td>13568.000000</td>\n",
       "      <td>2012.000000</td>\n",
       "      <td>32268.000000</td>\n",
       "      <td>1.550000e+04</td>\n",
       "    </tr>\n",
       "    <tr>\n",
       "      <th>50%</th>\n",
       "      <td>27136.000000</td>\n",
       "      <td>2016.000000</td>\n",
       "      <td>66107.000000</td>\n",
       "      <td>2.800000e+04</td>\n",
       "    </tr>\n",
       "    <tr>\n",
       "      <th>75%</th>\n",
       "      <td>40704.000000</td>\n",
       "      <td>2019.000000</td>\n",
       "      <td>102000.000000</td>\n",
       "      <td>4.500000e+04</td>\n",
       "    </tr>\n",
       "    <tr>\n",
       "      <th>max</th>\n",
       "      <td>54272.000000</td>\n",
       "      <td>2024.000000</td>\n",
       "      <td>405000.000000</td>\n",
       "      <td>2.954083e+06</td>\n",
       "    </tr>\n",
       "  </tbody>\n",
       "</table>\n",
       "</div>"
      ],
      "text/plain": [
       "                 id    model_year         milage         price\n",
       "count  54273.000000  54273.000000   54273.000000  5.427300e+04\n",
       "mean   27136.000000   2015.091979   72746.175667  3.921844e+04\n",
       "std    15667.409917      5.588909   50469.490448  7.282634e+04\n",
       "min        0.000000   1974.000000     100.000000  2.000000e+03\n",
       "25%    13568.000000   2012.000000   32268.000000  1.550000e+04\n",
       "50%    27136.000000   2016.000000   66107.000000  2.800000e+04\n",
       "75%    40704.000000   2019.000000  102000.000000  4.500000e+04\n",
       "max    54272.000000   2024.000000  405000.000000  2.954083e+06"
      ]
     },
     "execution_count": 5,
     "metadata": {},
     "output_type": "execute_result"
    }
   ],
   "source": [
    "# check the distribution of numerical numbers\n",
    "train_df.describe()"
   ]
  },
  {
   "cell_type": "code",
   "execution_count": 6,
   "id": "c86ff3dd",
   "metadata": {
    "execution": {
     "iopub.execute_input": "2024-06-11T17:50:07.902470Z",
     "iopub.status.busy": "2024-06-11T17:50:07.902202Z",
     "iopub.status.idle": "2024-06-11T17:50:07.920674Z",
     "shell.execute_reply": "2024-06-11T17:50:07.919667Z"
    },
    "papermill": {
     "duration": 0.036866,
     "end_time": "2024-06-11T17:50:07.922623",
     "exception": false,
     "start_time": "2024-06-11T17:50:07.885757",
     "status": "completed"
    },
    "tags": []
   },
   "outputs": [
    {
     "data": {
      "text/html": [
       "<div>\n",
       "<style scoped>\n",
       "    .dataframe tbody tr th:only-of-type {\n",
       "        vertical-align: middle;\n",
       "    }\n",
       "\n",
       "    .dataframe tbody tr th {\n",
       "        vertical-align: top;\n",
       "    }\n",
       "\n",
       "    .dataframe thead th {\n",
       "        text-align: right;\n",
       "    }\n",
       "</style>\n",
       "<table border=\"1\" class=\"dataframe\">\n",
       "  <thead>\n",
       "    <tr style=\"text-align: right;\">\n",
       "      <th></th>\n",
       "      <th>id</th>\n",
       "      <th>model_year</th>\n",
       "      <th>milage</th>\n",
       "    </tr>\n",
       "  </thead>\n",
       "  <tbody>\n",
       "    <tr>\n",
       "      <th>count</th>\n",
       "      <td>36183.000000</td>\n",
       "      <td>36183.000000</td>\n",
       "      <td>36183.000000</td>\n",
       "    </tr>\n",
       "    <tr>\n",
       "      <th>mean</th>\n",
       "      <td>72364.000000</td>\n",
       "      <td>2015.063953</td>\n",
       "      <td>72479.266755</td>\n",
       "    </tr>\n",
       "    <tr>\n",
       "      <th>std</th>\n",
       "      <td>10445.276732</td>\n",
       "      <td>5.589336</td>\n",
       "      <td>50714.968252</td>\n",
       "    </tr>\n",
       "    <tr>\n",
       "      <th>min</th>\n",
       "      <td>54273.000000</td>\n",
       "      <td>1974.000000</td>\n",
       "      <td>100.000000</td>\n",
       "    </tr>\n",
       "    <tr>\n",
       "      <th>25%</th>\n",
       "      <td>63318.500000</td>\n",
       "      <td>2012.000000</td>\n",
       "      <td>31681.000000</td>\n",
       "    </tr>\n",
       "    <tr>\n",
       "      <th>50%</th>\n",
       "      <td>72364.000000</td>\n",
       "      <td>2016.000000</td>\n",
       "      <td>65680.000000</td>\n",
       "    </tr>\n",
       "    <tr>\n",
       "      <th>75%</th>\n",
       "      <td>81409.500000</td>\n",
       "      <td>2019.000000</td>\n",
       "      <td>102000.000000</td>\n",
       "    </tr>\n",
       "    <tr>\n",
       "      <th>max</th>\n",
       "      <td>90455.000000</td>\n",
       "      <td>2024.000000</td>\n",
       "      <td>405000.000000</td>\n",
       "    </tr>\n",
       "  </tbody>\n",
       "</table>\n",
       "</div>"
      ],
      "text/plain": [
       "                 id    model_year         milage\n",
       "count  36183.000000  36183.000000   36183.000000\n",
       "mean   72364.000000   2015.063953   72479.266755\n",
       "std    10445.276732      5.589336   50714.968252\n",
       "min    54273.000000   1974.000000     100.000000\n",
       "25%    63318.500000   2012.000000   31681.000000\n",
       "50%    72364.000000   2016.000000   65680.000000\n",
       "75%    81409.500000   2019.000000  102000.000000\n",
       "max    90455.000000   2024.000000  405000.000000"
      ]
     },
     "execution_count": 6,
     "metadata": {},
     "output_type": "execute_result"
    }
   ],
   "source": [
    "# check the distribution of numerical numbers\n",
    "test_df.describe()"
   ]
  },
  {
   "cell_type": "markdown",
   "id": "1ccf44e4",
   "metadata": {
    "papermill": {
     "duration": 0.015613,
     "end_time": "2024-06-11T17:50:07.954000",
     "exception": false,
     "start_time": "2024-06-11T17:50:07.938387",
     "status": "completed"
    },
    "tags": []
   },
   "source": [
    "The distribution of test data falls right in line with that of the training data's, which should be really good for producing accurate predictions."
   ]
  },
  {
   "cell_type": "code",
   "execution_count": 7,
   "id": "baa89985",
   "metadata": {
    "execution": {
     "iopub.execute_input": "2024-06-11T17:50:07.985412Z",
     "iopub.status.busy": "2024-06-11T17:50:07.985153Z",
     "iopub.status.idle": "2024-06-11T17:50:08.015028Z",
     "shell.execute_reply": "2024-06-11T17:50:08.014103Z"
    },
    "papermill": {
     "duration": 0.048024,
     "end_time": "2024-06-11T17:50:08.017214",
     "exception": false,
     "start_time": "2024-06-11T17:50:07.969190",
     "status": "completed"
    },
    "scrolled": true,
    "tags": []
   },
   "outputs": [
    {
     "name": "stdout",
     "output_type": "stream",
     "text": [
      "columns and respective unique values:\n",
      "brands: ['Ford' 'BMW' 'Jaguar' 'Pontiac' 'Acura' 'Audi' 'GMC' 'Maserati'\n",
      " 'Chevrolet' 'Porsche' 'Mercedes-Benz' 'Tesla' 'Lexus' 'Kia' 'Lincoln'\n",
      " 'Dodge' 'Volkswagen' 'Land' 'Cadillac' 'Mazda' 'RAM' 'Subaru' 'Hyundai'\n",
      " 'MINI' 'Jeep' 'Honda' 'Hummer' 'Nissan' 'Toyota' 'Volvo' 'Genesis'\n",
      " 'Mitsubishi' 'Buick' 'INFINITI' 'McLaren' 'Scion' 'Lamborghini' 'Bentley'\n",
      " 'Suzuki' 'Ferrari' 'Alfa' 'Rolls-Royce' 'Chrysler' 'Aston' 'Rivian'\n",
      " 'Lotus' 'Saturn' 'Lucid' 'Mercury' 'Maybach' 'FIAT' 'Plymouth' 'Bugatti']\n",
      "fuel_type: ['Gasoline' 'Hybrid' 'E85 Flex Fuel' 'Diesel' '–' 'Plug-In Hybrid'\n",
      " 'not supported']\n",
      "ext_col: ['Blue' 'Black' 'Purple' 'Gray' 'White' 'Red' 'Silver' 'Summit White'\n",
      " 'Platinum Quartz Metallic' 'Green' 'Orange' 'Lunar Rock'\n",
      " 'Red Quartz Tintcoat' 'Beige' 'Gold' 'Jet Black Mica'\n",
      " 'Delmonico Red Pearlcoat' 'Brown' 'Rich Garnet Metallic'\n",
      " 'Stellar Black Metallic' 'Yellow' 'Deep Black Pearl Effect' 'Metallic'\n",
      " 'Ice Silver Metallic' 'Agate Black Metallic' 'Rosso Mars Metallic'\n",
      " 'White Clearcoat' 'Santorini Black Metallic' 'DB Black Clearcoat'\n",
      " 'Snowflake White Pearl' 'Glacial White Pearl' 'Maximum Steel Metallic'\n",
      " 'Blue Caelum' 'Dark Matter Metallic' '–' 'Oxford White'\n",
      " 'Cobra Beige Metallic' 'Velvet Red Pearlcoat' 'Python Green'\n",
      " 'Obsidian Black Metallic' 'Beluga Black' 'Blue Reflex Mica'\n",
      " 'Sparkling Silver' 'Black Clearcoat' 'Soul Red Crystal Metallic'\n",
      " 'Bright White Clearcoat' 'Shimmering Silver' 'Midnight Black Metallic'\n",
      " 'Cajun Red Tintcoat' 'Cirrus Silver Metallic' 'Blu'\n",
      " 'Burnished Bronze Metallic' 'Hellayella Clearcoat' 'Diamond Black'\n",
      " 'White Diamond Tri-Coat' 'Nebula Gray Pearl' 'Bronze Dune Metallic'\n",
      " 'Polymetal Gray Metallic' 'Nightfall Gray Metallic' 'Fuji White'\n",
      " 'Shadow Gray Metallic' 'Dark Moon Blue Metallic' 'Dark Sapphire'\n",
      " 'Firecracker Red Clearcoat' 'Black Raven' 'White Knuckle Clearcoat'\n",
      " 'Siren Red Tintcoat' 'Designo Magno Matte' 'Atomic Silver'\n",
      " 'Billet Silver Metallic Clearcoat' 'Ember Pearlcoat' 'Magnetic Black'\n",
      " 'Pacific Blue Metallic' 'Midnight Blue Metallic' 'Alta White'\n",
      " 'Eiger Grey' 'Diamond White' 'Onyx' 'Hyper Red' 'Ebony Twilight Metallic'\n",
      " 'Alpine White' 'Sonic Silver Metallic' 'Dark Ash Metallic'\n",
      " 'Volcano Grey Metallic' 'Patriot Blue Pearlcoat' 'Onyx Black'\n",
      " 'Titanium Silver' 'Granite Crystal Clearcoat Metallic' 'Nero Noctis'\n",
      " 'Silver Zynith' 'Black Cherry' 'Iconic Silver Metallic' 'Nero Daytona'\n",
      " 'Daytona Gray Pearl Effect' 'Dark Moss' 'Deep Crystal Blue Mica'\n",
      " 'China Blue' 'Magnetic Metallic' 'Midnight Black' 'Vega Blue'\n",
      " 'Sandstone Metallic' 'Machine Gray Metallic' 'C / C'\n",
      " 'Platinum Gray Metallic' 'Silver Ice Metallic' 'Carrara White Metallic'\n",
      " 'Black Sapphire Metallic' 'Go Mango!' 'White Frost Tri-Coat'\n",
      " 'Lizard Green' 'Santorin Black' 'Twilight Black' 'Gecko Pearlcoat'\n",
      " 'Satin Steel Metallic' 'Imperial Blue Metallic' 'Nautical Blue Pearl'\n",
      " 'Stone Gray Metallic' 'Quartzite Grey Metallic' 'Majestic Black Pearl'\n",
      " 'Shadow Black' 'Crimson Red Tintcoat' 'Silver Flare Metallic' 'Vik Black'\n",
      " 'Lunar Silver Metallic' 'Maroon' 'Redline Red' 'Iridescent Pearl Tricoat'\n",
      " 'Brilliant Silver Metallic' 'Lunar Blue Metallic' 'Matte White' 'Tan'\n",
      " 'Stormy Sea' 'Twilight Blue Metallic' 'Ibis White'\n",
      " 'Kodiak Brown Metallic' 'Crystal Black Silica' 'Sting Gray Clearcoat'\n",
      " 'Pristine White' 'Pearl White' 'Antimatter Blue Metallic'\n",
      " 'Tango Red Metallic' 'Crystal Black Pearl' 'Rift Metallic'\n",
      " 'Glacier White Metallic' 'Quartz White' 'Black Obsidian'\n",
      " 'Brilliant Black' 'Ruby Red Metallic Tinted Clearcoat'\n",
      " 'Tungsten Metallic' 'Magnetite Black Metallic' 'Jupiter Red' 'Glacier'\n",
      " 'Santorini Black' 'Navarre Blue'\n",
      " 'Phantom Black Pearl Effect / Black Roof' 'Isle of Man Green Metallic'\n",
      " 'Snowflake White Pearl Metallic' 'Brands Hatch Gray Metallic'\n",
      " 'Volcanic Orange' 'Liquid Platinum' 'Bayside Blue'\n",
      " 'Rapid Red Metallic Tinted Clearcoat' 'Majestic Plum Metallic'\n",
      " 'White Platinum Tri-Coat Metallic' 'Mosaic Black Metallic' 'Chalk'\n",
      " 'Black Noir Pearl' 'Nightfall Mica' 'Dark Gray Metallic'\n",
      " 'Mythos Black Metallic' 'Blueprint' 'Quicksilver Metallic' 'Frozen White'\n",
      " 'Lunare White Metallic' 'Verde' 'Dark Graphite Metallic' 'Mythos Black'\n",
      " 'Ebony Black' 'Ultra Black' 'Ingot Silver Metallic'\n",
      " 'Glacier Silver Metallic' 'Gun Metallic' 'Wind Chill Pearl'\n",
      " 'Anodized Blue Metallic' 'designo Diamond White' 'Tempest' 'Caviar'\n",
      " 'Phytonic Blue Metallic' 'Moonlight Cloud'\n",
      " 'Daytona Gray Pearl Effect w/ Black Roof' 'Bianco Isis'\n",
      " 'Carbonized Gray Metallic' 'Deep Blue Metallic' 'Ametrin Metallic'\n",
      " 'Super Black' 'Rosso Corsa' 'Blue Metallic' 'Iridium Metallic'\n",
      " 'Dark Slate Metallic' 'Manhattan Noir Metallic' 'Alfa White'\n",
      " 'Baltic Gray' 'Northsky Blue Metallic' 'Super White'\n",
      " 'Carbon Black Metallic' 'Horizon Blue' 'Jungle Green'\n",
      " 'Cayenne Red Tintcoat' 'Pink' 'Daytona Gray' 'Gentian Blue Metallic'\n",
      " 'Sangria Red' 'Kemora Gray Metallic' 'Magnetite Gray Metallic'\n",
      " 'Octane Red Pearlcoat' 'Custom Color' 'Ultra White' 'Pacific Blue'\n",
      " 'Ruby Flare Pearl' 'Caspian Blue' 'Silver Radiance'\n",
      " 'Carpathian Grey Premium Metallic' 'Ice' 'Balloon White'\n",
      " 'Shoreline Blue Pearl' 'Firenze Red Metallic' 'Remington Red Metallic'\n",
      " 'Orca Black Metallic' 'Radiant Red Metallic II' 'Mineral White'\n",
      " 'Glacier White' 'Snow White Pearl' 'Iridium Silver Metallic'\n",
      " 'Carpathian Grey' 'Mountain Air Metallic' 'Selenite Gray Metallic'\n",
      " 'Graphite Grey Metallic' 'Selenite Grey Metallic' 'Kinetic Blue'\n",
      " 'Wolf Gray' 'Star White' 'Emin White' 'Indus Silver'\n",
      " 'Matador Red Metallic' 'Portofino Gray' 'Black Forest Green'\n",
      " 'Dazzling White' 'Flame Red Clearcoat' 'Glacier Blue Metallic'\n",
      " 'Arctic White' 'Rosso' 'Silver Mist' 'Bianco Icarus Metallic'\n",
      " 'Firenze Red' 'Ironman Silver' 'Red Obsession' 'Magnetic Gray Metallic'\n",
      " 'Garnet Red Metallic' 'Vulcano Black Metallic' 'Magnetic Gray Clearcoat']\n",
      "clean_title: ['Yes']\n",
      "accident: ['None reported' 'At least 1 accident or damage reported']\n"
     ]
    }
   ],
   "source": [
    "# check unique values of categorical data\n",
    "print(\"columns and respective unique values:\")\n",
    "print(\"brands:\", train_df.brand.unique())\n",
    "# print(\"model:\", train_df.model.unique())\n",
    "print(\"fuel_type:\", train_df.fuel_type.unique())\n",
    "print(\"ext_col:\", train_df.ext_col.unique())\n",
    "print(\"clean_title:\", train_df.clean_title.unique())\n",
    "print(\"accident:\", train_df.accident.unique())"
   ]
  },
  {
   "cell_type": "code",
   "execution_count": 8,
   "id": "c10e6bfc",
   "metadata": {
    "_kg_hide-input": false,
    "_kg_hide-output": true,
    "execution": {
     "iopub.execute_input": "2024-06-11T17:50:08.049746Z",
     "iopub.status.busy": "2024-06-11T17:50:08.048953Z",
     "iopub.status.idle": "2024-06-11T17:50:08.070538Z",
     "shell.execute_reply": "2024-06-11T17:50:08.069491Z"
    },
    "papermill": {
     "duration": 0.039845,
     "end_time": "2024-06-11T17:50:08.072726",
     "exception": false,
     "start_time": "2024-06-11T17:50:08.032881",
     "status": "completed"
    },
    "scrolled": true,
    "tags": []
   },
   "outputs": [
    {
     "name": "stdout",
     "output_type": "stream",
     "text": [
      "columns and respective unique values:\n",
      "brands: ['Mercedes-Benz' 'Lexus' 'Land' 'BMW' 'Chevrolet' 'Dodge' 'Audi' 'Ford'\n",
      " 'Kia' 'Toyota' 'Cadillac' 'GMC' 'Jeep' 'Mazda' 'Acura' 'INFINITI'\n",
      " 'Volkswagen' 'Subaru' 'Hyundai' 'Jaguar' 'Porsche' 'Lincoln' 'Nissan'\n",
      " 'RAM' 'Buick' 'Honda' 'MINI' 'Rolls-Royce' 'Genesis' 'Bentley' 'Volvo'\n",
      " 'Saturn' 'Ferrari' 'Bugatti' 'Tesla' 'Pontiac' 'Hummer' 'Mitsubishi'\n",
      " 'Maserati' 'Alfa' 'Scion' 'Lamborghini' 'Chrysler' 'McLaren' 'Lotus'\n",
      " 'Rivian' 'Aston' 'FIAT' 'Lucid' 'Mercury' 'Suzuki' 'Saab' 'smart']\n",
      "fuel_type: ['Gasoline' 'E85 Flex Fuel' 'Diesel' 'Hybrid' '–' 'Plug-In Hybrid'\n",
      " 'not supported']\n",
      "ext_col: ['White' 'Silver' 'Blue' 'Red' 'Black' 'Gray' 'Atomic Silver' 'Green'\n",
      " 'Octane Red Pearlcoat' 'Purple' 'Diamond Black' 'Agate Black Metallic'\n",
      " '–' 'Orange' 'Polymetal Gray Metallic' 'Crystal Black Pearl'\n",
      " 'Snowflake White Pearl' 'Jet Black Mica' 'Black Raven' 'Black Clearcoat'\n",
      " 'Yellow' 'Metallic' 'Imperial Blue Metallic' 'Phytonic Blue Metallic'\n",
      " 'Gold' 'Brown' 'Sonic Silver Metallic' 'Dark Ash Metallic' 'Matte White'\n",
      " 'Summit White' 'Deep Crystal Blue Mica' 'Mosaic Black Metallic'\n",
      " 'Nebula Gray Pearl' 'Silver Flare Metallic' 'Soul Red Crystal Metallic'\n",
      " 'Orca Black Metallic' 'Antimatter Blue Metallic' 'Bright White Clearcoat'\n",
      " 'Dark Sapphire' 'Ebony Twilight Metallic' 'Tungsten Metallic' 'Blu'\n",
      " 'Magnetic Metallic' 'Beige' 'Sting Gray Clearcoat'\n",
      " 'Machine Gray Metallic' 'Rosso Mars Metallic' 'Tan'\n",
      " 'Iridescent Pearl Tricoat' 'Alpine White' 'Manhattan Noir Metallic'\n",
      " 'White Frost Tri-Coat' 'White Knuckle Clearcoat' 'Iconic Silver Metallic'\n",
      " 'Granite Crystal Clearcoat Metallic' 'Rift Metallic'\n",
      " 'Obsidian Black Metallic' 'Oxford White' 'Stellar Black Metallic'\n",
      " 'Delmonico Red Pearlcoat' 'Tango Red Metallic' 'Tempest'\n",
      " 'Glacial White Pearl' 'Eiger Grey' 'Ultra White' 'Frozen White'\n",
      " 'Deep Black Pearl Effect' 'Kinetic Blue' 'Iridium Metallic'\n",
      " 'Shadow Gray Metallic' 'Hellayella Clearcoat' 'Lizard Green'\n",
      " 'Midnight Black Metallic' 'Silver Ice Metallic' 'Onyx' 'Rosso'\n",
      " 'Black Noir Pearl' 'China Blue' 'Beluga Black' 'Brilliant Black'\n",
      " 'Mythos Black Metallic' 'Kodiak Brown Metallic' 'Shadow Black'\n",
      " 'Rich Garnet Metallic' 'Patriot Blue Pearlcoat' 'Velvet Red Pearlcoat'\n",
      " 'Ice Silver Metallic' 'Glacier Silver Metallic' 'C / C' 'Bayside Blue'\n",
      " 'Dark Moon Blue Metallic' 'Satin Steel Metallic' 'Cajun Red Tintcoat'\n",
      " 'White Diamond Tri-Coat' 'Quicksilver Metallic' 'Red Quartz Tintcoat'\n",
      " 'Nero Noctis' 'Yulong' 'Black Forest Green' 'Isle of Man Green Metallic'\n",
      " 'Santorini Black Metallic' 'Brilliant Silver Metallic' 'Pink'\n",
      " 'Arctic White' 'Cobra Beige Metallic' 'Flame Red Clearcoat'\n",
      " 'Wind Chill Pearl' 'Dark Slate Metallic' 'Firecracker Red Clearcoat'\n",
      " 'Lunare White Metallic' 'Matador Red Mica' 'Shoreline Blue Pearl'\n",
      " 'Platinum White Pearl' 'Bianco Icarus Metallic' 'Black Obsidian'\n",
      " 'Billet Silver Metallic Clearcoat' 'Iridium Silver Metallic'\n",
      " 'DB Black Clearcoat' 'Ruby Flare Pearl' 'Dark Moss'\n",
      " 'Carbonized Gray Metallic' 'Ember Pearlcoat' 'Rosso Corsa'\n",
      " 'Black Sapphire Metallic' 'Black Cherry' 'Infrared Tintcoat'\n",
      " 'Siren Red Tintcoat' 'Remington Red Metallic' 'Daytona Gray Pearl Effect'\n",
      " 'Phantom Black Pearl Effect / Black Roof' 'Chalk' 'Horizon Blue'\n",
      " 'Silver Zynith' 'Carrara White Metallic' 'Billet Clearcoat Metallic'\n",
      " 'Python Green' 'Silician Yellow' 'Maximum Steel Metallic' 'Ultra Black'\n",
      " 'Fuji White' 'Pacific Blue' 'Volcano Grey Metallic' 'Twilight Black'\n",
      " 'Ametrin Metallic' 'Crystal Black Silica' 'Majestic Black Pearl'\n",
      " 'Alfa White' 'Majestic Plum Metallic' 'Twilight Blue Metallic'\n",
      " 'Magnetic Black' 'Snowflake White Pearl Metallic' 'Wolf Gray'\n",
      " 'Onyx Black' 'Carbon Black Metallic' 'Midnight Black'\n",
      " 'Dark Matter Metallic' 'Pacific Blue Metallic' 'Glacier Blue Metallic'\n",
      " 'Gecko Pearlcoat' 'Ibis White' 'Selenite Gray Metallic'\n",
      " 'Shimmering Silver' 'Garnet Red Metallic' 'Cirrus Silver Metallic'\n",
      " 'Nautical Blue Pearl' 'Quartzite Grey Metallic' 'Crimson Red Tintcoat'\n",
      " 'Passion Red' 'Frozen Dark Silver Metallic' 'Mountain Air Metallic'\n",
      " 'Super Black' 'Caviar' 'Santorini Black' 'Burnished Bronze Metallic'\n",
      " 'Vik Black' 'Go Mango!' 'White Platinum Tri-Coat Metallic'\n",
      " 'Anodized Blue Metallic' 'Hyper Red' 'Midnight Blue Metallic' 'Maroon'\n",
      " 'Sandstone Metallic' 'Blue Reflex Mica' 'Nightfall Gray Metallic'\n",
      " 'Super White' 'Magnetite Black Metallic' 'Stormy Sea'\n",
      " 'Kemora Gray Metallic' 'Dark Gray Metallic' 'Crystal White Pearl'\n",
      " 'Gun Metallic' 'Blue Metallic' 'Magnetic Gray Clearcoat' 'Pure White'\n",
      " 'Ebony Black' 'Balloon White' 'Deep Blue Metallic' 'Silver Radiance'\n",
      " 'Titanium Silver' 'Red Obsession' 'Glacier White Metallic'\n",
      " 'Stone Gray Metallic' 'Moonlight Cloud' 'Vega Blue' 'Sangria Red'\n",
      " 'Carpathian Grey Premium Metallic' 'Brands Hatch Gray Metallic'\n",
      " 'Vulcano Black Metallic' 'Ruby Red Metallic Tinted Clearcoat'\n",
      " 'Chronos Gray Metallic' 'Custom Color' 'Aventurine Green Metallic'\n",
      " 'Santorin Black' 'Quartz White' 'Daytona Gray' 'Indus Silver'\n",
      " 'Rapid Red Metallic Tinted Clearcoat' 'Ice' 'Diamond White'\n",
      " 'Chronos Gray' 'Alta White' 'Eminent White Pearl'\n",
      " 'Magnetite Gray Metallic' 'Nero Daytona' 'Snow White Pearl' 'Redline Red'\n",
      " 'Mineral White' 'Obsidian' 'Matador Red Metallic' 'Sparkling Silver']\n",
      "clean_title: ['Yes']\n",
      "accident: ['None reported' 'At least 1 accident or damage reported']\n"
     ]
    }
   ],
   "source": [
    "# check unique values of categorical data\n",
    "print(\"columns and respective unique values:\")\n",
    "print(\"brands:\", test_df.brand.unique())\n",
    "# print(\"model:\", test_df.model.unique())\n",
    "print(\"fuel_type:\", test_df.fuel_type.unique())\n",
    "print(\"ext_col:\", test_df.ext_col.unique())\n",
    "print(\"clean_title:\", test_df.clean_title.unique())\n",
    "print(\"accident:\", test_df.accident.unique())"
   ]
  },
  {
   "cell_type": "markdown",
   "id": "94584a23",
   "metadata": {
    "execution": {
     "iopub.execute_input": "2024-06-04T16:29:28.729010Z",
     "iopub.status.busy": "2024-06-04T16:29:28.728395Z",
     "iopub.status.idle": "2024-06-04T16:29:28.738212Z",
     "shell.execute_reply": "2024-06-04T16:29:28.736540Z",
     "shell.execute_reply.started": "2024-06-04T16:29:28.728969Z"
    },
    "papermill": {
     "duration": 0.016334,
     "end_time": "2024-06-11T17:50:08.105437",
     "exception": false,
     "start_time": "2024-06-11T17:50:08.089103",
     "status": "completed"
    },
    "tags": []
   },
   "source": [
    "lets check missing data:"
   ]
  },
  {
   "cell_type": "code",
   "execution_count": 9,
   "id": "17682bd3",
   "metadata": {
    "execution": {
     "iopub.execute_input": "2024-06-11T17:50:08.139277Z",
     "iopub.status.busy": "2024-06-11T17:50:08.138520Z",
     "iopub.status.idle": "2024-06-11T17:50:08.204303Z",
     "shell.execute_reply": "2024-06-11T17:50:08.203466Z"
    },
    "papermill": {
     "duration": 0.084362,
     "end_time": "2024-06-11T17:50:08.206142",
     "exception": false,
     "start_time": "2024-06-11T17:50:08.121780",
     "status": "completed"
    },
    "tags": []
   },
   "outputs": [
    {
     "name": "stdout",
     "output_type": "stream",
     "text": [
      "NaN value in brand: 0\n",
      "NaN value in model: 0\n",
      "NaN value in model_year: 0\n",
      "NaN value in fuel_type: 0\n",
      "'-' or 'not supported' value in fuel_type: 298\n",
      "NaN value in milage: 0\n",
      "NaN value in ext_col: 0\n",
      "'-' in ext_col: 41\n",
      "NaN value in accident: 0\n",
      "NaN value in price: 0\n",
      "0 value in price: 0\n"
     ]
    }
   ],
   "source": [
    "# check missing values\n",
    "print(\"NaN value in brand:\", train_df.brand.isna().sum())\n",
    "print(\"NaN value in model:\", train_df.model.isna().sum())\n",
    "print(\"NaN value in model_year:\", train_df.model_year.isna().sum())\n",
    "print(\"NaN value in fuel_type:\", train_df.fuel_type.isna().sum())\n",
    "print(\"'-' or 'not supported' value in fuel_type:\", train_df[(train_df.fuel_type == '–') | (train_df.fuel_type == 'not supported')].shape[0])\n",
    "print(\"NaN value in milage:\", train_df.milage.isna().sum())\n",
    "print(\"NaN value in ext_col:\", train_df.ext_col.isna().sum())\n",
    "print(\"'-' in ext_col:\", train_df[train_df.ext_col == '–'].shape[0])\n",
    "print(\"NaN value in accident:\", train_df.accident.isna().sum())\n",
    "print(\"NaN value in price:\", train_df.price.isna().sum())\n",
    "print(\"0 value in price:\", train_df[(train_df.price == 0)].shape[0])"
   ]
  },
  {
   "cell_type": "code",
   "execution_count": 10,
   "id": "a913555e",
   "metadata": {
    "execution": {
     "iopub.execute_input": "2024-06-11T17:50:08.239912Z",
     "iopub.status.busy": "2024-06-11T17:50:08.239631Z",
     "iopub.status.idle": "2024-06-11T17:50:08.285521Z",
     "shell.execute_reply": "2024-06-11T17:50:08.284576Z"
    },
    "papermill": {
     "duration": 0.064914,
     "end_time": "2024-06-11T17:50:08.287416",
     "exception": false,
     "start_time": "2024-06-11T17:50:08.222502",
     "status": "completed"
    },
    "tags": []
   },
   "outputs": [
    {
     "name": "stdout",
     "output_type": "stream",
     "text": [
      "NaN value in brand: 0\n",
      "NaN value in model: 0\n",
      "NaN value in model_year: 0\n",
      "NaN value in fuel_type: 0\n",
      "'-' or 'not supported' value in fuel_type: 201\n",
      "NaN value in milage: 0\n",
      "NaN value in ext_col: 0\n",
      "'-' in ext_col: 27\n",
      "NaN value in accident: 0\n"
     ]
    }
   ],
   "source": [
    "# check missing values\n",
    "print(\"NaN value in brand:\", test_df.brand.isna().sum())\n",
    "print(\"NaN value in model:\", test_df.model.isna().sum())\n",
    "print(\"NaN value in model_year:\", test_df.model_year.isna().sum())\n",
    "print(\"NaN value in fuel_type:\", test_df.fuel_type.isna().sum())\n",
    "print(\"'-' or 'not supported' value in fuel_type:\", test_df[(test_df.fuel_type == '–') | (test_df.fuel_type == 'not supported')].shape[0])\n",
    "print(\"NaN value in milage:\", test_df.milage.isna().sum())\n",
    "print(\"NaN value in ext_col:\", test_df.ext_col.isna().sum())\n",
    "print(\"'-' in ext_col:\", test_df[test_df.ext_col == '–'].shape[0])\n",
    "print(\"NaN value in accident:\", test_df.accident.isna().sum())"
   ]
  },
  {
   "cell_type": "markdown",
   "id": "a4453075",
   "metadata": {
    "papermill": {
     "duration": 0.016,
     "end_time": "2024-06-11T17:50:08.319841",
     "exception": false,
     "start_time": "2024-06-11T17:50:08.303841",
     "status": "completed"
    },
    "tags": []
   },
   "source": [
    "quick thoughts upon inspection:\n",
    "\n",
    "There are columns that are clearly useful and important:\n",
    "* *brands*\n",
    "* *model_year*\n",
    "* *milage*\n",
    "* *accident*, can be changed to 1 & 0 to indicate\n",
    "\n",
    "There are also columns that needs work:\n",
    "* *fuel_type* has some missing value & might be useful, we will drop columns with missing values & proceed, and change 'E85 Flex Fuel' to 'Gasoline' aaaand 'Plug-In Hybrid' to 'Hybrid'\n",
    "* *ext_col* may be useful, but there is a few missing values & need transformation (try to convert most to simple color: white, red, black etc)\n",
    "\n",
    "Finally there are columns deemed not significant and we will proceed without for now:\n",
    "* *model* will not be used for now, a lot of work to do and seems less significant\n",
    "\n",
    "Also it is noteworthy that the target value *price* is free of missing value or 0"
   ]
  },
  {
   "cell_type": "markdown",
   "id": "f34868bf",
   "metadata": {
    "papermill": {
     "duration": 0.015827,
     "end_time": "2024-06-11T17:50:08.351805",
     "exception": false,
     "start_time": "2024-06-11T17:50:08.335978",
     "status": "completed"
    },
    "tags": []
   },
   "source": [
    "# 2. Data Preprocessing\n",
    "## 2.1 Data Cleaning\n",
    "remove rows with *fuel_type* having missing values"
   ]
  },
  {
   "cell_type": "code",
   "execution_count": 11,
   "id": "1208de26",
   "metadata": {
    "execution": {
     "iopub.execute_input": "2024-06-11T17:50:08.385173Z",
     "iopub.status.busy": "2024-06-11T17:50:08.384914Z",
     "iopub.status.idle": "2024-06-11T17:50:08.465498Z",
     "shell.execute_reply": "2024-06-11T17:50:08.464519Z"
    },
    "papermill": {
     "duration": 0.099814,
     "end_time": "2024-06-11T17:50:08.467447",
     "exception": false,
     "start_time": "2024-06-11T17:50:08.367633",
     "status": "completed"
    },
    "tags": []
   },
   "outputs": [
    {
     "name": "stdout",
     "output_type": "stream",
     "text": [
      "'-' or 'not supported' value in fuel_type: 0\n",
      "'-' in ext_col: 0\n"
     ]
    },
    {
     "data": {
      "text/plain": [
       "(53935, 13)"
      ]
     },
     "execution_count": 11,
     "metadata": {},
     "output_type": "execute_result"
    }
   ],
   "source": [
    "train_df = train_df[train_df['fuel_type'] != '–']\n",
    "train_df = train_df[train_df['fuel_type'] != 'not supported']\n",
    "train_df = train_df[train_df['ext_col'] != '–']\n",
    "print(\"'-' or 'not supported' value in fuel_type:\", train_df[(train_df.fuel_type == '–') | (train_df.fuel_type == 'not supported')].shape[0])\n",
    "print(\"'-' in ext_col:\", train_df[train_df.ext_col == '–'].shape[0])\n",
    "train_df.shape"
   ]
  },
  {
   "cell_type": "code",
   "execution_count": 12,
   "id": "4e830f37",
   "metadata": {
    "execution": {
     "iopub.execute_input": "2024-06-11T17:50:08.503224Z",
     "iopub.status.busy": "2024-06-11T17:50:08.502949Z",
     "iopub.status.idle": "2024-06-11T17:50:08.559348Z",
     "shell.execute_reply": "2024-06-11T17:50:08.558189Z"
    },
    "papermill": {
     "duration": 0.076233,
     "end_time": "2024-06-11T17:50:08.561736",
     "exception": false,
     "start_time": "2024-06-11T17:50:08.485503",
     "status": "completed"
    },
    "tags": []
   },
   "outputs": [
    {
     "name": "stdout",
     "output_type": "stream",
     "text": [
      "'-' or 'not supported' value in fuel_type: 0\n",
      "'-' in ext_col: 0\n"
     ]
    },
    {
     "data": {
      "text/plain": [
       "(35955, 12)"
      ]
     },
     "execution_count": 12,
     "metadata": {},
     "output_type": "execute_result"
    }
   ],
   "source": [
    "test_df = test_df[test_df['fuel_type'] != '–']\n",
    "test_df = test_df[test_df['fuel_type'] != 'not supported']\n",
    "test_df = test_df[test_df['ext_col'] != '–']\n",
    "print(\"'-' or 'not supported' value in fuel_type:\", test_df[(test_df.fuel_type == '–') | (test_df.fuel_type == 'not supported')].shape[0])\n",
    "print(\"'-' in ext_col:\", test_df[test_df.ext_col == '–'].shape[0])\n",
    "test_df.shape"
   ]
  },
  {
   "cell_type": "markdown",
   "id": "56bf7bc6",
   "metadata": {
    "papermill": {
     "duration": 0.016536,
     "end_time": "2024-06-11T17:50:08.633804",
     "exception": false,
     "start_time": "2024-06-11T17:50:08.617268",
     "status": "completed"
    },
    "tags": []
   },
   "source": [
    "## 2.2 Data Transformation"
   ]
  },
  {
   "cell_type": "markdown",
   "id": "f80645a9",
   "metadata": {
    "papermill": {
     "duration": 0.016319,
     "end_time": "2024-06-11T17:50:08.666449",
     "exception": false,
     "start_time": "2024-06-11T17:50:08.650130",
     "status": "completed"
    },
    "tags": []
   },
   "source": [
    "### 2.2.1 Replacing values in accident & fuel_type"
   ]
  },
  {
   "cell_type": "code",
   "execution_count": 13,
   "id": "352dbcae",
   "metadata": {
    "execution": {
     "iopub.execute_input": "2024-06-11T17:50:08.701794Z",
     "iopub.status.busy": "2024-06-11T17:50:08.700772Z",
     "iopub.status.idle": "2024-06-11T17:50:08.705006Z",
     "shell.execute_reply": "2024-06-11T17:50:08.704290Z"
    },
    "papermill": {
     "duration": 0.02354,
     "end_time": "2024-06-11T17:50:08.706828",
     "exception": false,
     "start_time": "2024-06-11T17:50:08.683288",
     "status": "completed"
    },
    "tags": []
   },
   "outputs": [],
   "source": [
    "pd.set_option('future.no_silent_downcasting', True)"
   ]
  },
  {
   "cell_type": "code",
   "execution_count": 14,
   "id": "e5587226",
   "metadata": {
    "execution": {
     "iopub.execute_input": "2024-06-11T17:50:08.741520Z",
     "iopub.status.busy": "2024-06-11T17:50:08.741287Z",
     "iopub.status.idle": "2024-06-11T17:50:08.785589Z",
     "shell.execute_reply": "2024-06-11T17:50:08.784470Z"
    },
    "papermill": {
     "duration": 0.063863,
     "end_time": "2024-06-11T17:50:08.787666",
     "exception": false,
     "start_time": "2024-06-11T17:50:08.723803",
     "status": "completed"
    },
    "tags": []
   },
   "outputs": [
    {
     "name": "stdout",
     "output_type": "stream",
     "text": [
      "train accident: [0 1]\n",
      "test accident: [0 1]\n"
     ]
    }
   ],
   "source": [
    "# Change accident to numerical of 1 & 0\n",
    "train_df['accident'] = train_df['accident'].replace('None reported', 0 )\n",
    "train_df['accident'] = train_df['accident'].replace('At least 1 accident or damage reported', 1 )\n",
    "print(\"train accident:\", train_df.accident.unique())\n",
    "\n",
    "test_df['accident'] = test_df['accident'].replace('None reported', 0 )\n",
    "test_df['accident'] = test_df['accident'].replace('At least 1 accident or damage reported', 1 )\n",
    "print(\"test accident:\", test_df.accident.unique())"
   ]
  },
  {
   "cell_type": "code",
   "execution_count": 15,
   "id": "1921819f",
   "metadata": {
    "execution": {
     "iopub.execute_input": "2024-06-11T17:50:08.823449Z",
     "iopub.status.busy": "2024-06-11T17:50:08.823197Z",
     "iopub.status.idle": "2024-06-11T17:50:08.864320Z",
     "shell.execute_reply": "2024-06-11T17:50:08.863332Z"
    },
    "papermill": {
     "duration": 0.060655,
     "end_time": "2024-06-11T17:50:08.866247",
     "exception": false,
     "start_time": "2024-06-11T17:50:08.805592",
     "status": "completed"
    },
    "tags": []
   },
   "outputs": [
    {
     "name": "stdout",
     "output_type": "stream",
     "text": [
      "train fuel_type: ['Gasoline' 'Hybrid' 'Diesel']\n",
      "test fuel_type: ['Gasoline' 'Diesel' 'Hybrid']\n"
     ]
    }
   ],
   "source": [
    "# Change fuel_type to narrow down the types\n",
    "train_df['fuel_type'] = train_df['fuel_type'].replace('E85 Flex Fuel', 'Gasoline')\n",
    "train_df['fuel_type'] = train_df['fuel_type'].replace('Plug-In Hybrid', 'Hybrid')\n",
    "print(\"train fuel_type:\", train_df.fuel_type.unique())\n",
    "\n",
    "test_df['fuel_type'] = test_df['fuel_type'].replace('E85 Flex Fuel', 'Gasoline')\n",
    "test_df['fuel_type'] = test_df['fuel_type'].replace('Plug-In Hybrid', 'Hybrid')\n",
    "print(\"test fuel_type:\", test_df.fuel_type.unique())"
   ]
  },
  {
   "cell_type": "markdown",
   "id": "a944397e",
   "metadata": {
    "papermill": {
     "duration": 0.016631,
     "end_time": "2024-06-11T17:50:08.899627",
     "exception": false,
     "start_time": "2024-06-11T17:50:08.882996",
     "status": "completed"
    },
    "tags": []
   },
   "source": [
    "### 2.2.2 Deal with the strings in column ext_col to make them more generic\n",
    "turn weird color names into general colors (e.g. white, black, blue...)\n",
    "make a new column?\n",
    "then mayyybe remove the weird colors if there is minimal of them? want to make sure the test data has same distribution tho....\n"
   ]
  },
  {
   "cell_type": "code",
   "execution_count": 16,
   "id": "2a475e2a",
   "metadata": {
    "execution": {
     "iopub.execute_input": "2024-06-11T17:50:08.934626Z",
     "iopub.status.busy": "2024-06-11T17:50:08.933982Z",
     "iopub.status.idle": "2024-06-11T17:50:09.233816Z",
     "shell.execute_reply": "2024-06-11T17:50:09.232908Z"
    },
    "papermill": {
     "duration": 0.319366,
     "end_time": "2024-06-11T17:50:09.235953",
     "exception": false,
     "start_time": "2024-06-11T17:50:08.916587",
     "status": "completed"
    },
    "tags": []
   },
   "outputs": [
    {
     "name": "stdout",
     "output_type": "stream",
     "text": [
      "train ext_col: ['Blue' 'Black' 'Purple' 'Gray' 'White' 'Red' 'Silver' 'Green' 'Orange'\n",
      " 'Beige' 'Yellow' 'Brown' 'c / c' 'pink' 'custom color']\n",
      "test ext_col: ['White' 'Silver' 'Blue' 'Red' 'Black' 'Gray' 'Green' 'Purple' 'Orange'\n",
      " 'Yellow' 'Brown' 'Beige' 'c / c' 'pink' 'custom color']\n"
     ]
    }
   ],
   "source": [
    "# Define a dictionary mapping generic color names to their potential variations\n",
    "color_map = {\n",
    "    'white': ['white', 'snow', 'ivory', 'pearl', 'cream', 'frost', 'glacier', 'ice', 'chalk', 'yulong'],\n",
    "    'black': ['black', 'ebony', 'onyx', 'jet', 'noir', 'raven', 'nightfall', 'nero', 'noctis', 'moonlight', 'obsidian'],\n",
    "    'blue': ['blue', 'navy', 'sapphire', 'indigo', 'caelum', 'reflex', 'sea', 'tempest', 'blu'],\n",
    "    'red': ['red', 'crimson', 'scarlet', 'ruby', 'maroon', 'sangria', 'mars', 'corsa', 'rosso'],\n",
    "    'green': ['green', 'olive', 'emerald', 'jade', 'lime', 'jungle', 'moss', 'caviar', 'verde'],\n",
    "    'yellow': ['yellow', 'gold', 'lemon', 'amber', 'hellayella'],\n",
    "    'silver': ['silver', 'platinum', 'steel', 'zynith', 'radiance', 'metallic', 'magno'], # we mayyy want to remove metallic from silver...\n",
    "    'purple': ['purple', 'lavender', 'amethyst', 'violet', 'plum'],\n",
    "    'gray': ['gray', 'grey', 'charcoal', 'slate', 'graphite', 'ash'],\n",
    "    'orange': ['orange', 'tangerine', 'apricot', 'peach', 'mango'],\n",
    "    'brown': ['brown', 'tan', 'chocolate', 'camel', 'khaki', 'dune'],\n",
    "    'beige': ['beige', 'cream', 'vanilla', 'linen', 'isis', 'lunar']\n",
    "}\n",
    "\n",
    "def transform_color(color_str):\n",
    "    color_str = color_str.lower()\n",
    "    for generic_color, variations in color_map.items():\n",
    "        for variation in variations:\n",
    "            if variation in color_str:\n",
    "                return generic_color.capitalize()\n",
    "    return color_str\n",
    "\n",
    "# Apply the transform_color function to the 'Color' column\n",
    "train_df2 = train_df.copy()\n",
    "train_df2['ext_col'] = train_df2['ext_col'].apply(transform_color)\n",
    "print(\"train ext_col:\", train_df2.ext_col.unique())\n",
    "\n",
    "test_df2 = test_df.copy()\n",
    "test_df2['ext_col'] = test_df2['ext_col'].apply(transform_color)\n",
    "print(\"test ext_col:\", test_df2.ext_col.unique())"
   ]
  },
  {
   "cell_type": "code",
   "execution_count": 17,
   "id": "88300176",
   "metadata": {
    "execution": {
     "iopub.execute_input": "2024-06-11T17:50:09.271705Z",
     "iopub.status.busy": "2024-06-11T17:50:09.271407Z",
     "iopub.status.idle": "2024-06-11T17:50:09.363348Z",
     "shell.execute_reply": "2024-06-11T17:50:09.362461Z"
    },
    "papermill": {
     "duration": 0.111947,
     "end_time": "2024-06-11T17:50:09.365211",
     "exception": false,
     "start_time": "2024-06-11T17:50:09.253264",
     "status": "completed"
    },
    "tags": []
   },
   "outputs": [
    {
     "name": "stdout",
     "output_type": "stream",
     "text": [
      " pink in ext_col: 7\n",
      " c / c in ext_col: 14\n",
      " custom color in ext_col: 1\n",
      "ext_col: ['Blue' 'Black' 'Purple' 'Gray' 'White' 'Red' 'Silver' 'Green' 'Orange'\n",
      " 'Beige' 'Yellow' 'Brown']\n"
     ]
    },
    {
     "data": {
      "text/plain": [
       "(53913, 13)"
      ]
     },
     "execution_count": 17,
     "metadata": {},
     "output_type": "execute_result"
    }
   ],
   "source": [
    "print(\" pink in ext_col:\", train_df2[train_df2.ext_col == 'pink'].shape[0])\n",
    "print(\" c / c in ext_col:\", train_df2[train_df2.ext_col == 'c / c'].shape[0])\n",
    "print(\" custom color in ext_col:\", train_df2[train_df2.ext_col == 'custom color'].shape[0])\n",
    "\n",
    "# Remove rows with edge cases\n",
    "train_df2 = train_df2[train_df2['ext_col'] != 'pink']\n",
    "train_df2 = train_df2[train_df2['ext_col'] != \"c / c\"]\n",
    "train_df2 = train_df2[train_df2['ext_col'] != 'custom color']\n",
    "print(\"ext_col:\", train_df2.ext_col.unique())\n",
    "train_df2.shape"
   ]
  },
  {
   "cell_type": "code",
   "execution_count": 18,
   "id": "950bf283",
   "metadata": {
    "execution": {
     "iopub.execute_input": "2024-06-11T17:50:09.400540Z",
     "iopub.status.busy": "2024-06-11T17:50:09.400239Z",
     "iopub.status.idle": "2024-06-11T17:50:09.462847Z",
     "shell.execute_reply": "2024-06-11T17:50:09.461983Z"
    },
    "papermill": {
     "duration": 0.082293,
     "end_time": "2024-06-11T17:50:09.464698",
     "exception": false,
     "start_time": "2024-06-11T17:50:09.382405",
     "status": "completed"
    },
    "tags": []
   },
   "outputs": [
    {
     "name": "stdout",
     "output_type": "stream",
     "text": [
      " pink in ext_col: 4\n",
      " c / c in ext_col: 6\n",
      " custom color in ext_col: 1\n",
      "ext_col: ['White' 'Silver' 'Blue' 'Red' 'Black' 'Gray' 'Green' 'Purple' 'Orange'\n",
      " 'Yellow' 'Brown' 'Beige']\n"
     ]
    },
    {
     "data": {
      "text/plain": [
       "(35944, 12)"
      ]
     },
     "execution_count": 18,
     "metadata": {},
     "output_type": "execute_result"
    }
   ],
   "source": [
    "print(\" pink in ext_col:\", test_df2[test_df2.ext_col == 'pink'].shape[0])\n",
    "print(\" c / c in ext_col:\", test_df2[test_df2.ext_col == 'c / c'].shape[0])\n",
    "print(\" custom color in ext_col:\", test_df2[test_df2.ext_col == 'custom color'].shape[0])\n",
    "\n",
    "# Remove rows with edge cases\n",
    "test_df2 = test_df2[test_df2['ext_col'] != 'pink']\n",
    "test_df2 = test_df2[test_df2['ext_col'] != \"c / c\"]\n",
    "test_df2 = test_df2[test_df2['ext_col'] != 'custom color']\n",
    "print(\"ext_col:\", test_df2.ext_col.unique())\n",
    "test_df2.shape"
   ]
  },
  {
   "cell_type": "code",
   "execution_count": 19,
   "id": "bcb2775f",
   "metadata": {
    "execution": {
     "iopub.execute_input": "2024-06-11T17:50:09.502428Z",
     "iopub.status.busy": "2024-06-11T17:50:09.501688Z",
     "iopub.status.idle": "2024-06-11T17:50:09.520255Z",
     "shell.execute_reply": "2024-06-11T17:50:09.519228Z"
    },
    "papermill": {
     "duration": 0.038918,
     "end_time": "2024-06-11T17:50:09.522092",
     "exception": false,
     "start_time": "2024-06-11T17:50:09.483174",
     "status": "completed"
    },
    "tags": []
   },
   "outputs": [
    {
     "data": {
      "text/html": [
       "<div>\n",
       "<style scoped>\n",
       "    .dataframe tbody tr th:only-of-type {\n",
       "        vertical-align: middle;\n",
       "    }\n",
       "\n",
       "    .dataframe tbody tr th {\n",
       "        vertical-align: top;\n",
       "    }\n",
       "\n",
       "    .dataframe thead th {\n",
       "        text-align: right;\n",
       "    }\n",
       "</style>\n",
       "<table border=\"1\" class=\"dataframe\">\n",
       "  <thead>\n",
       "    <tr style=\"text-align: right;\">\n",
       "      <th></th>\n",
       "      <th>id</th>\n",
       "      <th>brand</th>\n",
       "      <th>model_year</th>\n",
       "      <th>milage</th>\n",
       "      <th>fuel_type</th>\n",
       "      <th>ext_col</th>\n",
       "      <th>accident</th>\n",
       "      <th>price</th>\n",
       "    </tr>\n",
       "  </thead>\n",
       "  <tbody>\n",
       "    <tr>\n",
       "      <th>0</th>\n",
       "      <td>0</td>\n",
       "      <td>Ford</td>\n",
       "      <td>2018</td>\n",
       "      <td>74349</td>\n",
       "      <td>Gasoline</td>\n",
       "      <td>Blue</td>\n",
       "      <td>0</td>\n",
       "      <td>11000</td>\n",
       "    </tr>\n",
       "    <tr>\n",
       "      <th>1</th>\n",
       "      <td>1</td>\n",
       "      <td>BMW</td>\n",
       "      <td>2007</td>\n",
       "      <td>80000</td>\n",
       "      <td>Gasoline</td>\n",
       "      <td>Black</td>\n",
       "      <td>0</td>\n",
       "      <td>8250</td>\n",
       "    </tr>\n",
       "    <tr>\n",
       "      <th>2</th>\n",
       "      <td>2</td>\n",
       "      <td>Jaguar</td>\n",
       "      <td>2009</td>\n",
       "      <td>91491</td>\n",
       "      <td>Gasoline</td>\n",
       "      <td>Purple</td>\n",
       "      <td>0</td>\n",
       "      <td>15000</td>\n",
       "    </tr>\n",
       "    <tr>\n",
       "      <th>3</th>\n",
       "      <td>3</td>\n",
       "      <td>BMW</td>\n",
       "      <td>2022</td>\n",
       "      <td>2437</td>\n",
       "      <td>Hybrid</td>\n",
       "      <td>Gray</td>\n",
       "      <td>0</td>\n",
       "      <td>63500</td>\n",
       "    </tr>\n",
       "    <tr>\n",
       "      <th>4</th>\n",
       "      <td>4</td>\n",
       "      <td>Pontiac</td>\n",
       "      <td>2001</td>\n",
       "      <td>111000</td>\n",
       "      <td>Gasoline</td>\n",
       "      <td>White</td>\n",
       "      <td>0</td>\n",
       "      <td>7850</td>\n",
       "    </tr>\n",
       "    <tr>\n",
       "      <th>5</th>\n",
       "      <td>5</td>\n",
       "      <td>Acura</td>\n",
       "      <td>2003</td>\n",
       "      <td>124756</td>\n",
       "      <td>Gasoline</td>\n",
       "      <td>Red</td>\n",
       "      <td>1</td>\n",
       "      <td>4995</td>\n",
       "    </tr>\n",
       "    <tr>\n",
       "      <th>6</th>\n",
       "      <td>6</td>\n",
       "      <td>Audi</td>\n",
       "      <td>2014</td>\n",
       "      <td>107380</td>\n",
       "      <td>Gasoline</td>\n",
       "      <td>Gray</td>\n",
       "      <td>0</td>\n",
       "      <td>26500</td>\n",
       "    </tr>\n",
       "    <tr>\n",
       "      <th>7</th>\n",
       "      <td>7</td>\n",
       "      <td>GMC</td>\n",
       "      <td>2019</td>\n",
       "      <td>51300</td>\n",
       "      <td>Gasoline</td>\n",
       "      <td>White</td>\n",
       "      <td>1</td>\n",
       "      <td>25500</td>\n",
       "    </tr>\n",
       "    <tr>\n",
       "      <th>8</th>\n",
       "      <td>8</td>\n",
       "      <td>Audi</td>\n",
       "      <td>2016</td>\n",
       "      <td>87842</td>\n",
       "      <td>Gasoline</td>\n",
       "      <td>Silver</td>\n",
       "      <td>0</td>\n",
       "      <td>13999</td>\n",
       "    </tr>\n",
       "    <tr>\n",
       "      <th>9</th>\n",
       "      <td>9</td>\n",
       "      <td>Acura</td>\n",
       "      <td>2007</td>\n",
       "      <td>152270</td>\n",
       "      <td>Gasoline</td>\n",
       "      <td>Gray</td>\n",
       "      <td>1</td>\n",
       "      <td>6700</td>\n",
       "    </tr>\n",
       "  </tbody>\n",
       "</table>\n",
       "</div>"
      ],
      "text/plain": [
       "   id    brand  model_year  milage fuel_type ext_col accident  price\n",
       "0   0     Ford        2018   74349  Gasoline    Blue        0  11000\n",
       "1   1      BMW        2007   80000  Gasoline   Black        0   8250\n",
       "2   2   Jaguar        2009   91491  Gasoline  Purple        0  15000\n",
       "3   3      BMW        2022    2437    Hybrid    Gray        0  63500\n",
       "4   4  Pontiac        2001  111000  Gasoline   White        0   7850\n",
       "5   5    Acura        2003  124756  Gasoline     Red        1   4995\n",
       "6   6     Audi        2014  107380  Gasoline    Gray        0  26500\n",
       "7   7      GMC        2019   51300  Gasoline   White        1  25500\n",
       "8   8     Audi        2016   87842  Gasoline  Silver        0  13999\n",
       "9   9    Acura        2007  152270  Gasoline    Gray        1   6700"
      ]
     },
     "execution_count": 19,
     "metadata": {},
     "output_type": "execute_result"
    }
   ],
   "source": [
    "# drop some useless columns\n",
    "drop_col = ['model', 'engine', 'transmission', 'int_col', 'clean_title']\n",
    "train_df2 = train_df2.drop(drop_col, axis=1)\n",
    "train_df2.head(10)"
   ]
  },
  {
   "cell_type": "code",
   "execution_count": 20,
   "id": "57d6fa29",
   "metadata": {
    "_kg_hide-output": true,
    "execution": {
     "iopub.execute_input": "2024-06-11T17:50:09.559217Z",
     "iopub.status.busy": "2024-06-11T17:50:09.558381Z",
     "iopub.status.idle": "2024-06-11T17:50:09.574736Z",
     "shell.execute_reply": "2024-06-11T17:50:09.573841Z"
    },
    "papermill": {
     "duration": 0.036784,
     "end_time": "2024-06-11T17:50:09.576657",
     "exception": false,
     "start_time": "2024-06-11T17:50:09.539873",
     "status": "completed"
    },
    "tags": []
   },
   "outputs": [
    {
     "data": {
      "text/html": [
       "<div>\n",
       "<style scoped>\n",
       "    .dataframe tbody tr th:only-of-type {\n",
       "        vertical-align: middle;\n",
       "    }\n",
       "\n",
       "    .dataframe tbody tr th {\n",
       "        vertical-align: top;\n",
       "    }\n",
       "\n",
       "    .dataframe thead th {\n",
       "        text-align: right;\n",
       "    }\n",
       "</style>\n",
       "<table border=\"1\" class=\"dataframe\">\n",
       "  <thead>\n",
       "    <tr style=\"text-align: right;\">\n",
       "      <th></th>\n",
       "      <th>id</th>\n",
       "      <th>brand</th>\n",
       "      <th>model_year</th>\n",
       "      <th>milage</th>\n",
       "      <th>fuel_type</th>\n",
       "      <th>ext_col</th>\n",
       "      <th>accident</th>\n",
       "    </tr>\n",
       "  </thead>\n",
       "  <tbody>\n",
       "    <tr>\n",
       "      <th>0</th>\n",
       "      <td>54273</td>\n",
       "      <td>Mercedes-Benz</td>\n",
       "      <td>2014</td>\n",
       "      <td>73000</td>\n",
       "      <td>Gasoline</td>\n",
       "      <td>White</td>\n",
       "      <td>0</td>\n",
       "    </tr>\n",
       "    <tr>\n",
       "      <th>1</th>\n",
       "      <td>54274</td>\n",
       "      <td>Lexus</td>\n",
       "      <td>2015</td>\n",
       "      <td>128032</td>\n",
       "      <td>Gasoline</td>\n",
       "      <td>Silver</td>\n",
       "      <td>0</td>\n",
       "    </tr>\n",
       "    <tr>\n",
       "      <th>2</th>\n",
       "      <td>54275</td>\n",
       "      <td>Mercedes-Benz</td>\n",
       "      <td>2015</td>\n",
       "      <td>51983</td>\n",
       "      <td>Gasoline</td>\n",
       "      <td>Blue</td>\n",
       "      <td>0</td>\n",
       "    </tr>\n",
       "    <tr>\n",
       "      <th>3</th>\n",
       "      <td>54276</td>\n",
       "      <td>Land</td>\n",
       "      <td>2018</td>\n",
       "      <td>29500</td>\n",
       "      <td>Gasoline</td>\n",
       "      <td>White</td>\n",
       "      <td>1</td>\n",
       "    </tr>\n",
       "    <tr>\n",
       "      <th>4</th>\n",
       "      <td>54277</td>\n",
       "      <td>BMW</td>\n",
       "      <td>2020</td>\n",
       "      <td>90000</td>\n",
       "      <td>Gasoline</td>\n",
       "      <td>White</td>\n",
       "      <td>1</td>\n",
       "    </tr>\n",
       "    <tr>\n",
       "      <th>5</th>\n",
       "      <td>54278</td>\n",
       "      <td>Chevrolet</td>\n",
       "      <td>2018</td>\n",
       "      <td>2894</td>\n",
       "      <td>Gasoline</td>\n",
       "      <td>Silver</td>\n",
       "      <td>0</td>\n",
       "    </tr>\n",
       "    <tr>\n",
       "      <th>6</th>\n",
       "      <td>54279</td>\n",
       "      <td>Land</td>\n",
       "      <td>2019</td>\n",
       "      <td>41200</td>\n",
       "      <td>Gasoline</td>\n",
       "      <td>Silver</td>\n",
       "      <td>1</td>\n",
       "    </tr>\n",
       "    <tr>\n",
       "      <th>7</th>\n",
       "      <td>54280</td>\n",
       "      <td>Land</td>\n",
       "      <td>2019</td>\n",
       "      <td>58000</td>\n",
       "      <td>Gasoline</td>\n",
       "      <td>White</td>\n",
       "      <td>1</td>\n",
       "    </tr>\n",
       "    <tr>\n",
       "      <th>8</th>\n",
       "      <td>54281</td>\n",
       "      <td>Dodge</td>\n",
       "      <td>2013</td>\n",
       "      <td>124705</td>\n",
       "      <td>Gasoline</td>\n",
       "      <td>Red</td>\n",
       "      <td>1</td>\n",
       "    </tr>\n",
       "    <tr>\n",
       "      <th>9</th>\n",
       "      <td>54282</td>\n",
       "      <td>Audi</td>\n",
       "      <td>2022</td>\n",
       "      <td>29850</td>\n",
       "      <td>Gasoline</td>\n",
       "      <td>Black</td>\n",
       "      <td>0</td>\n",
       "    </tr>\n",
       "  </tbody>\n",
       "</table>\n",
       "</div>"
      ],
      "text/plain": [
       "      id          brand  model_year  milage fuel_type ext_col accident\n",
       "0  54273  Mercedes-Benz        2014   73000  Gasoline   White        0\n",
       "1  54274          Lexus        2015  128032  Gasoline  Silver        0\n",
       "2  54275  Mercedes-Benz        2015   51983  Gasoline    Blue        0\n",
       "3  54276           Land        2018   29500  Gasoline   White        1\n",
       "4  54277            BMW        2020   90000  Gasoline   White        1\n",
       "5  54278      Chevrolet        2018    2894  Gasoline  Silver        0\n",
       "6  54279           Land        2019   41200  Gasoline  Silver        1\n",
       "7  54280           Land        2019   58000  Gasoline   White        1\n",
       "8  54281          Dodge        2013  124705  Gasoline     Red        1\n",
       "9  54282           Audi        2022   29850  Gasoline   Black        0"
      ]
     },
     "execution_count": 20,
     "metadata": {},
     "output_type": "execute_result"
    }
   ],
   "source": [
    "test_df2 = test_df2.drop(drop_col, axis=1)\n",
    "test_df2.head(10)"
   ]
  },
  {
   "cell_type": "markdown",
   "id": "05c8a110",
   "metadata": {
    "papermill": {
     "duration": 0.017529,
     "end_time": "2024-06-11T17:50:09.611899",
     "exception": false,
     "start_time": "2024-06-11T17:50:09.594370",
     "status": "completed"
    },
    "tags": []
   },
   "source": [
    "### 2.2.3 ~One-hot~ Encoding the categorical data\n",
    "there is actually quite an amount of color type (12) and even more brand... we need to do other types of encoding:\n",
    "\n",
    "* label encoding: using unique integer value to encode (can introduce unwanted relationship)\n",
    "* frequent/ infrequent encoding: we can group the infrequent categories into single cat to prevent high cardinality, lets look into this first\n",
    "\n",
    "as for fuel_type, we will perform one-hot encoding since there is only 3 unique values"
   ]
  },
  {
   "cell_type": "code",
   "execution_count": 21,
   "id": "485409bd",
   "metadata": {
    "execution": {
     "iopub.execute_input": "2024-06-11T17:50:09.648498Z",
     "iopub.status.busy": "2024-06-11T17:50:09.648225Z",
     "iopub.status.idle": "2024-06-11T17:50:09.674108Z",
     "shell.execute_reply": "2024-06-11T17:50:09.673211Z"
    },
    "papermill": {
     "duration": 0.046871,
     "end_time": "2024-06-11T17:50:09.676365",
     "exception": false,
     "start_time": "2024-06-11T17:50:09.629494",
     "status": "completed"
    },
    "scrolled": true,
    "tags": []
   },
   "outputs": [
    {
     "name": "stdout",
     "output_type": "stream",
     "text": [
      "brand\n",
      "BMW              7367\n",
      "Ford             6664\n",
      "Mercedes-Benz    5074\n",
      "Chevrolet        4395\n",
      "Audi             2916\n",
      "Porsche          2602\n",
      "Toyota           2298\n",
      "Lexus            2257\n",
      "Jeep             2237\n",
      "Land             1993\n",
      "Cadillac         1552\n",
      "Nissan           1229\n",
      "GMC              1074\n",
      "RAM               966\n",
      "INFINITI          957\n",
      "Dodge             952\n",
      "Lincoln           766\n",
      "Subaru            738\n",
      "Mazda             723\n",
      "Hyundai           694\n",
      "Jaguar            654\n",
      "Volkswagen        628\n",
      "Honda             615\n",
      "Acura             575\n",
      "Kia               526\n",
      "Volvo             445\n",
      "MINI              363\n",
      "Maserati          293\n",
      "Bentley           269\n",
      "Genesis           249\n",
      "Chrysler          248\n",
      "Buick             228\n",
      "Mitsubishi        182\n",
      "Hummer            176\n",
      "Pontiac           149\n",
      "Alfa              144\n",
      "Rolls-Royce       124\n",
      "Lamborghini       114\n",
      "Tesla             110\n",
      "Ferrari            86\n",
      "Saturn             58\n",
      "Scion              53\n",
      "Aston              49\n",
      "McLaren            43\n",
      "Rivian             27\n",
      "FIAT               16\n",
      "Mercury            12\n",
      "Lotus              12\n",
      "Suzuki              4\n",
      "Maybach             3\n",
      "Lucid               2\n",
      "Plymouth            1\n",
      "Bugatti             1\n",
      "Name: count, dtype: int64\n",
      "ext_col\n",
      "Black     15678\n",
      "White     13995\n",
      "Gray       7902\n",
      "Silver     5569\n",
      "Blue       4761\n",
      "Red        3176\n",
      "Yellow      789\n",
      "Green       765\n",
      "Beige       457\n",
      "Brown       396\n",
      "Orange      335\n",
      "Purple       90\n",
      "Name: count, dtype: int64\n"
     ]
    }
   ],
   "source": [
    "# see the unique value counts of the high cardinality columns\n",
    "print(train_df2['brand'].value_counts())\n",
    "print(train_df2['ext_col'].value_counts())"
   ]
  },
  {
   "cell_type": "markdown",
   "id": "6f7a7f62",
   "metadata": {
    "papermill": {
     "duration": 0.018291,
     "end_time": "2024-06-11T17:50:09.712686",
     "exception": false,
     "start_time": "2024-06-11T17:50:09.694395",
     "status": "completed"
    },
    "tags": []
   },
   "source": [
    "seeing how many relatively rare values there are, we can suggest:\n",
    "\n",
    "* Grouping brand of less than 500 to 'Others', reducing 53 to 26\n",
    "* Grouping ext_col of less than 1000 to 'Other\", reducing 12 to 7"
   ]
  },
  {
   "cell_type": "code",
   "execution_count": 22,
   "id": "767d9313",
   "metadata": {
    "execution": {
     "iopub.execute_input": "2024-06-11T17:50:09.750315Z",
     "iopub.status.busy": "2024-06-11T17:50:09.750038Z",
     "iopub.status.idle": "2024-06-11T17:50:09.968445Z",
     "shell.execute_reply": "2024-06-11T17:50:09.967601Z"
    },
    "papermill": {
     "duration": 0.239744,
     "end_time": "2024-06-11T17:50:09.970707",
     "exception": false,
     "start_time": "2024-06-11T17:50:09.730963",
     "status": "completed"
    },
    "tags": []
   },
   "outputs": [],
   "source": [
    "other_color = ['Yellow', 'Green', 'Beige', 'Brown', 'Orange', 'Purple']\n",
    "other_brand = ['Volvo', 'MINI', 'Maserati', 'Bentley', 'Genesis', 'Chrysler', 'Buick', 'Mitsubishi', 'Hummer', 'Pontiac', 'Alfa', \n",
    "               'Rolls-Royce', 'Lamborghini', 'Tesla', 'Ferrari', 'Saturn', 'Scion', 'Aston', 'McLaren', 'Rivian', 'FIAT',\n",
    "               'Lotus', 'Mercury', 'Suzuki', 'Maybach', 'Lucid', 'Plymouth', 'Bugatti', 'Saab', 'smart']\n",
    "\n",
    "# Using replace function to group edge cases of brand & ext_col\n",
    "train_df3 = train_df2.copy()\n",
    "train_df3['ext_col'] = train_df3['ext_col'].replace(other_color, 'other')\n",
    "train_df3['brand'] = train_df3['brand'].replace(other_brand, 'other')\n",
    "\n",
    "test_df3 = test_df2.copy()\n",
    "test_df3['ext_col'] = test_df3['ext_col'].replace(other_color, 'other')\n",
    "test_df3['brand'] = test_df3['brand'].replace(other_brand, 'other')"
   ]
  },
  {
   "cell_type": "code",
   "execution_count": 23,
   "id": "144f51ed",
   "metadata": {
    "execution": {
     "iopub.execute_input": "2024-06-11T17:50:10.008713Z",
     "iopub.status.busy": "2024-06-11T17:50:10.008376Z",
     "iopub.status.idle": "2024-06-11T17:50:10.030537Z",
     "shell.execute_reply": "2024-06-11T17:50:10.029287Z"
    },
    "papermill": {
     "duration": 0.043111,
     "end_time": "2024-06-11T17:50:10.032473",
     "exception": false,
     "start_time": "2024-06-11T17:50:09.989362",
     "status": "completed"
    },
    "scrolled": true,
    "tags": []
   },
   "outputs": [
    {
     "name": "stdout",
     "output_type": "stream",
     "text": [
      "brand\n",
      "BMW              7367\n",
      "Ford             6664\n",
      "Mercedes-Benz    5074\n",
      "Chevrolet        4395\n",
      "other            3461\n",
      "Audi             2916\n",
      "Porsche          2602\n",
      "Toyota           2298\n",
      "Lexus            2257\n",
      "Jeep             2237\n",
      "Land             1993\n",
      "Cadillac         1552\n",
      "Nissan           1229\n",
      "GMC              1074\n",
      "RAM               966\n",
      "INFINITI          957\n",
      "Dodge             952\n",
      "Lincoln           766\n",
      "Subaru            738\n",
      "Mazda             723\n",
      "Hyundai           694\n",
      "Jaguar            654\n",
      "Volkswagen        628\n",
      "Honda             615\n",
      "Acura             575\n",
      "Kia               526\n",
      "Name: count, dtype: int64\n",
      "ext_col\n",
      "Black     15678\n",
      "White     13995\n",
      "Gray       7902\n",
      "Silver     5569\n",
      "Blue       4761\n",
      "Red        3176\n",
      "other      2832\n",
      "Name: count, dtype: int64\n"
     ]
    }
   ],
   "source": [
    "print(train_df3['brand'].value_counts())\n",
    "print(train_df3['ext_col'].value_counts())"
   ]
  },
  {
   "cell_type": "code",
   "execution_count": 24,
   "id": "01d1b600",
   "metadata": {
    "execution": {
     "iopub.execute_input": "2024-06-11T17:50:10.069721Z",
     "iopub.status.busy": "2024-06-11T17:50:10.069391Z",
     "iopub.status.idle": "2024-06-11T17:50:10.088022Z",
     "shell.execute_reply": "2024-06-11T17:50:10.086858Z"
    },
    "papermill": {
     "duration": 0.039564,
     "end_time": "2024-06-11T17:50:10.089950",
     "exception": false,
     "start_time": "2024-06-11T17:50:10.050386",
     "status": "completed"
    },
    "tags": []
   },
   "outputs": [
    {
     "name": "stdout",
     "output_type": "stream",
     "text": [
      "brand\n",
      "BMW              4854\n",
      "Ford             4362\n",
      "Mercedes-Benz    3257\n",
      "Chevrolet        2973\n",
      "other            2320\n",
      "Audi             1916\n",
      "Porsche          1792\n",
      "Toyota           1562\n",
      "Lexus            1530\n",
      "Jeep             1502\n",
      "Land             1360\n",
      "Cadillac         1050\n",
      "Nissan            908\n",
      "GMC               746\n",
      "INFINITI          666\n",
      "Dodge             655\n",
      "RAM               606\n",
      "Mazda             512\n",
      "Lincoln           496\n",
      "Subaru            492\n",
      "Jaguar            446\n",
      "Hyundai           436\n",
      "Honda             401\n",
      "Acura             379\n",
      "Volkswagen        376\n",
      "Kia               347\n",
      "Name: count, dtype: int64\n",
      "ext_col\n",
      "Black     10397\n",
      "White      9189\n",
      "Gray       5377\n",
      "Silver     3710\n",
      "Blue       3221\n",
      "Red        2155\n",
      "other      1895\n",
      "Name: count, dtype: int64\n"
     ]
    }
   ],
   "source": [
    "print(test_df3['brand'].value_counts())\n",
    "print(test_df3['ext_col'].value_counts())"
   ]
  },
  {
   "cell_type": "code",
   "execution_count": 25,
   "id": "99e7d415",
   "metadata": {
    "execution": {
     "iopub.execute_input": "2024-06-11T17:50:10.129262Z",
     "iopub.status.busy": "2024-06-11T17:50:10.128784Z",
     "iopub.status.idle": "2024-06-11T17:50:10.185901Z",
     "shell.execute_reply": "2024-06-11T17:50:10.185030Z"
    },
    "papermill": {
     "duration": 0.079321,
     "end_time": "2024-06-11T17:50:10.188055",
     "exception": false,
     "start_time": "2024-06-11T17:50:10.108734",
     "status": "completed"
    },
    "tags": []
   },
   "outputs": [
    {
     "data": {
      "text/html": [
       "<div>\n",
       "<style scoped>\n",
       "    .dataframe tbody tr th:only-of-type {\n",
       "        vertical-align: middle;\n",
       "    }\n",
       "\n",
       "    .dataframe tbody tr th {\n",
       "        vertical-align: top;\n",
       "    }\n",
       "\n",
       "    .dataframe thead th {\n",
       "        text-align: right;\n",
       "    }\n",
       "</style>\n",
       "<table border=\"1\" class=\"dataframe\">\n",
       "  <thead>\n",
       "    <tr style=\"text-align: right;\">\n",
       "      <th></th>\n",
       "      <th>id</th>\n",
       "      <th>brand</th>\n",
       "      <th>model_year</th>\n",
       "      <th>milage</th>\n",
       "      <th>ext_col</th>\n",
       "      <th>accident</th>\n",
       "      <th>price</th>\n",
       "      <th>ext_col_encoded</th>\n",
       "      <th>brand_encoded</th>\n",
       "      <th>fuel_type_Diesel</th>\n",
       "      <th>fuel_type_Gasoline</th>\n",
       "      <th>fuel_type_Hybrid</th>\n",
       "    </tr>\n",
       "  </thead>\n",
       "  <tbody>\n",
       "    <tr>\n",
       "      <th>0</th>\n",
       "      <td>0</td>\n",
       "      <td>Ford</td>\n",
       "      <td>2018</td>\n",
       "      <td>74349</td>\n",
       "      <td>Blue</td>\n",
       "      <td>0</td>\n",
       "      <td>11000</td>\n",
       "      <td>4</td>\n",
       "      <td>1</td>\n",
       "      <td>0</td>\n",
       "      <td>1</td>\n",
       "      <td>0</td>\n",
       "    </tr>\n",
       "    <tr>\n",
       "      <th>1</th>\n",
       "      <td>1</td>\n",
       "      <td>BMW</td>\n",
       "      <td>2007</td>\n",
       "      <td>80000</td>\n",
       "      <td>Black</td>\n",
       "      <td>0</td>\n",
       "      <td>8250</td>\n",
       "      <td>0</td>\n",
       "      <td>0</td>\n",
       "      <td>0</td>\n",
       "      <td>1</td>\n",
       "      <td>0</td>\n",
       "    </tr>\n",
       "    <tr>\n",
       "      <th>2</th>\n",
       "      <td>2</td>\n",
       "      <td>Jaguar</td>\n",
       "      <td>2009</td>\n",
       "      <td>91491</td>\n",
       "      <td>other</td>\n",
       "      <td>0</td>\n",
       "      <td>15000</td>\n",
       "      <td>6</td>\n",
       "      <td>19</td>\n",
       "      <td>0</td>\n",
       "      <td>1</td>\n",
       "      <td>0</td>\n",
       "    </tr>\n",
       "    <tr>\n",
       "      <th>3</th>\n",
       "      <td>3</td>\n",
       "      <td>BMW</td>\n",
       "      <td>2022</td>\n",
       "      <td>2437</td>\n",
       "      <td>Gray</td>\n",
       "      <td>0</td>\n",
       "      <td>63500</td>\n",
       "      <td>2</td>\n",
       "      <td>0</td>\n",
       "      <td>0</td>\n",
       "      <td>0</td>\n",
       "      <td>1</td>\n",
       "    </tr>\n",
       "    <tr>\n",
       "      <th>4</th>\n",
       "      <td>4</td>\n",
       "      <td>other</td>\n",
       "      <td>2001</td>\n",
       "      <td>111000</td>\n",
       "      <td>White</td>\n",
       "      <td>0</td>\n",
       "      <td>7850</td>\n",
       "      <td>1</td>\n",
       "      <td>25</td>\n",
       "      <td>0</td>\n",
       "      <td>1</td>\n",
       "      <td>0</td>\n",
       "    </tr>\n",
       "  </tbody>\n",
       "</table>\n",
       "</div>"
      ],
      "text/plain": [
       "   id   brand  model_year  milage ext_col accident  price  ext_col_encoded  \\\n",
       "0   0    Ford        2018   74349    Blue        0  11000                4   \n",
       "1   1     BMW        2007   80000   Black        0   8250                0   \n",
       "2   2  Jaguar        2009   91491   other        0  15000                6   \n",
       "3   3     BMW        2022    2437    Gray        0  63500                2   \n",
       "4   4   other        2001  111000   White        0   7850                1   \n",
       "\n",
       "   brand_encoded  fuel_type_Diesel  fuel_type_Gasoline  fuel_type_Hybrid  \n",
       "0              1                 0                   1                 0  \n",
       "1              0                 0                   1                 0  \n",
       "2             19                 0                   1                 0  \n",
       "3              0                 0                   0                 1  \n",
       "4             25                 0                   1                 0  "
      ]
     },
     "execution_count": 25,
     "metadata": {},
     "output_type": "execute_result"
    }
   ],
   "source": [
    "# Define your own encoding dictionary\n",
    "ext_col_encoding = {\n",
    "    'Black': 0,\n",
    "    'White': 1,\n",
    "    'Gray': 2,\n",
    "    'Silver': 3,\n",
    "    'Blue': 4,\n",
    "    'Red': 5,\n",
    "    'other': 6    \n",
    "}\n",
    "\n",
    "brand_encoding = {\n",
    "    'BMW': 0, \n",
    "    'Ford': 1,\n",
    "    'Mercedes-Benz': 2,\n",
    "    'Chevrolet': 3,\n",
    "    'Audi': 4,\n",
    "    'Porsche': 5,\n",
    "    'Toyota': 6,\n",
    "    'Lexus': 7,  \n",
    "    'Jeep': 8,  \n",
    "    'Land': 9,  \n",
    "    'Cadillac': 10,  \n",
    "    'Nissan': 11,  \n",
    "    'GMC': 12,  \n",
    "    'INFINITI': 13,  \n",
    "    'Dodge': 14,  \n",
    "    'RAM': 15,  \n",
    "    'Mazda': 16,  \n",
    "    'Lincoln': 17,  \n",
    "    'Subaru': 18,  \n",
    "    'Jaguar': 19,  \n",
    "    'Hyundai': 20,  \n",
    "    'Honda': 21,  \n",
    "    'Acura': 22,  \n",
    "    'Volkswagen': 23,  \n",
    "    'Kia': 24,  \n",
    "    'other': 25\n",
    "}\n",
    "\n",
    "\n",
    "# Encode the 'ext_col' column using the predefined dictionary\n",
    "train_df3['ext_col_encoded'] = train_df3['ext_col'].map(ext_col_encoding)\n",
    "train_df3['brand_encoded'] = train_df3['brand'].map(brand_encoding)\n",
    "\n",
    "# One-hot encode fuel_type\n",
    "train_df3 = pd.get_dummies(train_df3, columns=['fuel_type'], dtype='int')\n",
    "\n",
    "train_df3.head()"
   ]
  },
  {
   "cell_type": "code",
   "execution_count": 26,
   "id": "e90164bc",
   "metadata": {
    "execution": {
     "iopub.execute_input": "2024-06-11T17:50:10.229477Z",
     "iopub.status.busy": "2024-06-11T17:50:10.229174Z",
     "iopub.status.idle": "2024-06-11T17:50:10.263200Z",
     "shell.execute_reply": "2024-06-11T17:50:10.262355Z"
    },
    "papermill": {
     "duration": 0.056895,
     "end_time": "2024-06-11T17:50:10.265816",
     "exception": false,
     "start_time": "2024-06-11T17:50:10.208921",
     "status": "completed"
    },
    "tags": []
   },
   "outputs": [
    {
     "data": {
      "text/html": [
       "<div>\n",
       "<style scoped>\n",
       "    .dataframe tbody tr th:only-of-type {\n",
       "        vertical-align: middle;\n",
       "    }\n",
       "\n",
       "    .dataframe tbody tr th {\n",
       "        vertical-align: top;\n",
       "    }\n",
       "\n",
       "    .dataframe thead th {\n",
       "        text-align: right;\n",
       "    }\n",
       "</style>\n",
       "<table border=\"1\" class=\"dataframe\">\n",
       "  <thead>\n",
       "    <tr style=\"text-align: right;\">\n",
       "      <th></th>\n",
       "      <th>id</th>\n",
       "      <th>brand</th>\n",
       "      <th>model_year</th>\n",
       "      <th>milage</th>\n",
       "      <th>ext_col</th>\n",
       "      <th>accident</th>\n",
       "      <th>ext_col_encoded</th>\n",
       "      <th>brand_encoded</th>\n",
       "      <th>fuel_type_Diesel</th>\n",
       "      <th>fuel_type_Gasoline</th>\n",
       "      <th>fuel_type_Hybrid</th>\n",
       "    </tr>\n",
       "  </thead>\n",
       "  <tbody>\n",
       "    <tr>\n",
       "      <th>0</th>\n",
       "      <td>54273</td>\n",
       "      <td>Mercedes-Benz</td>\n",
       "      <td>2014</td>\n",
       "      <td>73000</td>\n",
       "      <td>White</td>\n",
       "      <td>0</td>\n",
       "      <td>1</td>\n",
       "      <td>2</td>\n",
       "      <td>0</td>\n",
       "      <td>1</td>\n",
       "      <td>0</td>\n",
       "    </tr>\n",
       "    <tr>\n",
       "      <th>1</th>\n",
       "      <td>54274</td>\n",
       "      <td>Lexus</td>\n",
       "      <td>2015</td>\n",
       "      <td>128032</td>\n",
       "      <td>Silver</td>\n",
       "      <td>0</td>\n",
       "      <td>3</td>\n",
       "      <td>7</td>\n",
       "      <td>0</td>\n",
       "      <td>1</td>\n",
       "      <td>0</td>\n",
       "    </tr>\n",
       "    <tr>\n",
       "      <th>2</th>\n",
       "      <td>54275</td>\n",
       "      <td>Mercedes-Benz</td>\n",
       "      <td>2015</td>\n",
       "      <td>51983</td>\n",
       "      <td>Blue</td>\n",
       "      <td>0</td>\n",
       "      <td>4</td>\n",
       "      <td>2</td>\n",
       "      <td>0</td>\n",
       "      <td>1</td>\n",
       "      <td>0</td>\n",
       "    </tr>\n",
       "    <tr>\n",
       "      <th>3</th>\n",
       "      <td>54276</td>\n",
       "      <td>Land</td>\n",
       "      <td>2018</td>\n",
       "      <td>29500</td>\n",
       "      <td>White</td>\n",
       "      <td>1</td>\n",
       "      <td>1</td>\n",
       "      <td>9</td>\n",
       "      <td>0</td>\n",
       "      <td>1</td>\n",
       "      <td>0</td>\n",
       "    </tr>\n",
       "    <tr>\n",
       "      <th>4</th>\n",
       "      <td>54277</td>\n",
       "      <td>BMW</td>\n",
       "      <td>2020</td>\n",
       "      <td>90000</td>\n",
       "      <td>White</td>\n",
       "      <td>1</td>\n",
       "      <td>1</td>\n",
       "      <td>0</td>\n",
       "      <td>0</td>\n",
       "      <td>1</td>\n",
       "      <td>0</td>\n",
       "    </tr>\n",
       "  </tbody>\n",
       "</table>\n",
       "</div>"
      ],
      "text/plain": [
       "      id          brand  model_year  milage ext_col accident  ext_col_encoded  \\\n",
       "0  54273  Mercedes-Benz        2014   73000   White        0                1   \n",
       "1  54274          Lexus        2015  128032  Silver        0                3   \n",
       "2  54275  Mercedes-Benz        2015   51983    Blue        0                4   \n",
       "3  54276           Land        2018   29500   White        1                1   \n",
       "4  54277            BMW        2020   90000   White        1                1   \n",
       "\n",
       "   brand_encoded  fuel_type_Diesel  fuel_type_Gasoline  fuel_type_Hybrid  \n",
       "0              2                 0                   1                 0  \n",
       "1              7                 0                   1                 0  \n",
       "2              2                 0                   1                 0  \n",
       "3              9                 0                   1                 0  \n",
       "4              0                 0                   1                 0  "
      ]
     },
     "execution_count": 26,
     "metadata": {},
     "output_type": "execute_result"
    }
   ],
   "source": [
    "# Encode the 'ext_col' column using the predefined dictionary\n",
    "test_df3['ext_col_encoded'] = test_df3['ext_col'].map(ext_col_encoding)\n",
    "test_df3['brand_encoded'] = test_df3['brand'].map(brand_encoding)\n",
    "\n",
    "# One-hot encode fuel_type\n",
    "test_df3 = pd.get_dummies(test_df3, columns=['fuel_type'], dtype='int')\n",
    "\n",
    "test_df3.head()"
   ]
  },
  {
   "cell_type": "markdown",
   "id": "9cf3a9a3",
   "metadata": {
    "papermill": {
     "duration": 0.018601,
     "end_time": "2024-06-11T17:50:10.304046",
     "exception": false,
     "start_time": "2024-06-11T17:50:10.285445",
     "status": "completed"
    },
    "tags": []
   },
   "source": [
    "### 2.2.4 Make a new dataframe for the preprocessed data"
   ]
  },
  {
   "cell_type": "code",
   "execution_count": 27,
   "id": "31d0f96b",
   "metadata": {
    "execution": {
     "iopub.execute_input": "2024-06-11T17:50:10.342400Z",
     "iopub.status.busy": "2024-06-11T17:50:10.342138Z",
     "iopub.status.idle": "2024-06-11T17:50:10.363859Z",
     "shell.execute_reply": "2024-06-11T17:50:10.363043Z"
    },
    "papermill": {
     "duration": 0.04325,
     "end_time": "2024-06-11T17:50:10.365908",
     "exception": false,
     "start_time": "2024-06-11T17:50:10.322658",
     "status": "completed"
    },
    "tags": []
   },
   "outputs": [
    {
     "data": {
      "text/html": [
       "<div>\n",
       "<style scoped>\n",
       "    .dataframe tbody tr th:only-of-type {\n",
       "        vertical-align: middle;\n",
       "    }\n",
       "\n",
       "    .dataframe tbody tr th {\n",
       "        vertical-align: top;\n",
       "    }\n",
       "\n",
       "    .dataframe thead th {\n",
       "        text-align: right;\n",
       "    }\n",
       "</style>\n",
       "<table border=\"1\" class=\"dataframe\">\n",
       "  <thead>\n",
       "    <tr style=\"text-align: right;\">\n",
       "      <th></th>\n",
       "      <th>id</th>\n",
       "      <th>model_year</th>\n",
       "      <th>milage</th>\n",
       "      <th>fuel_type_Diesel</th>\n",
       "      <th>fuel_type_Gasoline</th>\n",
       "      <th>fuel_type_Hybrid</th>\n",
       "      <th>accident</th>\n",
       "      <th>brand_encoded</th>\n",
       "      <th>ext_col_encoded</th>\n",
       "      <th>price</th>\n",
       "    </tr>\n",
       "  </thead>\n",
       "  <tbody>\n",
       "    <tr>\n",
       "      <th>0</th>\n",
       "      <td>0</td>\n",
       "      <td>2018</td>\n",
       "      <td>74349</td>\n",
       "      <td>0</td>\n",
       "      <td>1</td>\n",
       "      <td>0</td>\n",
       "      <td>0</td>\n",
       "      <td>1</td>\n",
       "      <td>4</td>\n",
       "      <td>11000</td>\n",
       "    </tr>\n",
       "    <tr>\n",
       "      <th>1</th>\n",
       "      <td>1</td>\n",
       "      <td>2007</td>\n",
       "      <td>80000</td>\n",
       "      <td>0</td>\n",
       "      <td>1</td>\n",
       "      <td>0</td>\n",
       "      <td>0</td>\n",
       "      <td>0</td>\n",
       "      <td>0</td>\n",
       "      <td>8250</td>\n",
       "    </tr>\n",
       "    <tr>\n",
       "      <th>2</th>\n",
       "      <td>2</td>\n",
       "      <td>2009</td>\n",
       "      <td>91491</td>\n",
       "      <td>0</td>\n",
       "      <td>1</td>\n",
       "      <td>0</td>\n",
       "      <td>0</td>\n",
       "      <td>19</td>\n",
       "      <td>6</td>\n",
       "      <td>15000</td>\n",
       "    </tr>\n",
       "    <tr>\n",
       "      <th>3</th>\n",
       "      <td>3</td>\n",
       "      <td>2022</td>\n",
       "      <td>2437</td>\n",
       "      <td>0</td>\n",
       "      <td>0</td>\n",
       "      <td>1</td>\n",
       "      <td>0</td>\n",
       "      <td>0</td>\n",
       "      <td>2</td>\n",
       "      <td>63500</td>\n",
       "    </tr>\n",
       "    <tr>\n",
       "      <th>4</th>\n",
       "      <td>4</td>\n",
       "      <td>2001</td>\n",
       "      <td>111000</td>\n",
       "      <td>0</td>\n",
       "      <td>1</td>\n",
       "      <td>0</td>\n",
       "      <td>0</td>\n",
       "      <td>25</td>\n",
       "      <td>1</td>\n",
       "      <td>7850</td>\n",
       "    </tr>\n",
       "  </tbody>\n",
       "</table>\n",
       "</div>"
      ],
      "text/plain": [
       "   id  model_year  milage  fuel_type_Diesel  fuel_type_Gasoline  \\\n",
       "0   0        2018   74349                 0                   1   \n",
       "1   1        2007   80000                 0                   1   \n",
       "2   2        2009   91491                 0                   1   \n",
       "3   3        2022    2437                 0                   0   \n",
       "4   4        2001  111000                 0                   1   \n",
       "\n",
       "   fuel_type_Hybrid accident  brand_encoded  ext_col_encoded  price  \n",
       "0                 0        0              1                4  11000  \n",
       "1                 0        0              0                0   8250  \n",
       "2                 0        0             19                6  15000  \n",
       "3                 1        0              0                2  63500  \n",
       "4                 0        0             25                1   7850  "
      ]
     },
     "execution_count": 27,
     "metadata": {},
     "output_type": "execute_result"
    }
   ],
   "source": [
    "train_df = train_df3[['id', 'model_year', 'milage', 'fuel_type_Diesel', 'fuel_type_Gasoline', 'fuel_type_Hybrid', 'accident', 'brand_encoded', \n",
    "                      'ext_col_encoded', 'price']].copy()\n",
    "train_df.head()"
   ]
  },
  {
   "cell_type": "code",
   "execution_count": 28,
   "id": "7a5c271d",
   "metadata": {
    "execution": {
     "iopub.execute_input": "2024-06-11T17:50:10.406194Z",
     "iopub.status.busy": "2024-06-11T17:50:10.405928Z",
     "iopub.status.idle": "2024-06-11T17:50:10.421609Z",
     "shell.execute_reply": "2024-06-11T17:50:10.420732Z"
    },
    "papermill": {
     "duration": 0.037283,
     "end_time": "2024-06-11T17:50:10.423460",
     "exception": false,
     "start_time": "2024-06-11T17:50:10.386177",
     "status": "completed"
    },
    "tags": []
   },
   "outputs": [
    {
     "data": {
      "text/html": [
       "<div>\n",
       "<style scoped>\n",
       "    .dataframe tbody tr th:only-of-type {\n",
       "        vertical-align: middle;\n",
       "    }\n",
       "\n",
       "    .dataframe tbody tr th {\n",
       "        vertical-align: top;\n",
       "    }\n",
       "\n",
       "    .dataframe thead th {\n",
       "        text-align: right;\n",
       "    }\n",
       "</style>\n",
       "<table border=\"1\" class=\"dataframe\">\n",
       "  <thead>\n",
       "    <tr style=\"text-align: right;\">\n",
       "      <th></th>\n",
       "      <th>id</th>\n",
       "      <th>model_year</th>\n",
       "      <th>milage</th>\n",
       "      <th>fuel_type_Diesel</th>\n",
       "      <th>fuel_type_Gasoline</th>\n",
       "      <th>fuel_type_Hybrid</th>\n",
       "      <th>accident</th>\n",
       "      <th>brand_encoded</th>\n",
       "      <th>ext_col_encoded</th>\n",
       "    </tr>\n",
       "  </thead>\n",
       "  <tbody>\n",
       "    <tr>\n",
       "      <th>0</th>\n",
       "      <td>54273</td>\n",
       "      <td>2014</td>\n",
       "      <td>73000</td>\n",
       "      <td>0</td>\n",
       "      <td>1</td>\n",
       "      <td>0</td>\n",
       "      <td>0</td>\n",
       "      <td>2</td>\n",
       "      <td>1</td>\n",
       "    </tr>\n",
       "    <tr>\n",
       "      <th>1</th>\n",
       "      <td>54274</td>\n",
       "      <td>2015</td>\n",
       "      <td>128032</td>\n",
       "      <td>0</td>\n",
       "      <td>1</td>\n",
       "      <td>0</td>\n",
       "      <td>0</td>\n",
       "      <td>7</td>\n",
       "      <td>3</td>\n",
       "    </tr>\n",
       "    <tr>\n",
       "      <th>2</th>\n",
       "      <td>54275</td>\n",
       "      <td>2015</td>\n",
       "      <td>51983</td>\n",
       "      <td>0</td>\n",
       "      <td>1</td>\n",
       "      <td>0</td>\n",
       "      <td>0</td>\n",
       "      <td>2</td>\n",
       "      <td>4</td>\n",
       "    </tr>\n",
       "    <tr>\n",
       "      <th>3</th>\n",
       "      <td>54276</td>\n",
       "      <td>2018</td>\n",
       "      <td>29500</td>\n",
       "      <td>0</td>\n",
       "      <td>1</td>\n",
       "      <td>0</td>\n",
       "      <td>1</td>\n",
       "      <td>9</td>\n",
       "      <td>1</td>\n",
       "    </tr>\n",
       "    <tr>\n",
       "      <th>4</th>\n",
       "      <td>54277</td>\n",
       "      <td>2020</td>\n",
       "      <td>90000</td>\n",
       "      <td>0</td>\n",
       "      <td>1</td>\n",
       "      <td>0</td>\n",
       "      <td>1</td>\n",
       "      <td>0</td>\n",
       "      <td>1</td>\n",
       "    </tr>\n",
       "  </tbody>\n",
       "</table>\n",
       "</div>"
      ],
      "text/plain": [
       "      id  model_year  milage  fuel_type_Diesel  fuel_type_Gasoline  \\\n",
       "0  54273        2014   73000                 0                   1   \n",
       "1  54274        2015  128032                 0                   1   \n",
       "2  54275        2015   51983                 0                   1   \n",
       "3  54276        2018   29500                 0                   1   \n",
       "4  54277        2020   90000                 0                   1   \n",
       "\n",
       "   fuel_type_Hybrid accident  brand_encoded  ext_col_encoded  \n",
       "0                 0        0              2                1  \n",
       "1                 0        0              7                3  \n",
       "2                 0        0              2                4  \n",
       "3                 0        1              9                1  \n",
       "4                 0        1              0                1  "
      ]
     },
     "execution_count": 28,
     "metadata": {},
     "output_type": "execute_result"
    }
   ],
   "source": [
    "test_df = test_df3[['id', 'model_year', 'milage', 'fuel_type_Diesel', 'fuel_type_Gasoline', 'fuel_type_Hybrid', \n",
    "                    'accident', 'brand_encoded', 'ext_col_encoded']].copy()\n",
    "test_df.head()"
   ]
  },
  {
   "cell_type": "code",
   "execution_count": 29,
   "id": "a6be63de",
   "metadata": {
    "execution": {
     "iopub.execute_input": "2024-06-11T17:50:10.469123Z",
     "iopub.status.busy": "2024-06-11T17:50:10.468728Z",
     "iopub.status.idle": "2024-06-11T17:50:10.477314Z",
     "shell.execute_reply": "2024-06-11T17:50:10.476268Z"
    },
    "papermill": {
     "duration": 0.037067,
     "end_time": "2024-06-11T17:50:10.479852",
     "exception": false,
     "start_time": "2024-06-11T17:50:10.442785",
     "status": "completed"
    },
    "tags": []
   },
   "outputs": [
    {
     "name": "stdout",
     "output_type": "stream",
     "text": [
      "brand_encoded: [ 1  0 19 25 22  4 12  3  5  2  7 24 17 14 23  9 10 16 15 18 20  8 21 11\n",
      "  6 13]\n",
      "brand_encoded: [ 2  7  9  0  3 14  4  1 24  6 10 12  8 16 22 13 23 18 20 19  5 17 11 15\n",
      " 25 21]\n"
     ]
    }
   ],
   "source": [
    "print(\"brand_encoded:\", train_df.brand_encoded.unique())\n",
    "print(\"brand_encoded:\", test_df.brand_encoded.unique())"
   ]
  },
  {
   "cell_type": "code",
   "execution_count": 30,
   "id": "027d1ff1",
   "metadata": {
    "execution": {
     "iopub.execute_input": "2024-06-11T17:50:10.526511Z",
     "iopub.status.busy": "2024-06-11T17:50:10.526218Z",
     "iopub.status.idle": "2024-06-11T17:50:10.532542Z",
     "shell.execute_reply": "2024-06-11T17:50:10.531352Z"
    },
    "papermill": {
     "duration": 0.029091,
     "end_time": "2024-06-11T17:50:10.534719",
     "exception": false,
     "start_time": "2024-06-11T17:50:10.505628",
     "status": "completed"
    },
    "tags": []
   },
   "outputs": [
    {
     "name": "stdout",
     "output_type": "stream",
     "text": [
      "ext_col_encoded: [4 0 6 2 1 5 3]\n",
      "ext_col_encoded: [1 3 4 5 0 2 6]\n"
     ]
    }
   ],
   "source": [
    "print(\"ext_col_encoded:\", train_df.ext_col_encoded.unique())\n",
    "print(\"ext_col_encoded:\", test_df.ext_col_encoded.unique())"
   ]
  },
  {
   "cell_type": "markdown",
   "id": "57e81118",
   "metadata": {
    "papermill": {
     "duration": 0.023434,
     "end_time": "2024-06-11T17:50:10.581212",
     "exception": false,
     "start_time": "2024-06-11T17:50:10.557778",
     "status": "completed"
    },
    "tags": []
   },
   "source": [
    "converting data type int to float:"
   ]
  },
  {
   "cell_type": "code",
   "execution_count": 31,
   "id": "57c0f1ea",
   "metadata": {
    "execution": {
     "iopub.execute_input": "2024-06-11T17:50:10.641790Z",
     "iopub.status.busy": "2024-06-11T17:50:10.640955Z",
     "iopub.status.idle": "2024-06-11T17:50:10.659064Z",
     "shell.execute_reply": "2024-06-11T17:50:10.658048Z"
    },
    "papermill": {
     "duration": 0.050031,
     "end_time": "2024-06-11T17:50:10.661300",
     "exception": false,
     "start_time": "2024-06-11T17:50:10.611269",
     "status": "completed"
    },
    "tags": []
   },
   "outputs": [
    {
     "data": {
      "text/plain": [
       "id                      int64\n",
       "model_year              int64\n",
       "milage                  int64\n",
       "fuel_type_Diesel      float64\n",
       "fuel_type_Gasoline    float64\n",
       "fuel_type_Hybrid      float64\n",
       "accident                int64\n",
       "brand_encoded           int64\n",
       "ext_col_encoded         int64\n",
       "price                 float64\n",
       "dtype: object"
      ]
     },
     "execution_count": 31,
     "metadata": {},
     "output_type": "execute_result"
    }
   ],
   "source": [
    "train_df['accident'] = train_df['accident'].astype(int)\n",
    "train_df['price'] = train_df['price'].astype(float)\n",
    "train_df['fuel_type_Diesel'] = train_df['fuel_type_Diesel'].astype(float)\n",
    "train_df['fuel_type_Gasoline'] = train_df['fuel_type_Gasoline'].astype(float)\n",
    "train_df['fuel_type_Hybrid'] = train_df['fuel_type_Hybrid'].astype(float)\n",
    "train_df.dtypes"
   ]
  },
  {
   "cell_type": "code",
   "execution_count": 32,
   "id": "edc8645a",
   "metadata": {
    "execution": {
     "iopub.execute_input": "2024-06-11T17:50:10.702286Z",
     "iopub.status.busy": "2024-06-11T17:50:10.701735Z",
     "iopub.status.idle": "2024-06-11T17:50:10.714708Z",
     "shell.execute_reply": "2024-06-11T17:50:10.713460Z"
    },
    "papermill": {
     "duration": 0.035848,
     "end_time": "2024-06-11T17:50:10.717210",
     "exception": false,
     "start_time": "2024-06-11T17:50:10.681362",
     "status": "completed"
    },
    "tags": []
   },
   "outputs": [
    {
     "data": {
      "text/plain": [
       "id                      int64\n",
       "model_year              int64\n",
       "milage                  int64\n",
       "fuel_type_Diesel      float64\n",
       "fuel_type_Gasoline    float64\n",
       "fuel_type_Hybrid      float64\n",
       "accident                int64\n",
       "brand_encoded           int64\n",
       "ext_col_encoded         int64\n",
       "dtype: object"
      ]
     },
     "execution_count": 32,
     "metadata": {},
     "output_type": "execute_result"
    }
   ],
   "source": [
    "test_df['accident'] = test_df['accident'].astype(int)\n",
    "test_df['fuel_type_Diesel'] = test_df['fuel_type_Diesel'].astype(float)\n",
    "test_df['fuel_type_Gasoline'] = test_df['fuel_type_Gasoline'].astype(float)\n",
    "test_df['fuel_type_Hybrid'] = test_df['fuel_type_Hybrid'].astype(float)\n",
    "test_df.dtypes"
   ]
  },
  {
   "cell_type": "markdown",
   "id": "f823f9dc",
   "metadata": {
    "papermill": {
     "duration": 0.020876,
     "end_time": "2024-06-11T17:50:10.764115",
     "exception": false,
     "start_time": "2024-06-11T17:50:10.743239",
     "status": "completed"
    },
    "tags": []
   },
   "source": [
    "# 3. Build a baseline model\n",
    "We will build a basic model using XGBoost Regressor as a baseline here ~where our second, more advanced model (deep learning?) will try to beat.~\n",
    "\n",
    "codes adapted from [\"Accelerating XGBoost with GPU\" post](https://www.kaggle.com/code/vinhnguyen/accelerating-xgboost-with-gpu), had to modify for regression usecase (instead of the original classification) "
   ]
  },
  {
   "cell_type": "code",
   "execution_count": 33,
   "id": "471079e3",
   "metadata": {
    "execution": {
     "iopub.execute_input": "2024-06-11T17:50:10.808278Z",
     "iopub.status.busy": "2024-06-11T17:50:10.807852Z",
     "iopub.status.idle": "2024-06-11T17:50:12.001290Z",
     "shell.execute_reply": "2024-06-11T17:50:12.000471Z"
    },
    "papermill": {
     "duration": 1.219628,
     "end_time": "2024-06-11T17:50:12.003635",
     "exception": false,
     "start_time": "2024-06-11T17:50:10.784007",
     "status": "completed"
    },
    "tags": []
   },
   "outputs": [],
   "source": [
    "# import cudf as cu\n",
    "from sklearn.model_selection import KFold, train_test_split\n",
    "from sklearn import metrics\n",
    "# import gc\n",
    "import xgboost as xgb  # Use XGBRegressor for regression tasks\n",
    "\n",
    "MAX_TREE_DEPTH = 3\n",
    "TREE_METHOD = 'hist'\n",
    "ITERATIONS = 100\n",
    "SUBSAMPLE = 0.6\n",
    "REGULARIZATION = 0.5\n",
    "GAMMA = 0.5\n",
    "# POS_WEIGHT = 1\n",
    "EARLY_STOP = 10\n",
    "\n",
    "model_params = {\n",
    "    'objective':'reg:squarederror', \n",
    "    'max_depth': MAX_TREE_DEPTH, \n",
    "    'learning_rate': 0.05, \n",
    "    'gamma': GAMMA, \n",
    "    'alpha': REGULARIZATION,\n",
    "    'tree_method': TREE_METHOD, \n",
    "    'subsample': SUBSAMPLE, \n",
    "#     'scale_pos_weight': POS_WEIGHT, \n",
    "#     'silent': 1, \n",
    "    'eval_metric': 'rmse',\n",
    "    'device' : 'cuda'\n",
    "    }\n",
    "\n",
    "# Split the data into training and validation sets\n",
    "train_df, val_df = train_test_split(train_df, test_size=0.2, random_state=2019)\n",
    "\n",
    "model = xgb.XGBRegressor(**model_params)\n",
    "\n",
    "# # Train the model\n",
    "# model.fit(X_train, y_train, eval_set=[(X_val, y_val)], verbose=True)\n",
    "\n",
    "nfold = 5\n",
    "kf = KFold(n_splits=nfold, shuffle=True, random_state=2019)\n",
    "\n",
    "oof = np.zeros(len(train_df))\n",
    "predictions = np.zeros(len(test_df))\n",
    "\n",
    "target = 'price'\n",
    "predictors = train_df.columns.values.tolist()[1:-1]"
   ]
  },
  {
   "cell_type": "markdown",
   "id": "8e1a937f",
   "metadata": {
    "papermill": {
     "duration": 0.020779,
     "end_time": "2024-06-11T17:50:12.045956",
     "exception": false,
     "start_time": "2024-06-11T17:50:12.025177",
     "status": "completed"
    },
    "tags": []
   },
   "source": [
    "## 3.1 Running a 5 fold cross-validation training"
   ]
  },
  {
   "cell_type": "code",
   "execution_count": 34,
   "id": "46adf49b",
   "metadata": {
    "execution": {
     "iopub.execute_input": "2024-06-11T17:50:12.087318Z",
     "iopub.status.busy": "2024-06-11T17:50:12.086984Z",
     "iopub.status.idle": "2024-06-11T17:50:13.433417Z",
     "shell.execute_reply": "2024-06-11T17:50:13.432506Z"
    },
    "papermill": {
     "duration": 1.369694,
     "end_time": "2024-06-11T17:50:13.435403",
     "exception": false,
     "start_time": "2024-06-11T17:50:12.065709",
     "status": "completed"
    },
    "tags": []
   },
   "outputs": [
    {
     "name": "stdout",
     "output_type": "stream",
     "text": [
      "\n",
      "Fold 1\n",
      "\n",
      "Fold 2\n",
      "\n",
      "Fold 3\n",
      "\n",
      "Fold 4\n",
      "\n",
      "Fold 5\n",
      "\n",
      "\n",
      "CV RMSE: 5114130966.285371\n",
      "\n",
      "Validation RMSE: 59295.822098\n",
      "CPU times: user 1.71 s, sys: 187 ms, total: 1.9 s\n",
      "Wall time: 1.34 s\n"
     ]
    }
   ],
   "source": [
    "%%time\n",
    "\n",
    "i = 1\n",
    "for train_index, valid_index in kf.split(train_df):\n",
    "    print(\"\\nFold {}\".format(i))\n",
    "    xg_train = xgb.DMatrix(train_df.iloc[train_index][predictors].values,\n",
    "                           train_df.iloc[train_index][target].values)\n",
    "    xg_valid = xgb.DMatrix(train_df.iloc[valid_index][predictors].values,\n",
    "                           train_df.iloc[valid_index][target].values)   \n",
    "\n",
    "    \n",
    "    clf = xgb.train(model_params, xg_train, ITERATIONS, evals=[(xg_train, \"train\"), (xg_valid, \"eval\")],\n",
    "                early_stopping_rounds=EARLY_STOP, verbose_eval=False)\n",
    "    oof[valid_index] = clf.predict(xgb.DMatrix(train_df.iloc[valid_index][predictors].values)) \n",
    "    \n",
    "    predictions += clf.predict(xgb.DMatrix(test_df[predictors].values)) / nfold\n",
    "    i = i + 1\n",
    "\n",
    "print(\"\\n\\nCV RMSE: {:<0.6f}\".format(metrics.mean_squared_error(train_df.price.values, oof)))\n",
    "\n",
    "\n",
    "# Evaluate on the validation set\n",
    "val_data = xgb.DMatrix(val_df[predictors].values, val_df[target].values)\n",
    "val_predictions = clf.predict(val_data)\n",
    "val_rmse = np.sqrt(metrics.mean_squared_error(val_df[target].values, val_predictions))\n",
    "print(f\"\\nValidation RMSE: {val_rmse:.6f}\")"
   ]
  },
  {
   "cell_type": "code",
   "execution_count": 35,
   "id": "bf56358b",
   "metadata": {
    "execution": {
     "iopub.execute_input": "2024-06-11T17:50:13.478127Z",
     "iopub.status.busy": "2024-06-11T17:50:13.477847Z",
     "iopub.status.idle": "2024-06-11T17:50:13.494698Z",
     "shell.execute_reply": "2024-06-11T17:50:13.493627Z"
    },
    "papermill": {
     "duration": 0.040495,
     "end_time": "2024-06-11T17:50:13.497234",
     "exception": false,
     "start_time": "2024-06-11T17:50:13.456739",
     "status": "completed"
    },
    "tags": []
   },
   "outputs": [
    {
     "data": {
      "text/html": [
       "<div>\n",
       "<style scoped>\n",
       "    .dataframe tbody tr th:only-of-type {\n",
       "        vertical-align: middle;\n",
       "    }\n",
       "\n",
       "    .dataframe tbody tr th {\n",
       "        vertical-align: top;\n",
       "    }\n",
       "\n",
       "    .dataframe thead th {\n",
       "        text-align: right;\n",
       "    }\n",
       "</style>\n",
       "<table border=\"1\" class=\"dataframe\">\n",
       "  <thead>\n",
       "    <tr style=\"text-align: right;\">\n",
       "      <th></th>\n",
       "      <th>id</th>\n",
       "      <th>model_year</th>\n",
       "      <th>milage</th>\n",
       "      <th>fuel_type_Diesel</th>\n",
       "      <th>fuel_type_Gasoline</th>\n",
       "      <th>fuel_type_Hybrid</th>\n",
       "      <th>accident</th>\n",
       "      <th>brand_encoded</th>\n",
       "      <th>ext_col_encoded</th>\n",
       "      <th>price</th>\n",
       "      <th>predicted_price</th>\n",
       "    </tr>\n",
       "  </thead>\n",
       "  <tbody>\n",
       "    <tr>\n",
       "      <th>20120</th>\n",
       "      <td>20120</td>\n",
       "      <td>2021</td>\n",
       "      <td>16100</td>\n",
       "      <td>0.0</td>\n",
       "      <td>1.0</td>\n",
       "      <td>0.0</td>\n",
       "      <td>0</td>\n",
       "      <td>24</td>\n",
       "      <td>4</td>\n",
       "      <td>33000.0</td>\n",
       "      <td>59140.984375</td>\n",
       "    </tr>\n",
       "    <tr>\n",
       "      <th>25754</th>\n",
       "      <td>25754</td>\n",
       "      <td>2022</td>\n",
       "      <td>7458</td>\n",
       "      <td>0.0</td>\n",
       "      <td>1.0</td>\n",
       "      <td>0.0</td>\n",
       "      <td>0</td>\n",
       "      <td>3</td>\n",
       "      <td>5</td>\n",
       "      <td>47500.0</td>\n",
       "      <td>75801.187500</td>\n",
       "    </tr>\n",
       "    <tr>\n",
       "      <th>19734</th>\n",
       "      <td>19734</td>\n",
       "      <td>2018</td>\n",
       "      <td>130000</td>\n",
       "      <td>0.0</td>\n",
       "      <td>1.0</td>\n",
       "      <td>0.0</td>\n",
       "      <td>1</td>\n",
       "      <td>3</td>\n",
       "      <td>0</td>\n",
       "      <td>40200.0</td>\n",
       "      <td>34478.000000</td>\n",
       "    </tr>\n",
       "    <tr>\n",
       "      <th>11112</th>\n",
       "      <td>11112</td>\n",
       "      <td>2016</td>\n",
       "      <td>89500</td>\n",
       "      <td>0.0</td>\n",
       "      <td>1.0</td>\n",
       "      <td>0.0</td>\n",
       "      <td>1</td>\n",
       "      <td>10</td>\n",
       "      <td>0</td>\n",
       "      <td>31300.0</td>\n",
       "      <td>24043.363281</td>\n",
       "    </tr>\n",
       "    <tr>\n",
       "      <th>323</th>\n",
       "      <td>323</td>\n",
       "      <td>2018</td>\n",
       "      <td>69000</td>\n",
       "      <td>0.0</td>\n",
       "      <td>1.0</td>\n",
       "      <td>0.0</td>\n",
       "      <td>0</td>\n",
       "      <td>0</td>\n",
       "      <td>0</td>\n",
       "      <td>30999.0</td>\n",
       "      <td>36818.894531</td>\n",
       "    </tr>\n",
       "  </tbody>\n",
       "</table>\n",
       "</div>"
      ],
      "text/plain": [
       "          id  model_year  milage  fuel_type_Diesel  fuel_type_Gasoline  \\\n",
       "20120  20120        2021   16100               0.0                 1.0   \n",
       "25754  25754        2022    7458               0.0                 1.0   \n",
       "19734  19734        2018  130000               0.0                 1.0   \n",
       "11112  11112        2016   89500               0.0                 1.0   \n",
       "323      323        2018   69000               0.0                 1.0   \n",
       "\n",
       "       fuel_type_Hybrid  accident  brand_encoded  ext_col_encoded    price  \\\n",
       "20120               0.0         0             24                4  33000.0   \n",
       "25754               0.0         0              3                5  47500.0   \n",
       "19734               0.0         1              3                0  40200.0   \n",
       "11112               0.0         1             10                0  31300.0   \n",
       "323                 0.0         0              0                0  30999.0   \n",
       "\n",
       "       predicted_price  \n",
       "20120     59140.984375  \n",
       "25754     75801.187500  \n",
       "19734     34478.000000  \n",
       "11112     24043.363281  \n",
       "323       36818.894531  "
      ]
     },
     "execution_count": 35,
     "metadata": {},
     "output_type": "execute_result"
    }
   ],
   "source": [
    "val_df['predicted_price'] = val_predictions\n",
    "val_df.head()"
   ]
  },
  {
   "cell_type": "markdown",
   "id": "fe6b4ad9",
   "metadata": {
    "papermill": {
     "duration": 0.020202,
     "end_time": "2024-06-11T17:50:13.539846",
     "exception": false,
     "start_time": "2024-06-11T17:50:13.519644",
     "status": "completed"
    },
    "tags": []
   },
   "source": [
    "next is hyperparameter tuning. we will use random search"
   ]
  },
  {
   "cell_type": "markdown",
   "id": "cb60d284",
   "metadata": {
    "papermill": {
     "duration": 0.021048,
     "end_time": "2024-06-11T17:50:13.580965",
     "exception": false,
     "start_time": "2024-06-11T17:50:13.559917",
     "status": "completed"
    },
    "tags": []
   },
   "source": []
  },
  {
   "cell_type": "markdown",
   "id": "9a509954",
   "metadata": {
    "papermill": {
     "duration": 0.0201,
     "end_time": "2024-06-11T17:50:13.621134",
     "exception": false,
     "start_time": "2024-06-11T17:50:13.601034",
     "status": "completed"
    },
    "tags": []
   },
   "source": [
    "# Model Evaluation"
   ]
  },
  {
   "cell_type": "markdown",
   "id": "57005c28",
   "metadata": {
    "papermill": {
     "duration": 0.020173,
     "end_time": "2024-06-11T17:50:13.661944",
     "exception": false,
     "start_time": "2024-06-11T17:50:13.641771",
     "status": "completed"
    },
    "tags": []
   },
   "source": [
    "can track feature importance with XGBoost's model.feature_importances_"
   ]
  },
  {
   "cell_type": "code",
   "execution_count": null,
   "id": "d32ff1a8",
   "metadata": {
    "papermill": {
     "duration": 0.020399,
     "end_time": "2024-06-11T17:50:13.702596",
     "exception": false,
     "start_time": "2024-06-11T17:50:13.682197",
     "status": "completed"
    },
    "tags": []
   },
   "outputs": [],
   "source": []
  },
  {
   "cell_type": "code",
   "execution_count": null,
   "id": "e7d5e34d",
   "metadata": {
    "papermill": {
     "duration": 0.02042,
     "end_time": "2024-06-11T17:50:13.743622",
     "exception": false,
     "start_time": "2024-06-11T17:50:13.723202",
     "status": "completed"
    },
    "tags": []
   },
   "outputs": [],
   "source": []
  },
  {
   "cell_type": "code",
   "execution_count": null,
   "id": "9fd949ad",
   "metadata": {
    "papermill": {
     "duration": 0.020631,
     "end_time": "2024-06-11T17:50:13.784841",
     "exception": false,
     "start_time": "2024-06-11T17:50:13.764210",
     "status": "completed"
    },
    "tags": []
   },
   "outputs": [],
   "source": []
  },
  {
   "cell_type": "markdown",
   "id": "c82a7180",
   "metadata": {
    "papermill": {
     "duration": 0.020402,
     "end_time": "2024-06-11T17:50:13.825466",
     "exception": false,
     "start_time": "2024-06-11T17:50:13.805064",
     "status": "completed"
    },
    "tags": []
   },
   "source": [
    "# Final Prediction"
   ]
  },
  {
   "cell_type": "code",
   "execution_count": null,
   "id": "8e404bde",
   "metadata": {
    "papermill": {
     "duration": 0.020307,
     "end_time": "2024-06-11T17:50:13.865784",
     "exception": false,
     "start_time": "2024-06-11T17:50:13.845477",
     "status": "completed"
    },
    "tags": []
   },
   "outputs": [],
   "source": []
  }
 ],
 "metadata": {
  "kaggle": {
   "accelerator": "nvidiaTeslaT4",
   "dataSources": [
    {
     "datasetId": 5149343,
     "sourceId": 8605671,
     "sourceType": "datasetVersion"
    }
   ],
   "dockerImageVersionId": 30715,
   "isGpuEnabled": true,
   "isInternetEnabled": true,
   "language": "python",
   "sourceType": "notebook"
  },
  "kernelspec": {
   "display_name": "Python 3",
   "language": "python",
   "name": "python3"
  },
  "language_info": {
   "codemirror_mode": {
    "name": "ipython",
    "version": 3
   },
   "file_extension": ".py",
   "mimetype": "text/x-python",
   "name": "python",
   "nbconvert_exporter": "python",
   "pygments_lexer": "ipython3",
   "version": "3.10.13"
  },
  "papermill": {
   "default_parameters": {},
   "duration": 10.695738,
   "end_time": "2024-06-11T17:50:14.303966",
   "environment_variables": {},
   "exception": null,
   "input_path": "__notebook__.ipynb",
   "output_path": "__notebook__.ipynb",
   "parameters": {},
   "start_time": "2024-06-11T17:50:03.608228",
   "version": "2.5.0"
  }
 },
 "nbformat": 4,
 "nbformat_minor": 5
}
