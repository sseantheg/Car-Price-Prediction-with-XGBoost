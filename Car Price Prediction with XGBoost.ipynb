{
 "cells": [
  {
   "cell_type": "markdown",
   "id": "df0d35a1",
   "metadata": {
    "papermill": {
     "duration": 0.014981,
     "end_time": "2024-06-06T16:34:00.672219",
     "exception": false,
     "start_time": "2024-06-06T16:34:00.657238",
     "status": "completed"
    },
    "tags": []
   },
   "source": [
    "# Used Vehicle Price Prediction: KaggleX Skill Assessment Challenge\n",
    "This work is for the participation the challenge mentioned in the title, aiming to predict used vehicle prices based on the data given.\n",
    "\n",
    "## Dataset\n",
    "We are given train.csv and test.csv, with the former (as the name suggests) having 12 features column an 1 target column of price. The test data lacks the target price column so has 12 columns.\n",
    "\n",
    "The test data is usually large (from my experience), having about 36k rows compared to the 54k rows in the training dataset. (may make the prediction hard if the test data distribution is marginally different from training data?)\n",
    "\n",
    "## Methodology\n",
    "Off the top of my head I will approach this similar to my previous project where we follow the steps of:\n",
    "1. data exploration: distribution, outliers, data types, correlation...\n",
    "2. data preprocessing: data cleaning, feature engineering, train-test split\n",
    "3. baseline modeling: use baseline models like decision trees, random forest & linear regression\n",
    "4. model2 : build fancy model trying to beat baseline model\n",
    "5. model tuning: overfit then prune? hyperparameter-tuning? monitor loss-curve? early stopping?\n",
    "6. model evaluation?\n"
   ]
  },
  {
   "cell_type": "markdown",
   "id": "70d04e46",
   "metadata": {
    "papermill": {
     "duration": 0.01409,
     "end_time": "2024-06-06T16:34:00.701052",
     "exception": false,
     "start_time": "2024-06-06T16:34:00.686962",
     "status": "completed"
    },
    "tags": []
   },
   "source": [
    "# 1. Data Preparation "
   ]
  },
  {
   "cell_type": "markdown",
   "id": "7754ab2d",
   "metadata": {
    "papermill": {
     "duration": 0.01409,
     "end_time": "2024-06-06T16:34:00.729635",
     "exception": false,
     "start_time": "2024-06-06T16:34:00.715545",
     "status": "completed"
    },
    "tags": []
   },
   "source": [
    "## 1.1 Data Loading"
   ]
  },
  {
   "cell_type": "code",
   "execution_count": 1,
   "id": "6ec1847d",
   "metadata": {
    "_cell_guid": "b1076dfc-b9ad-4769-8c92-a6c4dae69d19",
    "_uuid": "8f2839f25d086af736a60e9eeb907d3b93b6e0e5",
    "execution": {
     "iopub.execute_input": "2024-06-06T16:34:00.761726Z",
     "iopub.status.busy": "2024-06-06T16:34:00.760589Z",
     "iopub.status.idle": "2024-06-06T16:34:01.814748Z",
     "shell.execute_reply": "2024-06-06T16:34:01.813262Z"
    },
    "papermill": {
     "duration": 1.073758,
     "end_time": "2024-06-06T16:34:01.817821",
     "exception": false,
     "start_time": "2024-06-06T16:34:00.744063",
     "status": "completed"
    },
    "tags": []
   },
   "outputs": [
    {
     "name": "stdout",
     "output_type": "stream",
     "text": [
      "/kaggle/input/kagglex/sample_submission.csv\n",
      "/kaggle/input/kagglex/train.csv\n",
      "/kaggle/input/kagglex/test.csv\n"
     ]
    }
   ],
   "source": [
    "# This Python 3 environment comes with many helpful analytics libraries installed\n",
    "# It is defined by the kaggle/python Docker image: https://github.com/kaggle/docker-python\n",
    "# For example, here's several helpful packages to load\n",
    "\n",
    "import numpy as np # linear algebra\n",
    "import pandas as pd # data processing, CSV file I/O (e.g. pd.read_csv)\n",
    "\n",
    "# Input data files are available in the read-only \"../input/\" directory\n",
    "# For example, running this (by clicking run or pressing Shift+Enter) will list all files under the input directory\n",
    "\n",
    "import os\n",
    "for dirname, _, filenames in os.walk('/kaggle/input'):\n",
    "    for filename in filenames:\n",
    "        print(os.path.join(dirname, filename))\n",
    "\n",
    "# You can write up to 20GB to the current directory (/kaggle/working/) that gets preserved as output when you create a version using \"Save & Run All\" \n",
    "# You can also write temporary files to /kaggle/temp/, but they won't be saved outside of the current session"
   ]
  },
  {
   "cell_type": "code",
   "execution_count": 2,
   "id": "379d7171",
   "metadata": {
    "execution": {
     "iopub.execute_input": "2024-06-06T16:34:01.850494Z",
     "iopub.status.busy": "2024-06-06T16:34:01.849798Z",
     "iopub.status.idle": "2024-06-06T16:34:02.446760Z",
     "shell.execute_reply": "2024-06-06T16:34:02.445386Z"
    },
    "papermill": {
     "duration": 0.617265,
     "end_time": "2024-06-06T16:34:02.449757",
     "exception": false,
     "start_time": "2024-06-06T16:34:01.832492",
     "status": "completed"
    },
    "tags": []
   },
   "outputs": [
    {
     "name": "stdout",
     "output_type": "stream",
     "text": [
      "(54273, 13)\n",
      "(36183, 12)\n"
     ]
    }
   ],
   "source": [
    "#load the train.csv into a dataframe\n",
    "train_df = pd.read_csv('/kaggle/input/kagglex/train.csv')\n",
    "test_df = pd.read_csv('/kaggle/input/kagglex/test.csv')\n",
    "\n",
    "print(train_df.shape)\n",
    "print(test_df.shape)"
   ]
  },
  {
   "cell_type": "markdown",
   "id": "5200d349",
   "metadata": {
    "papermill": {
     "duration": 0.014561,
     "end_time": "2024-06-06T16:34:02.479829",
     "exception": false,
     "start_time": "2024-06-06T16:34:02.465268",
     "status": "completed"
    },
    "tags": []
   },
   "source": [
    "## 1.2 Data Exploration"
   ]
  },
  {
   "cell_type": "code",
   "execution_count": 3,
   "id": "6ff5752b",
   "metadata": {
    "execution": {
     "iopub.execute_input": "2024-06-06T16:34:02.511453Z",
     "iopub.status.busy": "2024-06-06T16:34:02.510956Z",
     "iopub.status.idle": "2024-06-06T16:34:02.541517Z",
     "shell.execute_reply": "2024-06-06T16:34:02.540192Z"
    },
    "papermill": {
     "duration": 0.050082,
     "end_time": "2024-06-06T16:34:02.544499",
     "exception": false,
     "start_time": "2024-06-06T16:34:02.494417",
     "status": "completed"
    },
    "tags": []
   },
   "outputs": [
    {
     "data": {
      "text/html": [
       "<div>\n",
       "<style scoped>\n",
       "    .dataframe tbody tr th:only-of-type {\n",
       "        vertical-align: middle;\n",
       "    }\n",
       "\n",
       "    .dataframe tbody tr th {\n",
       "        vertical-align: top;\n",
       "    }\n",
       "\n",
       "    .dataframe thead th {\n",
       "        text-align: right;\n",
       "    }\n",
       "</style>\n",
       "<table border=\"1\" class=\"dataframe\">\n",
       "  <thead>\n",
       "    <tr style=\"text-align: right;\">\n",
       "      <th></th>\n",
       "      <th>id</th>\n",
       "      <th>brand</th>\n",
       "      <th>model</th>\n",
       "      <th>model_year</th>\n",
       "      <th>milage</th>\n",
       "      <th>fuel_type</th>\n",
       "      <th>engine</th>\n",
       "      <th>transmission</th>\n",
       "      <th>ext_col</th>\n",
       "      <th>int_col</th>\n",
       "      <th>accident</th>\n",
       "      <th>clean_title</th>\n",
       "      <th>price</th>\n",
       "    </tr>\n",
       "  </thead>\n",
       "  <tbody>\n",
       "    <tr>\n",
       "      <th>0</th>\n",
       "      <td>0</td>\n",
       "      <td>Ford</td>\n",
       "      <td>F-150 Lariat</td>\n",
       "      <td>2018</td>\n",
       "      <td>74349</td>\n",
       "      <td>Gasoline</td>\n",
       "      <td>375.0HP 3.5L V6 Cylinder Engine Gasoline Fuel</td>\n",
       "      <td>10-Speed A/T</td>\n",
       "      <td>Blue</td>\n",
       "      <td>Gray</td>\n",
       "      <td>None reported</td>\n",
       "      <td>Yes</td>\n",
       "      <td>11000</td>\n",
       "    </tr>\n",
       "    <tr>\n",
       "      <th>1</th>\n",
       "      <td>1</td>\n",
       "      <td>BMW</td>\n",
       "      <td>335 i</td>\n",
       "      <td>2007</td>\n",
       "      <td>80000</td>\n",
       "      <td>Gasoline</td>\n",
       "      <td>300.0HP 3.0L Straight 6 Cylinder Engine Gasoli...</td>\n",
       "      <td>6-Speed M/T</td>\n",
       "      <td>Black</td>\n",
       "      <td>Black</td>\n",
       "      <td>None reported</td>\n",
       "      <td>Yes</td>\n",
       "      <td>8250</td>\n",
       "    </tr>\n",
       "    <tr>\n",
       "      <th>2</th>\n",
       "      <td>2</td>\n",
       "      <td>Jaguar</td>\n",
       "      <td>XF Luxury</td>\n",
       "      <td>2009</td>\n",
       "      <td>91491</td>\n",
       "      <td>Gasoline</td>\n",
       "      <td>300.0HP 4.2L 8 Cylinder Engine Gasoline Fuel</td>\n",
       "      <td>6-Speed A/T</td>\n",
       "      <td>Purple</td>\n",
       "      <td>Beige</td>\n",
       "      <td>None reported</td>\n",
       "      <td>Yes</td>\n",
       "      <td>15000</td>\n",
       "    </tr>\n",
       "    <tr>\n",
       "      <th>3</th>\n",
       "      <td>3</td>\n",
       "      <td>BMW</td>\n",
       "      <td>X7 xDrive40i</td>\n",
       "      <td>2022</td>\n",
       "      <td>2437</td>\n",
       "      <td>Hybrid</td>\n",
       "      <td>335.0HP 3.0L Straight 6 Cylinder Engine Gasoli...</td>\n",
       "      <td>Transmission w/Dual Shift Mode</td>\n",
       "      <td>Gray</td>\n",
       "      <td>Brown</td>\n",
       "      <td>None reported</td>\n",
       "      <td>Yes</td>\n",
       "      <td>63500</td>\n",
       "    </tr>\n",
       "    <tr>\n",
       "      <th>4</th>\n",
       "      <td>4</td>\n",
       "      <td>Pontiac</td>\n",
       "      <td>Firebird Base</td>\n",
       "      <td>2001</td>\n",
       "      <td>111000</td>\n",
       "      <td>Gasoline</td>\n",
       "      <td>200.0HP 3.8L V6 Cylinder Engine Gasoline Fuel</td>\n",
       "      <td>A/T</td>\n",
       "      <td>White</td>\n",
       "      <td>Black</td>\n",
       "      <td>None reported</td>\n",
       "      <td>Yes</td>\n",
       "      <td>7850</td>\n",
       "    </tr>\n",
       "  </tbody>\n",
       "</table>\n",
       "</div>"
      ],
      "text/plain": [
       "   id    brand          model  model_year  milage fuel_type  \\\n",
       "0   0     Ford   F-150 Lariat        2018   74349  Gasoline   \n",
       "1   1      BMW          335 i        2007   80000  Gasoline   \n",
       "2   2   Jaguar      XF Luxury        2009   91491  Gasoline   \n",
       "3   3      BMW   X7 xDrive40i        2022    2437    Hybrid   \n",
       "4   4  Pontiac  Firebird Base        2001  111000  Gasoline   \n",
       "\n",
       "                                              engine  \\\n",
       "0      375.0HP 3.5L V6 Cylinder Engine Gasoline Fuel   \n",
       "1  300.0HP 3.0L Straight 6 Cylinder Engine Gasoli...   \n",
       "2       300.0HP 4.2L 8 Cylinder Engine Gasoline Fuel   \n",
       "3  335.0HP 3.0L Straight 6 Cylinder Engine Gasoli...   \n",
       "4      200.0HP 3.8L V6 Cylinder Engine Gasoline Fuel   \n",
       "\n",
       "                     transmission ext_col int_col       accident clean_title  \\\n",
       "0                    10-Speed A/T    Blue    Gray  None reported         Yes   \n",
       "1                     6-Speed M/T   Black   Black  None reported         Yes   \n",
       "2                     6-Speed A/T  Purple   Beige  None reported         Yes   \n",
       "3  Transmission w/Dual Shift Mode    Gray   Brown  None reported         Yes   \n",
       "4                             A/T   White   Black  None reported         Yes   \n",
       "\n",
       "   price  \n",
       "0  11000  \n",
       "1   8250  \n",
       "2  15000  \n",
       "3  63500  \n",
       "4   7850  "
      ]
     },
     "execution_count": 3,
     "metadata": {},
     "output_type": "execute_result"
    }
   ],
   "source": [
    "train_df.head()"
   ]
  },
  {
   "cell_type": "code",
   "execution_count": 4,
   "id": "1c8882ea",
   "metadata": {
    "execution": {
     "iopub.execute_input": "2024-06-06T16:34:02.577905Z",
     "iopub.status.busy": "2024-06-06T16:34:02.576911Z",
     "iopub.status.idle": "2024-06-06T16:34:02.595331Z",
     "shell.execute_reply": "2024-06-06T16:34:02.593886Z"
    },
    "papermill": {
     "duration": 0.038208,
     "end_time": "2024-06-06T16:34:02.598280",
     "exception": false,
     "start_time": "2024-06-06T16:34:02.560072",
     "status": "completed"
    },
    "tags": []
   },
   "outputs": [
    {
     "data": {
      "text/html": [
       "<div>\n",
       "<style scoped>\n",
       "    .dataframe tbody tr th:only-of-type {\n",
       "        vertical-align: middle;\n",
       "    }\n",
       "\n",
       "    .dataframe tbody tr th {\n",
       "        vertical-align: top;\n",
       "    }\n",
       "\n",
       "    .dataframe thead th {\n",
       "        text-align: right;\n",
       "    }\n",
       "</style>\n",
       "<table border=\"1\" class=\"dataframe\">\n",
       "  <thead>\n",
       "    <tr style=\"text-align: right;\">\n",
       "      <th></th>\n",
       "      <th>id</th>\n",
       "      <th>brand</th>\n",
       "      <th>model</th>\n",
       "      <th>model_year</th>\n",
       "      <th>milage</th>\n",
       "      <th>fuel_type</th>\n",
       "      <th>engine</th>\n",
       "      <th>transmission</th>\n",
       "      <th>ext_col</th>\n",
       "      <th>int_col</th>\n",
       "      <th>accident</th>\n",
       "      <th>clean_title</th>\n",
       "    </tr>\n",
       "  </thead>\n",
       "  <tbody>\n",
       "    <tr>\n",
       "      <th>0</th>\n",
       "      <td>54273</td>\n",
       "      <td>Mercedes-Benz</td>\n",
       "      <td>E-Class E 350</td>\n",
       "      <td>2014</td>\n",
       "      <td>73000</td>\n",
       "      <td>Gasoline</td>\n",
       "      <td>302.0HP 3.5L V6 Cylinder Engine Gasoline Fuel</td>\n",
       "      <td>A/T</td>\n",
       "      <td>White</td>\n",
       "      <td>Beige</td>\n",
       "      <td>None reported</td>\n",
       "      <td>Yes</td>\n",
       "    </tr>\n",
       "    <tr>\n",
       "      <th>1</th>\n",
       "      <td>54274</td>\n",
       "      <td>Lexus</td>\n",
       "      <td>RX 350 Base</td>\n",
       "      <td>2015</td>\n",
       "      <td>128032</td>\n",
       "      <td>Gasoline</td>\n",
       "      <td>275.0HP 3.5L V6 Cylinder Engine Gasoline Fuel</td>\n",
       "      <td>8-Speed A/T</td>\n",
       "      <td>Silver</td>\n",
       "      <td>Black</td>\n",
       "      <td>None reported</td>\n",
       "      <td>Yes</td>\n",
       "    </tr>\n",
       "    <tr>\n",
       "      <th>2</th>\n",
       "      <td>54275</td>\n",
       "      <td>Mercedes-Benz</td>\n",
       "      <td>C-Class C 300</td>\n",
       "      <td>2015</td>\n",
       "      <td>51983</td>\n",
       "      <td>Gasoline</td>\n",
       "      <td>241.0HP 2.0L 4 Cylinder Engine Gasoline Fuel</td>\n",
       "      <td>7-Speed A/T</td>\n",
       "      <td>Blue</td>\n",
       "      <td>White</td>\n",
       "      <td>None reported</td>\n",
       "      <td>Yes</td>\n",
       "    </tr>\n",
       "    <tr>\n",
       "      <th>3</th>\n",
       "      <td>54276</td>\n",
       "      <td>Land</td>\n",
       "      <td>Rover Range Rover 5.0L Supercharged Autobiogra...</td>\n",
       "      <td>2018</td>\n",
       "      <td>29500</td>\n",
       "      <td>Gasoline</td>\n",
       "      <td>518.0HP 5.0L 8 Cylinder Engine Gasoline Fuel</td>\n",
       "      <td>Transmission w/Dual Shift Mode</td>\n",
       "      <td>White</td>\n",
       "      <td>White</td>\n",
       "      <td>At least 1 accident or damage reported</td>\n",
       "      <td>Yes</td>\n",
       "    </tr>\n",
       "    <tr>\n",
       "      <th>4</th>\n",
       "      <td>54277</td>\n",
       "      <td>BMW</td>\n",
       "      <td>X6 xDrive40i</td>\n",
       "      <td>2020</td>\n",
       "      <td>90000</td>\n",
       "      <td>Gasoline</td>\n",
       "      <td>335.0HP 3.0L Straight 6 Cylinder Engine Gasoli...</td>\n",
       "      <td>8-Speed A/T</td>\n",
       "      <td>White</td>\n",
       "      <td>Black</td>\n",
       "      <td>At least 1 accident or damage reported</td>\n",
       "      <td>Yes</td>\n",
       "    </tr>\n",
       "  </tbody>\n",
       "</table>\n",
       "</div>"
      ],
      "text/plain": [
       "      id          brand                                              model  \\\n",
       "0  54273  Mercedes-Benz                                      E-Class E 350   \n",
       "1  54274          Lexus                                        RX 350 Base   \n",
       "2  54275  Mercedes-Benz                                      C-Class C 300   \n",
       "3  54276           Land  Rover Range Rover 5.0L Supercharged Autobiogra...   \n",
       "4  54277            BMW                                       X6 xDrive40i   \n",
       "\n",
       "   model_year  milage fuel_type  \\\n",
       "0        2014   73000  Gasoline   \n",
       "1        2015  128032  Gasoline   \n",
       "2        2015   51983  Gasoline   \n",
       "3        2018   29500  Gasoline   \n",
       "4        2020   90000  Gasoline   \n",
       "\n",
       "                                              engine  \\\n",
       "0      302.0HP 3.5L V6 Cylinder Engine Gasoline Fuel   \n",
       "1      275.0HP 3.5L V6 Cylinder Engine Gasoline Fuel   \n",
       "2       241.0HP 2.0L 4 Cylinder Engine Gasoline Fuel   \n",
       "3       518.0HP 5.0L 8 Cylinder Engine Gasoline Fuel   \n",
       "4  335.0HP 3.0L Straight 6 Cylinder Engine Gasoli...   \n",
       "\n",
       "                     transmission ext_col int_col  \\\n",
       "0                             A/T   White   Beige   \n",
       "1                     8-Speed A/T  Silver   Black   \n",
       "2                     7-Speed A/T    Blue   White   \n",
       "3  Transmission w/Dual Shift Mode   White   White   \n",
       "4                     8-Speed A/T   White   Black   \n",
       "\n",
       "                                 accident clean_title  \n",
       "0                           None reported         Yes  \n",
       "1                           None reported         Yes  \n",
       "2                           None reported         Yes  \n",
       "3  At least 1 accident or damage reported         Yes  \n",
       "4  At least 1 accident or damage reported         Yes  "
      ]
     },
     "execution_count": 4,
     "metadata": {},
     "output_type": "execute_result"
    }
   ],
   "source": [
    "test_df.head()"
   ]
  },
  {
   "cell_type": "markdown",
   "id": "8850f443",
   "metadata": {
    "papermill": {
     "duration": 0.015367,
     "end_time": "2024-06-06T16:34:02.629347",
     "exception": false,
     "start_time": "2024-06-06T16:34:02.613980",
     "status": "completed"
    },
    "tags": []
   },
   "source": [
    "Quick look and the data suggest some columns should be more valuable than others?\n",
    "* brand\n",
    "* ~model??~\n",
    "* model_year\n",
    "* fuel_type\n",
    "* milage (need transformation?)\n",
    "* ext_col (need transformation, make it simple)\n",
    "* accident\n",
    "\n",
    "engine is a mess (need transformation), will not consider first as heuristically i think it might be less important. color can be important but not sure if enough. year, brand and accident should the most important.\n",
    "\n",
    "lets check the distribution for numerical and unique value of each categorical column to further determine:"
   ]
  },
  {
   "cell_type": "code",
   "execution_count": 5,
   "id": "dbcd4cfd",
   "metadata": {
    "execution": {
     "iopub.execute_input": "2024-06-06T16:34:02.663677Z",
     "iopub.status.busy": "2024-06-06T16:34:02.662651Z",
     "iopub.status.idle": "2024-06-06T16:34:02.704822Z",
     "shell.execute_reply": "2024-06-06T16:34:02.703562Z"
    },
    "papermill": {
     "duration": 0.063,
     "end_time": "2024-06-06T16:34:02.708419",
     "exception": false,
     "start_time": "2024-06-06T16:34:02.645419",
     "status": "completed"
    },
    "tags": []
   },
   "outputs": [
    {
     "data": {
      "text/html": [
       "<div>\n",
       "<style scoped>\n",
       "    .dataframe tbody tr th:only-of-type {\n",
       "        vertical-align: middle;\n",
       "    }\n",
       "\n",
       "    .dataframe tbody tr th {\n",
       "        vertical-align: top;\n",
       "    }\n",
       "\n",
       "    .dataframe thead th {\n",
       "        text-align: right;\n",
       "    }\n",
       "</style>\n",
       "<table border=\"1\" class=\"dataframe\">\n",
       "  <thead>\n",
       "    <tr style=\"text-align: right;\">\n",
       "      <th></th>\n",
       "      <th>id</th>\n",
       "      <th>model_year</th>\n",
       "      <th>milage</th>\n",
       "      <th>price</th>\n",
       "    </tr>\n",
       "  </thead>\n",
       "  <tbody>\n",
       "    <tr>\n",
       "      <th>count</th>\n",
       "      <td>54273.000000</td>\n",
       "      <td>54273.000000</td>\n",
       "      <td>54273.000000</td>\n",
       "      <td>5.427300e+04</td>\n",
       "    </tr>\n",
       "    <tr>\n",
       "      <th>mean</th>\n",
       "      <td>27136.000000</td>\n",
       "      <td>2015.091979</td>\n",
       "      <td>72746.175667</td>\n",
       "      <td>3.921844e+04</td>\n",
       "    </tr>\n",
       "    <tr>\n",
       "      <th>std</th>\n",
       "      <td>15667.409917</td>\n",
       "      <td>5.588909</td>\n",
       "      <td>50469.490448</td>\n",
       "      <td>7.282634e+04</td>\n",
       "    </tr>\n",
       "    <tr>\n",
       "      <th>min</th>\n",
       "      <td>0.000000</td>\n",
       "      <td>1974.000000</td>\n",
       "      <td>100.000000</td>\n",
       "      <td>2.000000e+03</td>\n",
       "    </tr>\n",
       "    <tr>\n",
       "      <th>25%</th>\n",
       "      <td>13568.000000</td>\n",
       "      <td>2012.000000</td>\n",
       "      <td>32268.000000</td>\n",
       "      <td>1.550000e+04</td>\n",
       "    </tr>\n",
       "    <tr>\n",
       "      <th>50%</th>\n",
       "      <td>27136.000000</td>\n",
       "      <td>2016.000000</td>\n",
       "      <td>66107.000000</td>\n",
       "      <td>2.800000e+04</td>\n",
       "    </tr>\n",
       "    <tr>\n",
       "      <th>75%</th>\n",
       "      <td>40704.000000</td>\n",
       "      <td>2019.000000</td>\n",
       "      <td>102000.000000</td>\n",
       "      <td>4.500000e+04</td>\n",
       "    </tr>\n",
       "    <tr>\n",
       "      <th>max</th>\n",
       "      <td>54272.000000</td>\n",
       "      <td>2024.000000</td>\n",
       "      <td>405000.000000</td>\n",
       "      <td>2.954083e+06</td>\n",
       "    </tr>\n",
       "  </tbody>\n",
       "</table>\n",
       "</div>"
      ],
      "text/plain": [
       "                 id    model_year         milage         price\n",
       "count  54273.000000  54273.000000   54273.000000  5.427300e+04\n",
       "mean   27136.000000   2015.091979   72746.175667  3.921844e+04\n",
       "std    15667.409917      5.588909   50469.490448  7.282634e+04\n",
       "min        0.000000   1974.000000     100.000000  2.000000e+03\n",
       "25%    13568.000000   2012.000000   32268.000000  1.550000e+04\n",
       "50%    27136.000000   2016.000000   66107.000000  2.800000e+04\n",
       "75%    40704.000000   2019.000000  102000.000000  4.500000e+04\n",
       "max    54272.000000   2024.000000  405000.000000  2.954083e+06"
      ]
     },
     "execution_count": 5,
     "metadata": {},
     "output_type": "execute_result"
    }
   ],
   "source": [
    "# check the distribution of numerical numbers\n",
    "train_df.describe()"
   ]
  },
  {
   "cell_type": "code",
   "execution_count": 6,
   "id": "23654b5e",
   "metadata": {
    "execution": {
     "iopub.execute_input": "2024-06-06T16:34:02.742347Z",
     "iopub.status.busy": "2024-06-06T16:34:02.741867Z",
     "iopub.status.idle": "2024-06-06T16:34:02.766380Z",
     "shell.execute_reply": "2024-06-06T16:34:02.765231Z"
    },
    "papermill": {
     "duration": 0.044993,
     "end_time": "2024-06-06T16:34:02.769311",
     "exception": false,
     "start_time": "2024-06-06T16:34:02.724318",
     "status": "completed"
    },
    "tags": []
   },
   "outputs": [
    {
     "data": {
      "text/html": [
       "<div>\n",
       "<style scoped>\n",
       "    .dataframe tbody tr th:only-of-type {\n",
       "        vertical-align: middle;\n",
       "    }\n",
       "\n",
       "    .dataframe tbody tr th {\n",
       "        vertical-align: top;\n",
       "    }\n",
       "\n",
       "    .dataframe thead th {\n",
       "        text-align: right;\n",
       "    }\n",
       "</style>\n",
       "<table border=\"1\" class=\"dataframe\">\n",
       "  <thead>\n",
       "    <tr style=\"text-align: right;\">\n",
       "      <th></th>\n",
       "      <th>id</th>\n",
       "      <th>model_year</th>\n",
       "      <th>milage</th>\n",
       "    </tr>\n",
       "  </thead>\n",
       "  <tbody>\n",
       "    <tr>\n",
       "      <th>count</th>\n",
       "      <td>36183.000000</td>\n",
       "      <td>36183.000000</td>\n",
       "      <td>36183.000000</td>\n",
       "    </tr>\n",
       "    <tr>\n",
       "      <th>mean</th>\n",
       "      <td>72364.000000</td>\n",
       "      <td>2015.063953</td>\n",
       "      <td>72479.266755</td>\n",
       "    </tr>\n",
       "    <tr>\n",
       "      <th>std</th>\n",
       "      <td>10445.276732</td>\n",
       "      <td>5.589336</td>\n",
       "      <td>50714.968252</td>\n",
       "    </tr>\n",
       "    <tr>\n",
       "      <th>min</th>\n",
       "      <td>54273.000000</td>\n",
       "      <td>1974.000000</td>\n",
       "      <td>100.000000</td>\n",
       "    </tr>\n",
       "    <tr>\n",
       "      <th>25%</th>\n",
       "      <td>63318.500000</td>\n",
       "      <td>2012.000000</td>\n",
       "      <td>31681.000000</td>\n",
       "    </tr>\n",
       "    <tr>\n",
       "      <th>50%</th>\n",
       "      <td>72364.000000</td>\n",
       "      <td>2016.000000</td>\n",
       "      <td>65680.000000</td>\n",
       "    </tr>\n",
       "    <tr>\n",
       "      <th>75%</th>\n",
       "      <td>81409.500000</td>\n",
       "      <td>2019.000000</td>\n",
       "      <td>102000.000000</td>\n",
       "    </tr>\n",
       "    <tr>\n",
       "      <th>max</th>\n",
       "      <td>90455.000000</td>\n",
       "      <td>2024.000000</td>\n",
       "      <td>405000.000000</td>\n",
       "    </tr>\n",
       "  </tbody>\n",
       "</table>\n",
       "</div>"
      ],
      "text/plain": [
       "                 id    model_year         milage\n",
       "count  36183.000000  36183.000000   36183.000000\n",
       "mean   72364.000000   2015.063953   72479.266755\n",
       "std    10445.276732      5.589336   50714.968252\n",
       "min    54273.000000   1974.000000     100.000000\n",
       "25%    63318.500000   2012.000000   31681.000000\n",
       "50%    72364.000000   2016.000000   65680.000000\n",
       "75%    81409.500000   2019.000000  102000.000000\n",
       "max    90455.000000   2024.000000  405000.000000"
      ]
     },
     "execution_count": 6,
     "metadata": {},
     "output_type": "execute_result"
    }
   ],
   "source": [
    "# check the distribution of numerical numbers\n",
    "test_df.describe()"
   ]
  },
  {
   "cell_type": "markdown",
   "id": "297cf3dc",
   "metadata": {
    "papermill": {
     "duration": 0.016096,
     "end_time": "2024-06-06T16:34:02.801678",
     "exception": false,
     "start_time": "2024-06-06T16:34:02.785582",
     "status": "completed"
    },
    "tags": []
   },
   "source": [
    "The distribution of test data falls right in line with that of the training data's, which should be really good for producing accurate predictions."
   ]
  },
  {
   "cell_type": "code",
   "execution_count": 7,
   "id": "4ee52084",
   "metadata": {
    "execution": {
     "iopub.execute_input": "2024-06-06T16:34:02.837450Z",
     "iopub.status.busy": "2024-06-06T16:34:02.836379Z",
     "iopub.status.idle": "2024-06-06T16:34:02.877743Z",
     "shell.execute_reply": "2024-06-06T16:34:02.876176Z"
    },
    "papermill": {
     "duration": 0.063782,
     "end_time": "2024-06-06T16:34:02.881922",
     "exception": false,
     "start_time": "2024-06-06T16:34:02.818140",
     "status": "completed"
    },
    "scrolled": true,
    "tags": []
   },
   "outputs": [
    {
     "name": "stdout",
     "output_type": "stream",
     "text": [
      "columns and respective unique values:\n",
      "brands: ['Ford' 'BMW' 'Jaguar' 'Pontiac' 'Acura' 'Audi' 'GMC' 'Maserati'\n",
      " 'Chevrolet' 'Porsche' 'Mercedes-Benz' 'Tesla' 'Lexus' 'Kia' 'Lincoln'\n",
      " 'Dodge' 'Volkswagen' 'Land' 'Cadillac' 'Mazda' 'RAM' 'Subaru' 'Hyundai'\n",
      " 'MINI' 'Jeep' 'Honda' 'Hummer' 'Nissan' 'Toyota' 'Volvo' 'Genesis'\n",
      " 'Mitsubishi' 'Buick' 'INFINITI' 'McLaren' 'Scion' 'Lamborghini' 'Bentley'\n",
      " 'Suzuki' 'Ferrari' 'Alfa' 'Rolls-Royce' 'Chrysler' 'Aston' 'Rivian'\n",
      " 'Lotus' 'Saturn' 'Lucid' 'Mercury' 'Maybach' 'FIAT' 'Plymouth' 'Bugatti']\n",
      "fuel_type: ['Gasoline' 'Hybrid' 'E85 Flex Fuel' 'Diesel' '–' 'Plug-In Hybrid'\n",
      " 'not supported']\n",
      "ext_col: ['Blue' 'Black' 'Purple' 'Gray' 'White' 'Red' 'Silver' 'Summit White'\n",
      " 'Platinum Quartz Metallic' 'Green' 'Orange' 'Lunar Rock'\n",
      " 'Red Quartz Tintcoat' 'Beige' 'Gold' 'Jet Black Mica'\n",
      " 'Delmonico Red Pearlcoat' 'Brown' 'Rich Garnet Metallic'\n",
      " 'Stellar Black Metallic' 'Yellow' 'Deep Black Pearl Effect' 'Metallic'\n",
      " 'Ice Silver Metallic' 'Agate Black Metallic' 'Rosso Mars Metallic'\n",
      " 'White Clearcoat' 'Santorini Black Metallic' 'DB Black Clearcoat'\n",
      " 'Snowflake White Pearl' 'Glacial White Pearl' 'Maximum Steel Metallic'\n",
      " 'Blue Caelum' 'Dark Matter Metallic' '–' 'Oxford White'\n",
      " 'Cobra Beige Metallic' 'Velvet Red Pearlcoat' 'Python Green'\n",
      " 'Obsidian Black Metallic' 'Beluga Black' 'Blue Reflex Mica'\n",
      " 'Sparkling Silver' 'Black Clearcoat' 'Soul Red Crystal Metallic'\n",
      " 'Bright White Clearcoat' 'Shimmering Silver' 'Midnight Black Metallic'\n",
      " 'Cajun Red Tintcoat' 'Cirrus Silver Metallic' 'Blu'\n",
      " 'Burnished Bronze Metallic' 'Hellayella Clearcoat' 'Diamond Black'\n",
      " 'White Diamond Tri-Coat' 'Nebula Gray Pearl' 'Bronze Dune Metallic'\n",
      " 'Polymetal Gray Metallic' 'Nightfall Gray Metallic' 'Fuji White'\n",
      " 'Shadow Gray Metallic' 'Dark Moon Blue Metallic' 'Dark Sapphire'\n",
      " 'Firecracker Red Clearcoat' 'Black Raven' 'White Knuckle Clearcoat'\n",
      " 'Siren Red Tintcoat' 'Designo Magno Matte' 'Atomic Silver'\n",
      " 'Billet Silver Metallic Clearcoat' 'Ember Pearlcoat' 'Magnetic Black'\n",
      " 'Pacific Blue Metallic' 'Midnight Blue Metallic' 'Alta White'\n",
      " 'Eiger Grey' 'Diamond White' 'Onyx' 'Hyper Red' 'Ebony Twilight Metallic'\n",
      " 'Alpine White' 'Sonic Silver Metallic' 'Dark Ash Metallic'\n",
      " 'Volcano Grey Metallic' 'Patriot Blue Pearlcoat' 'Onyx Black'\n",
      " 'Titanium Silver' 'Granite Crystal Clearcoat Metallic' 'Nero Noctis'\n",
      " 'Silver Zynith' 'Black Cherry' 'Iconic Silver Metallic' 'Nero Daytona'\n",
      " 'Daytona Gray Pearl Effect' 'Dark Moss' 'Deep Crystal Blue Mica'\n",
      " 'China Blue' 'Magnetic Metallic' 'Midnight Black' 'Vega Blue'\n",
      " 'Sandstone Metallic' 'Machine Gray Metallic' 'C / C'\n",
      " 'Platinum Gray Metallic' 'Silver Ice Metallic' 'Carrara White Metallic'\n",
      " 'Black Sapphire Metallic' 'Go Mango!' 'White Frost Tri-Coat'\n",
      " 'Lizard Green' 'Santorin Black' 'Twilight Black' 'Gecko Pearlcoat'\n",
      " 'Satin Steel Metallic' 'Imperial Blue Metallic' 'Nautical Blue Pearl'\n",
      " 'Stone Gray Metallic' 'Quartzite Grey Metallic' 'Majestic Black Pearl'\n",
      " 'Shadow Black' 'Crimson Red Tintcoat' 'Silver Flare Metallic' 'Vik Black'\n",
      " 'Lunar Silver Metallic' 'Maroon' 'Redline Red' 'Iridescent Pearl Tricoat'\n",
      " 'Brilliant Silver Metallic' 'Lunar Blue Metallic' 'Matte White' 'Tan'\n",
      " 'Stormy Sea' 'Twilight Blue Metallic' 'Ibis White'\n",
      " 'Kodiak Brown Metallic' 'Crystal Black Silica' 'Sting Gray Clearcoat'\n",
      " 'Pristine White' 'Pearl White' 'Antimatter Blue Metallic'\n",
      " 'Tango Red Metallic' 'Crystal Black Pearl' 'Rift Metallic'\n",
      " 'Glacier White Metallic' 'Quartz White' 'Black Obsidian'\n",
      " 'Brilliant Black' 'Ruby Red Metallic Tinted Clearcoat'\n",
      " 'Tungsten Metallic' 'Magnetite Black Metallic' 'Jupiter Red' 'Glacier'\n",
      " 'Santorini Black' 'Navarre Blue'\n",
      " 'Phantom Black Pearl Effect / Black Roof' 'Isle of Man Green Metallic'\n",
      " 'Snowflake White Pearl Metallic' 'Brands Hatch Gray Metallic'\n",
      " 'Volcanic Orange' 'Liquid Platinum' 'Bayside Blue'\n",
      " 'Rapid Red Metallic Tinted Clearcoat' 'Majestic Plum Metallic'\n",
      " 'White Platinum Tri-Coat Metallic' 'Mosaic Black Metallic' 'Chalk'\n",
      " 'Black Noir Pearl' 'Nightfall Mica' 'Dark Gray Metallic'\n",
      " 'Mythos Black Metallic' 'Blueprint' 'Quicksilver Metallic' 'Frozen White'\n",
      " 'Lunare White Metallic' 'Verde' 'Dark Graphite Metallic' 'Mythos Black'\n",
      " 'Ebony Black' 'Ultra Black' 'Ingot Silver Metallic'\n",
      " 'Glacier Silver Metallic' 'Gun Metallic' 'Wind Chill Pearl'\n",
      " 'Anodized Blue Metallic' 'designo Diamond White' 'Tempest' 'Caviar'\n",
      " 'Phytonic Blue Metallic' 'Moonlight Cloud'\n",
      " 'Daytona Gray Pearl Effect w/ Black Roof' 'Bianco Isis'\n",
      " 'Carbonized Gray Metallic' 'Deep Blue Metallic' 'Ametrin Metallic'\n",
      " 'Super Black' 'Rosso Corsa' 'Blue Metallic' 'Iridium Metallic'\n",
      " 'Dark Slate Metallic' 'Manhattan Noir Metallic' 'Alfa White'\n",
      " 'Baltic Gray' 'Northsky Blue Metallic' 'Super White'\n",
      " 'Carbon Black Metallic' 'Horizon Blue' 'Jungle Green'\n",
      " 'Cayenne Red Tintcoat' 'Pink' 'Daytona Gray' 'Gentian Blue Metallic'\n",
      " 'Sangria Red' 'Kemora Gray Metallic' 'Magnetite Gray Metallic'\n",
      " 'Octane Red Pearlcoat' 'Custom Color' 'Ultra White' 'Pacific Blue'\n",
      " 'Ruby Flare Pearl' 'Caspian Blue' 'Silver Radiance'\n",
      " 'Carpathian Grey Premium Metallic' 'Ice' 'Balloon White'\n",
      " 'Shoreline Blue Pearl' 'Firenze Red Metallic' 'Remington Red Metallic'\n",
      " 'Orca Black Metallic' 'Radiant Red Metallic II' 'Mineral White'\n",
      " 'Glacier White' 'Snow White Pearl' 'Iridium Silver Metallic'\n",
      " 'Carpathian Grey' 'Mountain Air Metallic' 'Selenite Gray Metallic'\n",
      " 'Graphite Grey Metallic' 'Selenite Grey Metallic' 'Kinetic Blue'\n",
      " 'Wolf Gray' 'Star White' 'Emin White' 'Indus Silver'\n",
      " 'Matador Red Metallic' 'Portofino Gray' 'Black Forest Green'\n",
      " 'Dazzling White' 'Flame Red Clearcoat' 'Glacier Blue Metallic'\n",
      " 'Arctic White' 'Rosso' 'Silver Mist' 'Bianco Icarus Metallic'\n",
      " 'Firenze Red' 'Ironman Silver' 'Red Obsession' 'Magnetic Gray Metallic'\n",
      " 'Garnet Red Metallic' 'Vulcano Black Metallic' 'Magnetic Gray Clearcoat']\n",
      "clean_title: ['Yes']\n",
      "accident: ['None reported' 'At least 1 accident or damage reported']\n"
     ]
    }
   ],
   "source": [
    "# check unique values of categorical data\n",
    "print(\"columns and respective unique values:\")\n",
    "print(\"brands:\", train_df.brand.unique())\n",
    "# print(\"model:\", train_df.model.unique())\n",
    "print(\"fuel_type:\", train_df.fuel_type.unique())\n",
    "print(\"ext_col:\", train_df.ext_col.unique())\n",
    "print(\"clean_title:\", train_df.clean_title.unique())\n",
    "print(\"accident:\", train_df.accident.unique())"
   ]
  },
  {
   "cell_type": "code",
   "execution_count": 8,
   "id": "a97af31f",
   "metadata": {
    "_kg_hide-input": false,
    "_kg_hide-output": true,
    "execution": {
     "iopub.execute_input": "2024-06-06T16:34:02.918422Z",
     "iopub.status.busy": "2024-06-06T16:34:02.917910Z",
     "iopub.status.idle": "2024-06-06T16:34:02.945297Z",
     "shell.execute_reply": "2024-06-06T16:34:02.944007Z"
    },
    "papermill": {
     "duration": 0.04924,
     "end_time": "2024-06-06T16:34:02.948389",
     "exception": false,
     "start_time": "2024-06-06T16:34:02.899149",
     "status": "completed"
    },
    "scrolled": true,
    "tags": []
   },
   "outputs": [
    {
     "name": "stdout",
     "output_type": "stream",
     "text": [
      "columns and respective unique values:\n",
      "brands: ['Mercedes-Benz' 'Lexus' 'Land' 'BMW' 'Chevrolet' 'Dodge' 'Audi' 'Ford'\n",
      " 'Kia' 'Toyota' 'Cadillac' 'GMC' 'Jeep' 'Mazda' 'Acura' 'INFINITI'\n",
      " 'Volkswagen' 'Subaru' 'Hyundai' 'Jaguar' 'Porsche' 'Lincoln' 'Nissan'\n",
      " 'RAM' 'Buick' 'Honda' 'MINI' 'Rolls-Royce' 'Genesis' 'Bentley' 'Volvo'\n",
      " 'Saturn' 'Ferrari' 'Bugatti' 'Tesla' 'Pontiac' 'Hummer' 'Mitsubishi'\n",
      " 'Maserati' 'Alfa' 'Scion' 'Lamborghini' 'Chrysler' 'McLaren' 'Lotus'\n",
      " 'Rivian' 'Aston' 'FIAT' 'Lucid' 'Mercury' 'Suzuki' 'Saab' 'smart']\n",
      "fuel_type: ['Gasoline' 'E85 Flex Fuel' 'Diesel' 'Hybrid' '–' 'Plug-In Hybrid'\n",
      " 'not supported']\n",
      "ext_col: ['White' 'Silver' 'Blue' 'Red' 'Black' 'Gray' 'Atomic Silver' 'Green'\n",
      " 'Octane Red Pearlcoat' 'Purple' 'Diamond Black' 'Agate Black Metallic'\n",
      " '–' 'Orange' 'Polymetal Gray Metallic' 'Crystal Black Pearl'\n",
      " 'Snowflake White Pearl' 'Jet Black Mica' 'Black Raven' 'Black Clearcoat'\n",
      " 'Yellow' 'Metallic' 'Imperial Blue Metallic' 'Phytonic Blue Metallic'\n",
      " 'Gold' 'Brown' 'Sonic Silver Metallic' 'Dark Ash Metallic' 'Matte White'\n",
      " 'Summit White' 'Deep Crystal Blue Mica' 'Mosaic Black Metallic'\n",
      " 'Nebula Gray Pearl' 'Silver Flare Metallic' 'Soul Red Crystal Metallic'\n",
      " 'Orca Black Metallic' 'Antimatter Blue Metallic' 'Bright White Clearcoat'\n",
      " 'Dark Sapphire' 'Ebony Twilight Metallic' 'Tungsten Metallic' 'Blu'\n",
      " 'Magnetic Metallic' 'Beige' 'Sting Gray Clearcoat'\n",
      " 'Machine Gray Metallic' 'Rosso Mars Metallic' 'Tan'\n",
      " 'Iridescent Pearl Tricoat' 'Alpine White' 'Manhattan Noir Metallic'\n",
      " 'White Frost Tri-Coat' 'White Knuckle Clearcoat' 'Iconic Silver Metallic'\n",
      " 'Granite Crystal Clearcoat Metallic' 'Rift Metallic'\n",
      " 'Obsidian Black Metallic' 'Oxford White' 'Stellar Black Metallic'\n",
      " 'Delmonico Red Pearlcoat' 'Tango Red Metallic' 'Tempest'\n",
      " 'Glacial White Pearl' 'Eiger Grey' 'Ultra White' 'Frozen White'\n",
      " 'Deep Black Pearl Effect' 'Kinetic Blue' 'Iridium Metallic'\n",
      " 'Shadow Gray Metallic' 'Hellayella Clearcoat' 'Lizard Green'\n",
      " 'Midnight Black Metallic' 'Silver Ice Metallic' 'Onyx' 'Rosso'\n",
      " 'Black Noir Pearl' 'China Blue' 'Beluga Black' 'Brilliant Black'\n",
      " 'Mythos Black Metallic' 'Kodiak Brown Metallic' 'Shadow Black'\n",
      " 'Rich Garnet Metallic' 'Patriot Blue Pearlcoat' 'Velvet Red Pearlcoat'\n",
      " 'Ice Silver Metallic' 'Glacier Silver Metallic' 'C / C' 'Bayside Blue'\n",
      " 'Dark Moon Blue Metallic' 'Satin Steel Metallic' 'Cajun Red Tintcoat'\n",
      " 'White Diamond Tri-Coat' 'Quicksilver Metallic' 'Red Quartz Tintcoat'\n",
      " 'Nero Noctis' 'Yulong' 'Black Forest Green' 'Isle of Man Green Metallic'\n",
      " 'Santorini Black Metallic' 'Brilliant Silver Metallic' 'Pink'\n",
      " 'Arctic White' 'Cobra Beige Metallic' 'Flame Red Clearcoat'\n",
      " 'Wind Chill Pearl' 'Dark Slate Metallic' 'Firecracker Red Clearcoat'\n",
      " 'Lunare White Metallic' 'Matador Red Mica' 'Shoreline Blue Pearl'\n",
      " 'Platinum White Pearl' 'Bianco Icarus Metallic' 'Black Obsidian'\n",
      " 'Billet Silver Metallic Clearcoat' 'Iridium Silver Metallic'\n",
      " 'DB Black Clearcoat' 'Ruby Flare Pearl' 'Dark Moss'\n",
      " 'Carbonized Gray Metallic' 'Ember Pearlcoat' 'Rosso Corsa'\n",
      " 'Black Sapphire Metallic' 'Black Cherry' 'Infrared Tintcoat'\n",
      " 'Siren Red Tintcoat' 'Remington Red Metallic' 'Daytona Gray Pearl Effect'\n",
      " 'Phantom Black Pearl Effect / Black Roof' 'Chalk' 'Horizon Blue'\n",
      " 'Silver Zynith' 'Carrara White Metallic' 'Billet Clearcoat Metallic'\n",
      " 'Python Green' 'Silician Yellow' 'Maximum Steel Metallic' 'Ultra Black'\n",
      " 'Fuji White' 'Pacific Blue' 'Volcano Grey Metallic' 'Twilight Black'\n",
      " 'Ametrin Metallic' 'Crystal Black Silica' 'Majestic Black Pearl'\n",
      " 'Alfa White' 'Majestic Plum Metallic' 'Twilight Blue Metallic'\n",
      " 'Magnetic Black' 'Snowflake White Pearl Metallic' 'Wolf Gray'\n",
      " 'Onyx Black' 'Carbon Black Metallic' 'Midnight Black'\n",
      " 'Dark Matter Metallic' 'Pacific Blue Metallic' 'Glacier Blue Metallic'\n",
      " 'Gecko Pearlcoat' 'Ibis White' 'Selenite Gray Metallic'\n",
      " 'Shimmering Silver' 'Garnet Red Metallic' 'Cirrus Silver Metallic'\n",
      " 'Nautical Blue Pearl' 'Quartzite Grey Metallic' 'Crimson Red Tintcoat'\n",
      " 'Passion Red' 'Frozen Dark Silver Metallic' 'Mountain Air Metallic'\n",
      " 'Super Black' 'Caviar' 'Santorini Black' 'Burnished Bronze Metallic'\n",
      " 'Vik Black' 'Go Mango!' 'White Platinum Tri-Coat Metallic'\n",
      " 'Anodized Blue Metallic' 'Hyper Red' 'Midnight Blue Metallic' 'Maroon'\n",
      " 'Sandstone Metallic' 'Blue Reflex Mica' 'Nightfall Gray Metallic'\n",
      " 'Super White' 'Magnetite Black Metallic' 'Stormy Sea'\n",
      " 'Kemora Gray Metallic' 'Dark Gray Metallic' 'Crystal White Pearl'\n",
      " 'Gun Metallic' 'Blue Metallic' 'Magnetic Gray Clearcoat' 'Pure White'\n",
      " 'Ebony Black' 'Balloon White' 'Deep Blue Metallic' 'Silver Radiance'\n",
      " 'Titanium Silver' 'Red Obsession' 'Glacier White Metallic'\n",
      " 'Stone Gray Metallic' 'Moonlight Cloud' 'Vega Blue' 'Sangria Red'\n",
      " 'Carpathian Grey Premium Metallic' 'Brands Hatch Gray Metallic'\n",
      " 'Vulcano Black Metallic' 'Ruby Red Metallic Tinted Clearcoat'\n",
      " 'Chronos Gray Metallic' 'Custom Color' 'Aventurine Green Metallic'\n",
      " 'Santorin Black' 'Quartz White' 'Daytona Gray' 'Indus Silver'\n",
      " 'Rapid Red Metallic Tinted Clearcoat' 'Ice' 'Diamond White'\n",
      " 'Chronos Gray' 'Alta White' 'Eminent White Pearl'\n",
      " 'Magnetite Gray Metallic' 'Nero Daytona' 'Snow White Pearl' 'Redline Red'\n",
      " 'Mineral White' 'Obsidian' 'Matador Red Metallic' 'Sparkling Silver']\n",
      "clean_title: ['Yes']\n",
      "accident: ['None reported' 'At least 1 accident or damage reported']\n"
     ]
    }
   ],
   "source": [
    "# check unique values of categorical data\n",
    "print(\"columns and respective unique values:\")\n",
    "print(\"brands:\", test_df.brand.unique())\n",
    "# print(\"model:\", test_df.model.unique())\n",
    "print(\"fuel_type:\", test_df.fuel_type.unique())\n",
    "print(\"ext_col:\", test_df.ext_col.unique())\n",
    "print(\"clean_title:\", test_df.clean_title.unique())\n",
    "print(\"accident:\", test_df.accident.unique())"
   ]
  },
  {
   "cell_type": "markdown",
   "id": "9e33db7f",
   "metadata": {
    "execution": {
     "iopub.execute_input": "2024-06-04T16:29:28.729010Z",
     "iopub.status.busy": "2024-06-04T16:29:28.728395Z",
     "iopub.status.idle": "2024-06-04T16:29:28.738212Z",
     "shell.execute_reply": "2024-06-04T16:29:28.736540Z",
     "shell.execute_reply.started": "2024-06-04T16:29:28.728969Z"
    },
    "papermill": {
     "duration": 0.016252,
     "end_time": "2024-06-06T16:34:02.981420",
     "exception": false,
     "start_time": "2024-06-06T16:34:02.965168",
     "status": "completed"
    },
    "tags": []
   },
   "source": [
    "lets check missing data:"
   ]
  },
  {
   "cell_type": "code",
   "execution_count": 9,
   "id": "e37c0b15",
   "metadata": {
    "execution": {
     "iopub.execute_input": "2024-06-06T16:34:03.017043Z",
     "iopub.status.busy": "2024-06-06T16:34:03.016457Z",
     "iopub.status.idle": "2024-06-06T16:34:03.101814Z",
     "shell.execute_reply": "2024-06-06T16:34:03.100446Z"
    },
    "papermill": {
     "duration": 0.106735,
     "end_time": "2024-06-06T16:34:03.104887",
     "exception": false,
     "start_time": "2024-06-06T16:34:02.998152",
     "status": "completed"
    },
    "tags": []
   },
   "outputs": [
    {
     "name": "stdout",
     "output_type": "stream",
     "text": [
      "NaN value in brand: 0\n",
      "NaN value in model: 0\n",
      "NaN value in model_year: 0\n",
      "NaN value in fuel_type: 0\n",
      "'-' or 'not supported' value in fuel_type: 298\n",
      "NaN value in milage: 0\n",
      "NaN value in ext_col: 0\n",
      "'-' in ext_col: 41\n",
      "NaN value in accident: 0\n",
      "NaN value in price: 0\n",
      "0 value in price: 0\n"
     ]
    }
   ],
   "source": [
    "# check missing values\n",
    "print(\"NaN value in brand:\", train_df.brand.isna().sum())\n",
    "print(\"NaN value in model:\", train_df.model.isna().sum())\n",
    "print(\"NaN value in model_year:\", train_df.model_year.isna().sum())\n",
    "print(\"NaN value in fuel_type:\", train_df.fuel_type.isna().sum())\n",
    "print(\"'-' or 'not supported' value in fuel_type:\", train_df[(train_df.fuel_type == '–') | (train_df.fuel_type == 'not supported')].shape[0])\n",
    "print(\"NaN value in milage:\", train_df.milage.isna().sum())\n",
    "print(\"NaN value in ext_col:\", train_df.ext_col.isna().sum())\n",
    "print(\"'-' in ext_col:\", train_df[train_df.ext_col == '–'].shape[0])\n",
    "print(\"NaN value in accident:\", train_df.accident.isna().sum())\n",
    "print(\"NaN value in price:\", train_df.price.isna().sum())\n",
    "print(\"0 value in price:\", train_df[(train_df.price == 0)].shape[0])"
   ]
  },
  {
   "cell_type": "code",
   "execution_count": 10,
   "id": "95de3df6",
   "metadata": {
    "execution": {
     "iopub.execute_input": "2024-06-06T16:34:03.142638Z",
     "iopub.status.busy": "2024-06-06T16:34:03.141278Z",
     "iopub.status.idle": "2024-06-06T16:34:03.215656Z",
     "shell.execute_reply": "2024-06-06T16:34:03.213623Z"
    },
    "papermill": {
     "duration": 0.097782,
     "end_time": "2024-06-06T16:34:03.220155",
     "exception": false,
     "start_time": "2024-06-06T16:34:03.122373",
     "status": "completed"
    },
    "tags": []
   },
   "outputs": [
    {
     "name": "stdout",
     "output_type": "stream",
     "text": [
      "NaN value in brand: 0\n",
      "NaN value in model: 0\n",
      "NaN value in model_year: 0\n",
      "NaN value in fuel_type: 0\n",
      "'-' or 'not supported' value in fuel_type: 201\n",
      "NaN value in milage: 0\n",
      "NaN value in ext_col: 0\n",
      "'-' in ext_col: 27\n",
      "NaN value in accident: 0\n"
     ]
    }
   ],
   "source": [
    "# check missing values\n",
    "print(\"NaN value in brand:\", test_df.brand.isna().sum())\n",
    "print(\"NaN value in model:\", test_df.model.isna().sum())\n",
    "print(\"NaN value in model_year:\", test_df.model_year.isna().sum())\n",
    "print(\"NaN value in fuel_type:\", test_df.fuel_type.isna().sum())\n",
    "print(\"'-' or 'not supported' value in fuel_type:\", test_df[(test_df.fuel_type == '–') | (test_df.fuel_type == 'not supported')].shape[0])\n",
    "print(\"NaN value in milage:\", test_df.milage.isna().sum())\n",
    "print(\"NaN value in ext_col:\", test_df.ext_col.isna().sum())\n",
    "print(\"'-' in ext_col:\", test_df[test_df.ext_col == '–'].shape[0])\n",
    "print(\"NaN value in accident:\", test_df.accident.isna().sum())"
   ]
  },
  {
   "cell_type": "markdown",
   "id": "6aa92705",
   "metadata": {
    "papermill": {
     "duration": 0.022687,
     "end_time": "2024-06-06T16:34:03.262668",
     "exception": false,
     "start_time": "2024-06-06T16:34:03.239981",
     "status": "completed"
    },
    "tags": []
   },
   "source": [
    "quick thoughts upon inspection:\n",
    "\n",
    "There are columns that are clearly useful and important:\n",
    "* *brands*\n",
    "* *model_year*\n",
    "* *milage*\n",
    "* *accident*, can be changed to 1 & 0 to indicate\n",
    "\n",
    "There are also columns that needs work:\n",
    "* *fuel_type* has some missing value & might be useful, we will drop columns with missing values & proceed, and change 'E85 Flex Fuel' to 'Gasoline' aaaand 'Plug-In Hybrid' to 'Hybrid'\n",
    "* *ext_col* may be useful, but there is a few missing values & need transformation (try to convert most to simple color: white, red, black etc)\n",
    "\n",
    "Finally there are columns deemed not significant and we will proceed without for now:\n",
    "* *model* will not be used for now, a lot of work to do and seems less significant\n",
    "\n",
    "Also it is noteworthy that the target value *price* is free of missing value or 0"
   ]
  },
  {
   "cell_type": "markdown",
   "id": "5a21c558",
   "metadata": {
    "papermill": {
     "duration": 0.016426,
     "end_time": "2024-06-06T16:34:03.296385",
     "exception": false,
     "start_time": "2024-06-06T16:34:03.279959",
     "status": "completed"
    },
    "tags": []
   },
   "source": [
    "# 2. Data Preprocessing\n",
    "## 2.1 Data Cleaning\n",
    "remove rows with *fuel_type* having missing values"
   ]
  },
  {
   "cell_type": "code",
   "execution_count": 11,
   "id": "18dec884",
   "metadata": {
    "execution": {
     "iopub.execute_input": "2024-06-06T16:34:03.332227Z",
     "iopub.status.busy": "2024-06-06T16:34:03.331737Z",
     "iopub.status.idle": "2024-06-06T16:34:03.458648Z",
     "shell.execute_reply": "2024-06-06T16:34:03.457410Z"
    },
    "papermill": {
     "duration": 0.148806,
     "end_time": "2024-06-06T16:34:03.462007",
     "exception": false,
     "start_time": "2024-06-06T16:34:03.313201",
     "status": "completed"
    },
    "tags": []
   },
   "outputs": [
    {
     "name": "stdout",
     "output_type": "stream",
     "text": [
      "'-' or 'not supported' value in fuel_type: 0\n",
      "'-' in ext_col: 0\n"
     ]
    },
    {
     "data": {
      "text/plain": [
       "(53935, 13)"
      ]
     },
     "execution_count": 11,
     "metadata": {},
     "output_type": "execute_result"
    }
   ],
   "source": [
    "train_df = train_df[train_df['fuel_type'] != '–']\n",
    "train_df = train_df[train_df['fuel_type'] != 'not supported']\n",
    "train_df = train_df[train_df['ext_col'] != '–']\n",
    "print(\"'-' or 'not supported' value in fuel_type:\", train_df[(train_df.fuel_type == '–') | (train_df.fuel_type == 'not supported')].shape[0])\n",
    "print(\"'-' in ext_col:\", train_df[train_df.ext_col == '–'].shape[0])\n",
    "train_df.shape"
   ]
  },
  {
   "cell_type": "code",
   "execution_count": 12,
   "id": "3e31e495",
   "metadata": {
    "execution": {
     "iopub.execute_input": "2024-06-06T16:34:03.506154Z",
     "iopub.status.busy": "2024-06-06T16:34:03.505215Z",
     "iopub.status.idle": "2024-06-06T16:34:03.586156Z",
     "shell.execute_reply": "2024-06-06T16:34:03.584602Z"
    },
    "papermill": {
     "duration": 0.1049,
     "end_time": "2024-06-06T16:34:03.591100",
     "exception": false,
     "start_time": "2024-06-06T16:34:03.486200",
     "status": "completed"
    },
    "tags": []
   },
   "outputs": [
    {
     "name": "stdout",
     "output_type": "stream",
     "text": [
      "'-' or 'not supported' value in fuel_type: 0\n",
      "'-' in ext_col: 0\n"
     ]
    },
    {
     "data": {
      "text/plain": [
       "(35955, 12)"
      ]
     },
     "execution_count": 12,
     "metadata": {},
     "output_type": "execute_result"
    }
   ],
   "source": [
    "test_df = test_df[test_df['fuel_type'] != '–']\n",
    "test_df = test_df[test_df['fuel_type'] != 'not supported']\n",
    "test_df = test_df[test_df['ext_col'] != '–']\n",
    "print(\"'-' or 'not supported' value in fuel_type:\", test_df[(test_df.fuel_type == '–') | (test_df.fuel_type == 'not supported')].shape[0])\n",
    "print(\"'-' in ext_col:\", test_df[test_df.ext_col == '–'].shape[0])\n",
    "test_df.shape"
   ]
  },
  {
   "cell_type": "markdown",
   "id": "ea6aeb07",
   "metadata": {
    "papermill": {
     "duration": 0.020216,
     "end_time": "2024-06-06T16:34:03.637934",
     "exception": false,
     "start_time": "2024-06-06T16:34:03.617718",
     "status": "completed"
    },
    "tags": []
   },
   "source": [
    "## 2.2 Data Transformation"
   ]
  },
  {
   "cell_type": "markdown",
   "id": "38747f3f",
   "metadata": {
    "papermill": {
     "duration": 0.017109,
     "end_time": "2024-06-06T16:34:03.672943",
     "exception": false,
     "start_time": "2024-06-06T16:34:03.655834",
     "status": "completed"
    },
    "tags": []
   },
   "source": [
    "### 2.2.1 Replacing values in accident & fuel_type"
   ]
  },
  {
   "cell_type": "code",
   "execution_count": 13,
   "id": "5e8ba6fe",
   "metadata": {
    "execution": {
     "iopub.execute_input": "2024-06-06T16:34:03.710650Z",
     "iopub.status.busy": "2024-06-06T16:34:03.710108Z",
     "iopub.status.idle": "2024-06-06T16:34:03.716612Z",
     "shell.execute_reply": "2024-06-06T16:34:03.715289Z"
    },
    "papermill": {
     "duration": 0.028479,
     "end_time": "2024-06-06T16:34:03.719238",
     "exception": false,
     "start_time": "2024-06-06T16:34:03.690759",
     "status": "completed"
    },
    "tags": []
   },
   "outputs": [],
   "source": [
    "pd.set_option('future.no_silent_downcasting', True)"
   ]
  },
  {
   "cell_type": "code",
   "execution_count": 14,
   "id": "f8ccb9aa",
   "metadata": {
    "execution": {
     "iopub.execute_input": "2024-06-06T16:34:03.847964Z",
     "iopub.status.busy": "2024-06-06T16:34:03.847494Z",
     "iopub.status.idle": "2024-06-06T16:34:03.902962Z",
     "shell.execute_reply": "2024-06-06T16:34:03.901545Z"
    },
    "papermill": {
     "duration": 0.077857,
     "end_time": "2024-06-06T16:34:03.905833",
     "exception": false,
     "start_time": "2024-06-06T16:34:03.827976",
     "status": "completed"
    },
    "tags": []
   },
   "outputs": [
    {
     "name": "stdout",
     "output_type": "stream",
     "text": [
      "train accident: [False True]\n",
      "test accident: [False True]\n"
     ]
    }
   ],
   "source": [
    "# Change accident to numerical of 1 & 0\n",
    "train_df['accident'] = train_df['accident'].replace('None reported', False )\n",
    "train_df['accident'] = train_df['accident'].replace('At least 1 accident or damage reported', True )\n",
    "print(\"train accident:\", train_df.accident.unique())\n",
    "\n",
    "test_df['accident'] = test_df['accident'].replace('None reported', False )\n",
    "test_df['accident'] = test_df['accident'].replace('At least 1 accident or damage reported', True )\n",
    "print(\"test accident:\", test_df.accident.unique())"
   ]
  },
  {
   "cell_type": "code",
   "execution_count": 15,
   "id": "c2190924",
   "metadata": {
    "execution": {
     "iopub.execute_input": "2024-06-06T16:34:03.944206Z",
     "iopub.status.busy": "2024-06-06T16:34:03.943695Z",
     "iopub.status.idle": "2024-06-06T16:34:03.997947Z",
     "shell.execute_reply": "2024-06-06T16:34:03.996235Z"
    },
    "papermill": {
     "duration": 0.077056,
     "end_time": "2024-06-06T16:34:04.000868",
     "exception": false,
     "start_time": "2024-06-06T16:34:03.923812",
     "status": "completed"
    },
    "tags": []
   },
   "outputs": [
    {
     "name": "stdout",
     "output_type": "stream",
     "text": [
      "train fuel_type: ['Gasoline' 'Hybrid' 'Diesel']\n",
      "test fuel_type: ['Gasoline' 'Diesel' 'Hybrid']\n"
     ]
    }
   ],
   "source": [
    "# Change fuel_type to narrow down the types\n",
    "train_df['fuel_type'] = train_df['fuel_type'].replace('E85 Flex Fuel', 'Gasoline')\n",
    "train_df['fuel_type'] = train_df['fuel_type'].replace('Plug-In Hybrid', 'Hybrid')\n",
    "print(\"train fuel_type:\", train_df.fuel_type.unique())\n",
    "\n",
    "test_df['fuel_type'] = test_df['fuel_type'].replace('E85 Flex Fuel', 'Gasoline')\n",
    "test_df['fuel_type'] = test_df['fuel_type'].replace('Plug-In Hybrid', 'Hybrid')\n",
    "print(\"test fuel_type:\", test_df.fuel_type.unique())"
   ]
  },
  {
   "cell_type": "markdown",
   "id": "19bd243b",
   "metadata": {
    "papermill": {
     "duration": 0.01741,
     "end_time": "2024-06-06T16:34:04.036014",
     "exception": false,
     "start_time": "2024-06-06T16:34:04.018604",
     "status": "completed"
    },
    "tags": []
   },
   "source": [
    "### 2.2.2 Deal with the strings in column ext_col to make them more generic\n",
    "turn weird color names into general colors (e.g. white, black, blue...)\n",
    "make a new column?\n",
    "then mayyybe remove the weird colors if there is minimal of them? want to make sure the test data has same distribution tho....\n"
   ]
  },
  {
   "cell_type": "code",
   "execution_count": 16,
   "id": "0d6c576d",
   "metadata": {
    "execution": {
     "iopub.execute_input": "2024-06-06T16:34:04.074696Z",
     "iopub.status.busy": "2024-06-06T16:34:04.073407Z",
     "iopub.status.idle": "2024-06-06T16:34:04.432411Z",
     "shell.execute_reply": "2024-06-06T16:34:04.431139Z"
    },
    "papermill": {
     "duration": 0.381157,
     "end_time": "2024-06-06T16:34:04.435216",
     "exception": false,
     "start_time": "2024-06-06T16:34:04.054059",
     "status": "completed"
    },
    "tags": []
   },
   "outputs": [
    {
     "name": "stdout",
     "output_type": "stream",
     "text": [
      "train ext_col: ['Blue' 'Black' 'Purple' 'Gray' 'White' 'Red' 'Silver' 'Green' 'Orange'\n",
      " 'Beige' 'Yellow' 'Brown' 'c / c' 'pink' 'custom color']\n",
      "test ext_col: ['White' 'Silver' 'Blue' 'Red' 'Black' 'Gray' 'Green' 'Purple' 'Orange'\n",
      " 'Yellow' 'Brown' 'Beige' 'c / c' 'pink' 'custom color']\n"
     ]
    }
   ],
   "source": [
    "# Define a dictionary mapping generic color names to their potential variations\n",
    "color_map = {\n",
    "    'white': ['white', 'snow', 'ivory', 'pearl', 'cream', 'frost', 'glacier', 'ice', 'chalk', 'yulong'],\n",
    "    'black': ['black', 'ebony', 'onyx', 'jet', 'noir', 'raven', 'nightfall', 'nero', 'noctis', 'moonlight', 'obsidian'],\n",
    "    'blue': ['blue', 'navy', 'sapphire', 'indigo', 'caelum', 'reflex', 'sea', 'tempest', 'blu'],\n",
    "    'red': ['red', 'crimson', 'scarlet', 'ruby', 'maroon', 'sangria', 'mars', 'corsa', 'rosso'],\n",
    "    'green': ['green', 'olive', 'emerald', 'jade', 'lime', 'jungle', 'moss', 'caviar', 'verde'],\n",
    "    'yellow': ['yellow', 'gold', 'lemon', 'amber', 'hellayella'],\n",
    "    'silver': ['silver', 'platinum', 'steel', 'zynith', 'radiance', 'metallic', 'magno'], # we mayyy want to remove metallic from silver...\n",
    "    'purple': ['purple', 'lavender', 'amethyst', 'violet', 'plum'],\n",
    "    'gray': ['gray', 'grey', 'charcoal', 'slate', 'graphite', 'ash'],\n",
    "    'orange': ['orange', 'tangerine', 'apricot', 'peach', 'mango'],\n",
    "    'brown': ['brown', 'tan', 'chocolate', 'camel', 'khaki', 'dune'],\n",
    "    'beige': ['beige', 'cream', 'vanilla', 'linen', 'isis', 'lunar']\n",
    "}\n",
    "\n",
    "def transform_color(color_str):\n",
    "    color_str = color_str.lower()\n",
    "    for generic_color, variations in color_map.items():\n",
    "        for variation in variations:\n",
    "            if variation in color_str:\n",
    "                return generic_color.capitalize()\n",
    "    return color_str\n",
    "\n",
    "# Apply the transform_color function to the 'Color' column\n",
    "train_df2 = train_df.copy()\n",
    "train_df2['ext_col'] = train_df2['ext_col'].apply(transform_color)\n",
    "print(\"train ext_col:\", train_df2.ext_col.unique())\n",
    "\n",
    "test_df2 = test_df.copy()\n",
    "test_df2['ext_col'] = test_df2['ext_col'].apply(transform_color)\n",
    "print(\"test ext_col:\", test_df2.ext_col.unique())"
   ]
  },
  {
   "cell_type": "code",
   "execution_count": 17,
   "id": "9df68cd9",
   "metadata": {
    "execution": {
     "iopub.execute_input": "2024-06-06T16:34:04.474705Z",
     "iopub.status.busy": "2024-06-06T16:34:04.473742Z",
     "iopub.status.idle": "2024-06-06T16:34:04.591747Z",
     "shell.execute_reply": "2024-06-06T16:34:04.590369Z"
    },
    "papermill": {
     "duration": 0.141284,
     "end_time": "2024-06-06T16:34:04.594933",
     "exception": false,
     "start_time": "2024-06-06T16:34:04.453649",
     "status": "completed"
    },
    "tags": []
   },
   "outputs": [
    {
     "name": "stdout",
     "output_type": "stream",
     "text": [
      " pink in ext_col: 7\n",
      " c / c in ext_col: 14\n",
      " custom color in ext_col: 1\n",
      "ext_col: ['Blue' 'Black' 'Purple' 'Gray' 'White' 'Red' 'Silver' 'Green' 'Orange'\n",
      " 'Beige' 'Yellow' 'Brown']\n"
     ]
    },
    {
     "data": {
      "text/plain": [
       "(53913, 13)"
      ]
     },
     "execution_count": 17,
     "metadata": {},
     "output_type": "execute_result"
    }
   ],
   "source": [
    "print(\" pink in ext_col:\", train_df2[train_df2.ext_col == 'pink'].shape[0])\n",
    "print(\" c / c in ext_col:\", train_df2[train_df2.ext_col == 'c / c'].shape[0])\n",
    "print(\" custom color in ext_col:\", train_df2[train_df2.ext_col == 'custom color'].shape[0])\n",
    "\n",
    "# Remove rows with edge cases\n",
    "train_df2 = train_df2[train_df2['ext_col'] != 'pink']\n",
    "train_df2 = train_df2[train_df2['ext_col'] != \"c / c\"]\n",
    "train_df2 = train_df2[train_df2['ext_col'] != 'custom color']\n",
    "print(\"ext_col:\", train_df2.ext_col.unique())\n",
    "train_df2.shape"
   ]
  },
  {
   "cell_type": "code",
   "execution_count": 18,
   "id": "5f1cc60e",
   "metadata": {
    "execution": {
     "iopub.execute_input": "2024-06-06T16:34:04.634203Z",
     "iopub.status.busy": "2024-06-06T16:34:04.633734Z",
     "iopub.status.idle": "2024-06-06T16:34:04.716410Z",
     "shell.execute_reply": "2024-06-06T16:34:04.715122Z"
    },
    "papermill": {
     "duration": 0.105593,
     "end_time": "2024-06-06T16:34:04.719143",
     "exception": false,
     "start_time": "2024-06-06T16:34:04.613550",
     "status": "completed"
    },
    "tags": []
   },
   "outputs": [
    {
     "name": "stdout",
     "output_type": "stream",
     "text": [
      " pink in ext_col: 4\n",
      " c / c in ext_col: 6\n",
      " custom color in ext_col: 1\n",
      "ext_col: ['White' 'Silver' 'Blue' 'Red' 'Black' 'Gray' 'Green' 'Purple' 'Orange'\n",
      " 'Yellow' 'Brown' 'Beige']\n"
     ]
    },
    {
     "data": {
      "text/plain": [
       "(35944, 12)"
      ]
     },
     "execution_count": 18,
     "metadata": {},
     "output_type": "execute_result"
    }
   ],
   "source": [
    "print(\" pink in ext_col:\", test_df2[test_df2.ext_col == 'pink'].shape[0])\n",
    "print(\" c / c in ext_col:\", test_df2[test_df2.ext_col == 'c / c'].shape[0])\n",
    "print(\" custom color in ext_col:\", test_df2[test_df2.ext_col == 'custom color'].shape[0])\n",
    "\n",
    "# Remove rows with edge cases\n",
    "test_df2 = test_df2[test_df2['ext_col'] != 'pink']\n",
    "test_df2 = test_df2[test_df2['ext_col'] != \"c / c\"]\n",
    "test_df2 = test_df2[test_df2['ext_col'] != 'custom color']\n",
    "print(\"ext_col:\", test_df2.ext_col.unique())\n",
    "test_df2.shape"
   ]
  },
  {
   "cell_type": "code",
   "execution_count": 19,
   "id": "fdde95c7",
   "metadata": {
    "execution": {
     "iopub.execute_input": "2024-06-06T16:34:04.759784Z",
     "iopub.status.busy": "2024-06-06T16:34:04.758685Z",
     "iopub.status.idle": "2024-06-06T16:34:04.783792Z",
     "shell.execute_reply": "2024-06-06T16:34:04.782537Z"
    },
    "papermill": {
     "duration": 0.048287,
     "end_time": "2024-06-06T16:34:04.786579",
     "exception": false,
     "start_time": "2024-06-06T16:34:04.738292",
     "status": "completed"
    },
    "tags": []
   },
   "outputs": [
    {
     "data": {
      "text/html": [
       "<div>\n",
       "<style scoped>\n",
       "    .dataframe tbody tr th:only-of-type {\n",
       "        vertical-align: middle;\n",
       "    }\n",
       "\n",
       "    .dataframe tbody tr th {\n",
       "        vertical-align: top;\n",
       "    }\n",
       "\n",
       "    .dataframe thead th {\n",
       "        text-align: right;\n",
       "    }\n",
       "</style>\n",
       "<table border=\"1\" class=\"dataframe\">\n",
       "  <thead>\n",
       "    <tr style=\"text-align: right;\">\n",
       "      <th></th>\n",
       "      <th>id</th>\n",
       "      <th>brand</th>\n",
       "      <th>model_year</th>\n",
       "      <th>milage</th>\n",
       "      <th>fuel_type</th>\n",
       "      <th>ext_col</th>\n",
       "      <th>accident</th>\n",
       "      <th>price</th>\n",
       "    </tr>\n",
       "  </thead>\n",
       "  <tbody>\n",
       "    <tr>\n",
       "      <th>0</th>\n",
       "      <td>0</td>\n",
       "      <td>Ford</td>\n",
       "      <td>2018</td>\n",
       "      <td>74349</td>\n",
       "      <td>Gasoline</td>\n",
       "      <td>Blue</td>\n",
       "      <td>False</td>\n",
       "      <td>11000</td>\n",
       "    </tr>\n",
       "    <tr>\n",
       "      <th>1</th>\n",
       "      <td>1</td>\n",
       "      <td>BMW</td>\n",
       "      <td>2007</td>\n",
       "      <td>80000</td>\n",
       "      <td>Gasoline</td>\n",
       "      <td>Black</td>\n",
       "      <td>False</td>\n",
       "      <td>8250</td>\n",
       "    </tr>\n",
       "    <tr>\n",
       "      <th>2</th>\n",
       "      <td>2</td>\n",
       "      <td>Jaguar</td>\n",
       "      <td>2009</td>\n",
       "      <td>91491</td>\n",
       "      <td>Gasoline</td>\n",
       "      <td>Purple</td>\n",
       "      <td>False</td>\n",
       "      <td>15000</td>\n",
       "    </tr>\n",
       "    <tr>\n",
       "      <th>3</th>\n",
       "      <td>3</td>\n",
       "      <td>BMW</td>\n",
       "      <td>2022</td>\n",
       "      <td>2437</td>\n",
       "      <td>Hybrid</td>\n",
       "      <td>Gray</td>\n",
       "      <td>False</td>\n",
       "      <td>63500</td>\n",
       "    </tr>\n",
       "    <tr>\n",
       "      <th>4</th>\n",
       "      <td>4</td>\n",
       "      <td>Pontiac</td>\n",
       "      <td>2001</td>\n",
       "      <td>111000</td>\n",
       "      <td>Gasoline</td>\n",
       "      <td>White</td>\n",
       "      <td>False</td>\n",
       "      <td>7850</td>\n",
       "    </tr>\n",
       "    <tr>\n",
       "      <th>5</th>\n",
       "      <td>5</td>\n",
       "      <td>Acura</td>\n",
       "      <td>2003</td>\n",
       "      <td>124756</td>\n",
       "      <td>Gasoline</td>\n",
       "      <td>Red</td>\n",
       "      <td>True</td>\n",
       "      <td>4995</td>\n",
       "    </tr>\n",
       "    <tr>\n",
       "      <th>6</th>\n",
       "      <td>6</td>\n",
       "      <td>Audi</td>\n",
       "      <td>2014</td>\n",
       "      <td>107380</td>\n",
       "      <td>Gasoline</td>\n",
       "      <td>Gray</td>\n",
       "      <td>False</td>\n",
       "      <td>26500</td>\n",
       "    </tr>\n",
       "    <tr>\n",
       "      <th>7</th>\n",
       "      <td>7</td>\n",
       "      <td>GMC</td>\n",
       "      <td>2019</td>\n",
       "      <td>51300</td>\n",
       "      <td>Gasoline</td>\n",
       "      <td>White</td>\n",
       "      <td>True</td>\n",
       "      <td>25500</td>\n",
       "    </tr>\n",
       "    <tr>\n",
       "      <th>8</th>\n",
       "      <td>8</td>\n",
       "      <td>Audi</td>\n",
       "      <td>2016</td>\n",
       "      <td>87842</td>\n",
       "      <td>Gasoline</td>\n",
       "      <td>Silver</td>\n",
       "      <td>False</td>\n",
       "      <td>13999</td>\n",
       "    </tr>\n",
       "    <tr>\n",
       "      <th>9</th>\n",
       "      <td>9</td>\n",
       "      <td>Acura</td>\n",
       "      <td>2007</td>\n",
       "      <td>152270</td>\n",
       "      <td>Gasoline</td>\n",
       "      <td>Gray</td>\n",
       "      <td>True</td>\n",
       "      <td>6700</td>\n",
       "    </tr>\n",
       "  </tbody>\n",
       "</table>\n",
       "</div>"
      ],
      "text/plain": [
       "   id    brand  model_year  milage fuel_type ext_col accident  price\n",
       "0   0     Ford        2018   74349  Gasoline    Blue    False  11000\n",
       "1   1      BMW        2007   80000  Gasoline   Black    False   8250\n",
       "2   2   Jaguar        2009   91491  Gasoline  Purple    False  15000\n",
       "3   3      BMW        2022    2437    Hybrid    Gray    False  63500\n",
       "4   4  Pontiac        2001  111000  Gasoline   White    False   7850\n",
       "5   5    Acura        2003  124756  Gasoline     Red     True   4995\n",
       "6   6     Audi        2014  107380  Gasoline    Gray    False  26500\n",
       "7   7      GMC        2019   51300  Gasoline   White     True  25500\n",
       "8   8     Audi        2016   87842  Gasoline  Silver    False  13999\n",
       "9   9    Acura        2007  152270  Gasoline    Gray     True   6700"
      ]
     },
     "execution_count": 19,
     "metadata": {},
     "output_type": "execute_result"
    }
   ],
   "source": [
    "# drop some useless columns\n",
    "drop_col = ['model', 'engine', 'transmission', 'int_col', 'clean_title']\n",
    "train_df2 = train_df2.drop(drop_col, axis=1)\n",
    "train_df2.head(10)"
   ]
  },
  {
   "cell_type": "code",
   "execution_count": 20,
   "id": "6830ab33",
   "metadata": {
    "_kg_hide-output": true,
    "execution": {
     "iopub.execute_input": "2024-06-06T16:34:04.827276Z",
     "iopub.status.busy": "2024-06-06T16:34:04.826283Z",
     "iopub.status.idle": "2024-06-06T16:34:04.847766Z",
     "shell.execute_reply": "2024-06-06T16:34:04.846569Z"
    },
    "papermill": {
     "duration": 0.0451,
     "end_time": "2024-06-06T16:34:04.850871",
     "exception": false,
     "start_time": "2024-06-06T16:34:04.805771",
     "status": "completed"
    },
    "tags": []
   },
   "outputs": [
    {
     "data": {
      "text/html": [
       "<div>\n",
       "<style scoped>\n",
       "    .dataframe tbody tr th:only-of-type {\n",
       "        vertical-align: middle;\n",
       "    }\n",
       "\n",
       "    .dataframe tbody tr th {\n",
       "        vertical-align: top;\n",
       "    }\n",
       "\n",
       "    .dataframe thead th {\n",
       "        text-align: right;\n",
       "    }\n",
       "</style>\n",
       "<table border=\"1\" class=\"dataframe\">\n",
       "  <thead>\n",
       "    <tr style=\"text-align: right;\">\n",
       "      <th></th>\n",
       "      <th>id</th>\n",
       "      <th>brand</th>\n",
       "      <th>model_year</th>\n",
       "      <th>milage</th>\n",
       "      <th>fuel_type</th>\n",
       "      <th>ext_col</th>\n",
       "      <th>accident</th>\n",
       "    </tr>\n",
       "  </thead>\n",
       "  <tbody>\n",
       "    <tr>\n",
       "      <th>0</th>\n",
       "      <td>54273</td>\n",
       "      <td>Mercedes-Benz</td>\n",
       "      <td>2014</td>\n",
       "      <td>73000</td>\n",
       "      <td>Gasoline</td>\n",
       "      <td>White</td>\n",
       "      <td>False</td>\n",
       "    </tr>\n",
       "    <tr>\n",
       "      <th>1</th>\n",
       "      <td>54274</td>\n",
       "      <td>Lexus</td>\n",
       "      <td>2015</td>\n",
       "      <td>128032</td>\n",
       "      <td>Gasoline</td>\n",
       "      <td>Silver</td>\n",
       "      <td>False</td>\n",
       "    </tr>\n",
       "    <tr>\n",
       "      <th>2</th>\n",
       "      <td>54275</td>\n",
       "      <td>Mercedes-Benz</td>\n",
       "      <td>2015</td>\n",
       "      <td>51983</td>\n",
       "      <td>Gasoline</td>\n",
       "      <td>Blue</td>\n",
       "      <td>False</td>\n",
       "    </tr>\n",
       "    <tr>\n",
       "      <th>3</th>\n",
       "      <td>54276</td>\n",
       "      <td>Land</td>\n",
       "      <td>2018</td>\n",
       "      <td>29500</td>\n",
       "      <td>Gasoline</td>\n",
       "      <td>White</td>\n",
       "      <td>True</td>\n",
       "    </tr>\n",
       "    <tr>\n",
       "      <th>4</th>\n",
       "      <td>54277</td>\n",
       "      <td>BMW</td>\n",
       "      <td>2020</td>\n",
       "      <td>90000</td>\n",
       "      <td>Gasoline</td>\n",
       "      <td>White</td>\n",
       "      <td>True</td>\n",
       "    </tr>\n",
       "    <tr>\n",
       "      <th>5</th>\n",
       "      <td>54278</td>\n",
       "      <td>Chevrolet</td>\n",
       "      <td>2018</td>\n",
       "      <td>2894</td>\n",
       "      <td>Gasoline</td>\n",
       "      <td>Silver</td>\n",
       "      <td>False</td>\n",
       "    </tr>\n",
       "    <tr>\n",
       "      <th>6</th>\n",
       "      <td>54279</td>\n",
       "      <td>Land</td>\n",
       "      <td>2019</td>\n",
       "      <td>41200</td>\n",
       "      <td>Gasoline</td>\n",
       "      <td>Silver</td>\n",
       "      <td>True</td>\n",
       "    </tr>\n",
       "    <tr>\n",
       "      <th>7</th>\n",
       "      <td>54280</td>\n",
       "      <td>Land</td>\n",
       "      <td>2019</td>\n",
       "      <td>58000</td>\n",
       "      <td>Gasoline</td>\n",
       "      <td>White</td>\n",
       "      <td>True</td>\n",
       "    </tr>\n",
       "    <tr>\n",
       "      <th>8</th>\n",
       "      <td>54281</td>\n",
       "      <td>Dodge</td>\n",
       "      <td>2013</td>\n",
       "      <td>124705</td>\n",
       "      <td>Gasoline</td>\n",
       "      <td>Red</td>\n",
       "      <td>True</td>\n",
       "    </tr>\n",
       "    <tr>\n",
       "      <th>9</th>\n",
       "      <td>54282</td>\n",
       "      <td>Audi</td>\n",
       "      <td>2022</td>\n",
       "      <td>29850</td>\n",
       "      <td>Gasoline</td>\n",
       "      <td>Black</td>\n",
       "      <td>False</td>\n",
       "    </tr>\n",
       "  </tbody>\n",
       "</table>\n",
       "</div>"
      ],
      "text/plain": [
       "      id          brand  model_year  milage fuel_type ext_col accident\n",
       "0  54273  Mercedes-Benz        2014   73000  Gasoline   White    False\n",
       "1  54274          Lexus        2015  128032  Gasoline  Silver    False\n",
       "2  54275  Mercedes-Benz        2015   51983  Gasoline    Blue    False\n",
       "3  54276           Land        2018   29500  Gasoline   White     True\n",
       "4  54277            BMW        2020   90000  Gasoline   White     True\n",
       "5  54278      Chevrolet        2018    2894  Gasoline  Silver    False\n",
       "6  54279           Land        2019   41200  Gasoline  Silver     True\n",
       "7  54280           Land        2019   58000  Gasoline   White     True\n",
       "8  54281          Dodge        2013  124705  Gasoline     Red     True\n",
       "9  54282           Audi        2022   29850  Gasoline   Black    False"
      ]
     },
     "execution_count": 20,
     "metadata": {},
     "output_type": "execute_result"
    }
   ],
   "source": [
    "test_df2 = test_df2.drop(drop_col, axis=1)\n",
    "test_df2.head(10)"
   ]
  },
  {
   "cell_type": "markdown",
   "id": "c67df1c2",
   "metadata": {
    "papermill": {
     "duration": 0.019107,
     "end_time": "2024-06-06T16:34:04.889159",
     "exception": false,
     "start_time": "2024-06-06T16:34:04.870052",
     "status": "completed"
    },
    "tags": []
   },
   "source": [
    "### 2.2.3 ~One-hot~ Encoding the categorical data\n",
    "there is actually quite an amount of color type (12) and even more brand... we need to do other types of encoding:\n",
    "\n",
    "* label encoding: using unique integer value to encode (can introduce unwanted relationship)\n",
    "* frequent/ infrequent encoding: we can group the infrequent categories into single cat to prevent high cardinality, lets look into this first\n",
    "\n",
    "as for fuel_type, we will perform one-hot encoding since there is only 3 unique values"
   ]
  },
  {
   "cell_type": "code",
   "execution_count": 21,
   "id": "8159183b",
   "metadata": {
    "execution": {
     "iopub.execute_input": "2024-06-06T16:34:04.930103Z",
     "iopub.status.busy": "2024-06-06T16:34:04.929623Z",
     "iopub.status.idle": "2024-06-06T16:34:04.963083Z",
     "shell.execute_reply": "2024-06-06T16:34:04.961821Z"
    },
    "papermill": {
     "duration": 0.057448,
     "end_time": "2024-06-06T16:34:04.966073",
     "exception": false,
     "start_time": "2024-06-06T16:34:04.908625",
     "status": "completed"
    },
    "scrolled": true,
    "tags": []
   },
   "outputs": [
    {
     "name": "stdout",
     "output_type": "stream",
     "text": [
      "brand\n",
      "BMW              7367\n",
      "Ford             6664\n",
      "Mercedes-Benz    5074\n",
      "Chevrolet        4395\n",
      "Audi             2916\n",
      "Porsche          2602\n",
      "Toyota           2298\n",
      "Lexus            2257\n",
      "Jeep             2237\n",
      "Land             1993\n",
      "Cadillac         1552\n",
      "Nissan           1229\n",
      "GMC              1074\n",
      "RAM               966\n",
      "INFINITI          957\n",
      "Dodge             952\n",
      "Lincoln           766\n",
      "Subaru            738\n",
      "Mazda             723\n",
      "Hyundai           694\n",
      "Jaguar            654\n",
      "Volkswagen        628\n",
      "Honda             615\n",
      "Acura             575\n",
      "Kia               526\n",
      "Volvo             445\n",
      "MINI              363\n",
      "Maserati          293\n",
      "Bentley           269\n",
      "Genesis           249\n",
      "Chrysler          248\n",
      "Buick             228\n",
      "Mitsubishi        182\n",
      "Hummer            176\n",
      "Pontiac           149\n",
      "Alfa              144\n",
      "Rolls-Royce       124\n",
      "Lamborghini       114\n",
      "Tesla             110\n",
      "Ferrari            86\n",
      "Saturn             58\n",
      "Scion              53\n",
      "Aston              49\n",
      "McLaren            43\n",
      "Rivian             27\n",
      "FIAT               16\n",
      "Lotus              12\n",
      "Mercury            12\n",
      "Suzuki              4\n",
      "Maybach             3\n",
      "Lucid               2\n",
      "Plymouth            1\n",
      "Bugatti             1\n",
      "Name: count, dtype: int64\n",
      "ext_col\n",
      "Black     15678\n",
      "White     13995\n",
      "Gray       7902\n",
      "Silver     5569\n",
      "Blue       4761\n",
      "Red        3176\n",
      "Yellow      789\n",
      "Green       765\n",
      "Beige       457\n",
      "Brown       396\n",
      "Orange      335\n",
      "Purple       90\n",
      "Name: count, dtype: int64\n"
     ]
    }
   ],
   "source": [
    "# see the unique value counts of the high cardinality columns\n",
    "print(train_df2['brand'].value_counts())\n",
    "print(train_df2['ext_col'].value_counts())"
   ]
  },
  {
   "cell_type": "markdown",
   "id": "17390e7a",
   "metadata": {
    "papermill": {
     "duration": 0.019027,
     "end_time": "2024-06-06T16:34:05.004774",
     "exception": false,
     "start_time": "2024-06-06T16:34:04.985747",
     "status": "completed"
    },
    "tags": []
   },
   "source": [
    "seeing how many relatively rare values there are, we can suggest:\n",
    "\n",
    "* Grouping brand of less than 500 to 'Others', reducing 53 to 26\n",
    "* Grouping ext_col of less than 1000 to 'Other\", reducing 12 to 7"
   ]
  },
  {
   "cell_type": "code",
   "execution_count": 22,
   "id": "b0d09d7e",
   "metadata": {
    "execution": {
     "iopub.execute_input": "2024-06-06T16:34:05.045863Z",
     "iopub.status.busy": "2024-06-06T16:34:05.045338Z",
     "iopub.status.idle": "2024-06-06T16:34:05.298486Z",
     "shell.execute_reply": "2024-06-06T16:34:05.297267Z"
    },
    "papermill": {
     "duration": 0.277336,
     "end_time": "2024-06-06T16:34:05.301529",
     "exception": false,
     "start_time": "2024-06-06T16:34:05.024193",
     "status": "completed"
    },
    "tags": []
   },
   "outputs": [],
   "source": [
    "other_color = ['Yellow', 'Green', 'Beige', 'Brown', 'Orange', 'Purple']\n",
    "other_brand = ['Volvo', 'MINI', 'Maserati', 'Bentley', 'Genesis', 'Chrysler', 'Buick', 'Mitsubishi', 'Hummer', 'Pontiac', 'Alfa', \n",
    "               'Rolls-Royce', 'Lamborghini', 'Tesla', 'Ferrari', 'Saturn', 'Scion', 'Aston', 'McLaren', 'Rivian', 'FIAT',\n",
    "               'Lotus', 'Mercury', 'Suzuki', 'Maybach', 'Lucid', 'Plymouth', 'Bugatti', 'Saab', 'smart']\n",
    "\n",
    "# Using replace function to group edge cases of brand & ext_col\n",
    "train_df3 = train_df2.copy()\n",
    "train_df3['ext_col'] = train_df3['ext_col'].replace(other_color, 'other')\n",
    "train_df3['brand'] = train_df3['brand'].replace(other_brand, 'other')\n",
    "\n",
    "test_df3 = test_df2.copy()\n",
    "test_df3['ext_col'] = test_df3['ext_col'].replace(other_color, 'other')\n",
    "test_df3['brand'] = test_df3['brand'].replace(other_brand, 'other')"
   ]
  },
  {
   "cell_type": "code",
   "execution_count": 23,
   "id": "d879dde1",
   "metadata": {
    "execution": {
     "iopub.execute_input": "2024-06-06T16:34:05.343586Z",
     "iopub.status.busy": "2024-06-06T16:34:05.342412Z",
     "iopub.status.idle": "2024-06-06T16:34:05.370509Z",
     "shell.execute_reply": "2024-06-06T16:34:05.369308Z"
    },
    "papermill": {
     "duration": 0.052597,
     "end_time": "2024-06-06T16:34:05.373881",
     "exception": false,
     "start_time": "2024-06-06T16:34:05.321284",
     "status": "completed"
    },
    "scrolled": true,
    "tags": []
   },
   "outputs": [
    {
     "name": "stdout",
     "output_type": "stream",
     "text": [
      "brand\n",
      "BMW              7367\n",
      "Ford             6664\n",
      "Mercedes-Benz    5074\n",
      "Chevrolet        4395\n",
      "other            3461\n",
      "Audi             2916\n",
      "Porsche          2602\n",
      "Toyota           2298\n",
      "Lexus            2257\n",
      "Jeep             2237\n",
      "Land             1993\n",
      "Cadillac         1552\n",
      "Nissan           1229\n",
      "GMC              1074\n",
      "RAM               966\n",
      "INFINITI          957\n",
      "Dodge             952\n",
      "Lincoln           766\n",
      "Subaru            738\n",
      "Mazda             723\n",
      "Hyundai           694\n",
      "Jaguar            654\n",
      "Volkswagen        628\n",
      "Honda             615\n",
      "Acura             575\n",
      "Kia               526\n",
      "Name: count, dtype: int64\n",
      "ext_col\n",
      "Black     15678\n",
      "White     13995\n",
      "Gray       7902\n",
      "Silver     5569\n",
      "Blue       4761\n",
      "Red        3176\n",
      "other      2832\n",
      "Name: count, dtype: int64\n"
     ]
    }
   ],
   "source": [
    "print(train_df3['brand'].value_counts())\n",
    "print(train_df3['ext_col'].value_counts())"
   ]
  },
  {
   "cell_type": "code",
   "execution_count": 24,
   "id": "88aeaa2a",
   "metadata": {
    "execution": {
     "iopub.execute_input": "2024-06-06T16:34:05.414912Z",
     "iopub.status.busy": "2024-06-06T16:34:05.414404Z",
     "iopub.status.idle": "2024-06-06T16:34:05.437704Z",
     "shell.execute_reply": "2024-06-06T16:34:05.436520Z"
    },
    "papermill": {
     "duration": 0.046959,
     "end_time": "2024-06-06T16:34:05.440253",
     "exception": false,
     "start_time": "2024-06-06T16:34:05.393294",
     "status": "completed"
    },
    "tags": []
   },
   "outputs": [
    {
     "name": "stdout",
     "output_type": "stream",
     "text": [
      "brand\n",
      "BMW              4854\n",
      "Ford             4362\n",
      "Mercedes-Benz    3257\n",
      "Chevrolet        2973\n",
      "other            2320\n",
      "Audi             1916\n",
      "Porsche          1792\n",
      "Toyota           1562\n",
      "Lexus            1530\n",
      "Jeep             1502\n",
      "Land             1360\n",
      "Cadillac         1050\n",
      "Nissan            908\n",
      "GMC               746\n",
      "INFINITI          666\n",
      "Dodge             655\n",
      "RAM               606\n",
      "Mazda             512\n",
      "Lincoln           496\n",
      "Subaru            492\n",
      "Jaguar            446\n",
      "Hyundai           436\n",
      "Honda             401\n",
      "Acura             379\n",
      "Volkswagen        376\n",
      "Kia               347\n",
      "Name: count, dtype: int64\n",
      "ext_col\n",
      "Black     10397\n",
      "White      9189\n",
      "Gray       5377\n",
      "Silver     3710\n",
      "Blue       3221\n",
      "Red        2155\n",
      "other      1895\n",
      "Name: count, dtype: int64\n"
     ]
    }
   ],
   "source": [
    "print(test_df3['brand'].value_counts())\n",
    "print(test_df3['ext_col'].value_counts())"
   ]
  },
  {
   "cell_type": "code",
   "execution_count": 25,
   "id": "c8d45b98",
   "metadata": {
    "execution": {
     "iopub.execute_input": "2024-06-06T16:34:05.482539Z",
     "iopub.status.busy": "2024-06-06T16:34:05.481314Z",
     "iopub.status.idle": "2024-06-06T16:34:05.553610Z",
     "shell.execute_reply": "2024-06-06T16:34:05.552335Z"
    },
    "papermill": {
     "duration": 0.096472,
     "end_time": "2024-06-06T16:34:05.556592",
     "exception": false,
     "start_time": "2024-06-06T16:34:05.460120",
     "status": "completed"
    },
    "tags": []
   },
   "outputs": [
    {
     "data": {
      "text/html": [
       "<div>\n",
       "<style scoped>\n",
       "    .dataframe tbody tr th:only-of-type {\n",
       "        vertical-align: middle;\n",
       "    }\n",
       "\n",
       "    .dataframe tbody tr th {\n",
       "        vertical-align: top;\n",
       "    }\n",
       "\n",
       "    .dataframe thead th {\n",
       "        text-align: right;\n",
       "    }\n",
       "</style>\n",
       "<table border=\"1\" class=\"dataframe\">\n",
       "  <thead>\n",
       "    <tr style=\"text-align: right;\">\n",
       "      <th></th>\n",
       "      <th>id</th>\n",
       "      <th>brand</th>\n",
       "      <th>model_year</th>\n",
       "      <th>milage</th>\n",
       "      <th>ext_col</th>\n",
       "      <th>accident</th>\n",
       "      <th>price</th>\n",
       "      <th>ext_col_encoded</th>\n",
       "      <th>brand_encoded</th>\n",
       "      <th>fuel_type_Diesel</th>\n",
       "      <th>fuel_type_Gasoline</th>\n",
       "      <th>fuel_type_Hybrid</th>\n",
       "    </tr>\n",
       "  </thead>\n",
       "  <tbody>\n",
       "    <tr>\n",
       "      <th>0</th>\n",
       "      <td>0</td>\n",
       "      <td>Ford</td>\n",
       "      <td>2018</td>\n",
       "      <td>74349</td>\n",
       "      <td>Blue</td>\n",
       "      <td>False</td>\n",
       "      <td>11000</td>\n",
       "      <td>4</td>\n",
       "      <td>1</td>\n",
       "      <td>False</td>\n",
       "      <td>True</td>\n",
       "      <td>False</td>\n",
       "    </tr>\n",
       "    <tr>\n",
       "      <th>1</th>\n",
       "      <td>1</td>\n",
       "      <td>BMW</td>\n",
       "      <td>2007</td>\n",
       "      <td>80000</td>\n",
       "      <td>Black</td>\n",
       "      <td>False</td>\n",
       "      <td>8250</td>\n",
       "      <td>0</td>\n",
       "      <td>0</td>\n",
       "      <td>False</td>\n",
       "      <td>True</td>\n",
       "      <td>False</td>\n",
       "    </tr>\n",
       "    <tr>\n",
       "      <th>2</th>\n",
       "      <td>2</td>\n",
       "      <td>Jaguar</td>\n",
       "      <td>2009</td>\n",
       "      <td>91491</td>\n",
       "      <td>other</td>\n",
       "      <td>False</td>\n",
       "      <td>15000</td>\n",
       "      <td>6</td>\n",
       "      <td>19</td>\n",
       "      <td>False</td>\n",
       "      <td>True</td>\n",
       "      <td>False</td>\n",
       "    </tr>\n",
       "    <tr>\n",
       "      <th>3</th>\n",
       "      <td>3</td>\n",
       "      <td>BMW</td>\n",
       "      <td>2022</td>\n",
       "      <td>2437</td>\n",
       "      <td>Gray</td>\n",
       "      <td>False</td>\n",
       "      <td>63500</td>\n",
       "      <td>2</td>\n",
       "      <td>0</td>\n",
       "      <td>False</td>\n",
       "      <td>False</td>\n",
       "      <td>True</td>\n",
       "    </tr>\n",
       "    <tr>\n",
       "      <th>4</th>\n",
       "      <td>4</td>\n",
       "      <td>other</td>\n",
       "      <td>2001</td>\n",
       "      <td>111000</td>\n",
       "      <td>White</td>\n",
       "      <td>False</td>\n",
       "      <td>7850</td>\n",
       "      <td>1</td>\n",
       "      <td>25</td>\n",
       "      <td>False</td>\n",
       "      <td>True</td>\n",
       "      <td>False</td>\n",
       "    </tr>\n",
       "  </tbody>\n",
       "</table>\n",
       "</div>"
      ],
      "text/plain": [
       "   id   brand  model_year  milage ext_col accident  price  ext_col_encoded  \\\n",
       "0   0    Ford        2018   74349    Blue    False  11000                4   \n",
       "1   1     BMW        2007   80000   Black    False   8250                0   \n",
       "2   2  Jaguar        2009   91491   other    False  15000                6   \n",
       "3   3     BMW        2022    2437    Gray    False  63500                2   \n",
       "4   4   other        2001  111000   White    False   7850                1   \n",
       "\n",
       "   brand_encoded  fuel_type_Diesel  fuel_type_Gasoline  fuel_type_Hybrid  \n",
       "0              1             False                True             False  \n",
       "1              0             False                True             False  \n",
       "2             19             False                True             False  \n",
       "3              0             False               False              True  \n",
       "4             25             False                True             False  "
      ]
     },
     "execution_count": 25,
     "metadata": {},
     "output_type": "execute_result"
    }
   ],
   "source": [
    "# Define your own encoding dictionary\n",
    "ext_col_encoding = {\n",
    "    'Black': 0,\n",
    "    'White': 1,\n",
    "    'Gray': 2,\n",
    "    'Silver': 3,\n",
    "    'Blue': 4,\n",
    "    'Red': 5,\n",
    "    'other': 6    \n",
    "}\n",
    "\n",
    "brand_encoding = {\n",
    "    'BMW': 0, \n",
    "    'Ford': 1,\n",
    "    'Mercedes-Benz': 2,\n",
    "    'Chevrolet': 3,\n",
    "    'Audi': 4,\n",
    "    'Porsche': 5,\n",
    "    'Toyota': 6,\n",
    "    'Lexus': 7,  \n",
    "    'Jeep': 8,  \n",
    "    'Land': 9,  \n",
    "    'Cadillac': 10,  \n",
    "    'Nissan': 11,  \n",
    "    'GMC': 12,  \n",
    "    'INFINITI': 13,  \n",
    "    'Dodge': 14,  \n",
    "    'RAM': 15,  \n",
    "    'Mazda': 16,  \n",
    "    'Lincoln': 17,  \n",
    "    'Subaru': 18,  \n",
    "    'Jaguar': 19,  \n",
    "    'Hyundai': 20,  \n",
    "    'Honda': 21,  \n",
    "    'Acura': 22,  \n",
    "    'Volkswagen': 23,  \n",
    "    'Kia': 24,  \n",
    "    'other': 25\n",
    "}\n",
    "\n",
    "\n",
    "# Encode the 'ext_col' column using the predefined dictionary\n",
    "train_df3['ext_col_encoded'] = train_df3['ext_col'].map(ext_col_encoding)\n",
    "train_df3['brand_encoded'] = train_df3['brand'].map(brand_encoding)\n",
    "\n",
    "# One-hot encode fuel_type\n",
    "train_df3 = pd.get_dummies(train_df3, columns=['fuel_type'])\n",
    "\n",
    "train_df3.head()"
   ]
  },
  {
   "cell_type": "code",
   "execution_count": 26,
   "id": "d4ba90b4",
   "metadata": {
    "execution": {
     "iopub.execute_input": "2024-06-06T16:34:05.599767Z",
     "iopub.status.busy": "2024-06-06T16:34:05.598616Z",
     "iopub.status.idle": "2024-06-06T16:34:05.644768Z",
     "shell.execute_reply": "2024-06-06T16:34:05.643563Z"
    },
    "papermill": {
     "duration": 0.070917,
     "end_time": "2024-06-06T16:34:05.647730",
     "exception": false,
     "start_time": "2024-06-06T16:34:05.576813",
     "status": "completed"
    },
    "tags": []
   },
   "outputs": [
    {
     "data": {
      "text/html": [
       "<div>\n",
       "<style scoped>\n",
       "    .dataframe tbody tr th:only-of-type {\n",
       "        vertical-align: middle;\n",
       "    }\n",
       "\n",
       "    .dataframe tbody tr th {\n",
       "        vertical-align: top;\n",
       "    }\n",
       "\n",
       "    .dataframe thead th {\n",
       "        text-align: right;\n",
       "    }\n",
       "</style>\n",
       "<table border=\"1\" class=\"dataframe\">\n",
       "  <thead>\n",
       "    <tr style=\"text-align: right;\">\n",
       "      <th></th>\n",
       "      <th>id</th>\n",
       "      <th>brand</th>\n",
       "      <th>model_year</th>\n",
       "      <th>milage</th>\n",
       "      <th>ext_col</th>\n",
       "      <th>accident</th>\n",
       "      <th>ext_col_encoded</th>\n",
       "      <th>brand_encoded</th>\n",
       "      <th>fuel_type_Diesel</th>\n",
       "      <th>fuel_type_Gasoline</th>\n",
       "      <th>fuel_type_Hybrid</th>\n",
       "    </tr>\n",
       "  </thead>\n",
       "  <tbody>\n",
       "    <tr>\n",
       "      <th>0</th>\n",
       "      <td>54273</td>\n",
       "      <td>Mercedes-Benz</td>\n",
       "      <td>2014</td>\n",
       "      <td>73000</td>\n",
       "      <td>White</td>\n",
       "      <td>False</td>\n",
       "      <td>1</td>\n",
       "      <td>2</td>\n",
       "      <td>False</td>\n",
       "      <td>True</td>\n",
       "      <td>False</td>\n",
       "    </tr>\n",
       "    <tr>\n",
       "      <th>1</th>\n",
       "      <td>54274</td>\n",
       "      <td>Lexus</td>\n",
       "      <td>2015</td>\n",
       "      <td>128032</td>\n",
       "      <td>Silver</td>\n",
       "      <td>False</td>\n",
       "      <td>3</td>\n",
       "      <td>7</td>\n",
       "      <td>False</td>\n",
       "      <td>True</td>\n",
       "      <td>False</td>\n",
       "    </tr>\n",
       "    <tr>\n",
       "      <th>2</th>\n",
       "      <td>54275</td>\n",
       "      <td>Mercedes-Benz</td>\n",
       "      <td>2015</td>\n",
       "      <td>51983</td>\n",
       "      <td>Blue</td>\n",
       "      <td>False</td>\n",
       "      <td>4</td>\n",
       "      <td>2</td>\n",
       "      <td>False</td>\n",
       "      <td>True</td>\n",
       "      <td>False</td>\n",
       "    </tr>\n",
       "    <tr>\n",
       "      <th>3</th>\n",
       "      <td>54276</td>\n",
       "      <td>Land</td>\n",
       "      <td>2018</td>\n",
       "      <td>29500</td>\n",
       "      <td>White</td>\n",
       "      <td>True</td>\n",
       "      <td>1</td>\n",
       "      <td>9</td>\n",
       "      <td>False</td>\n",
       "      <td>True</td>\n",
       "      <td>False</td>\n",
       "    </tr>\n",
       "    <tr>\n",
       "      <th>4</th>\n",
       "      <td>54277</td>\n",
       "      <td>BMW</td>\n",
       "      <td>2020</td>\n",
       "      <td>90000</td>\n",
       "      <td>White</td>\n",
       "      <td>True</td>\n",
       "      <td>1</td>\n",
       "      <td>0</td>\n",
       "      <td>False</td>\n",
       "      <td>True</td>\n",
       "      <td>False</td>\n",
       "    </tr>\n",
       "  </tbody>\n",
       "</table>\n",
       "</div>"
      ],
      "text/plain": [
       "      id          brand  model_year  milage ext_col accident  ext_col_encoded  \\\n",
       "0  54273  Mercedes-Benz        2014   73000   White    False                1   \n",
       "1  54274          Lexus        2015  128032  Silver    False                3   \n",
       "2  54275  Mercedes-Benz        2015   51983    Blue    False                4   \n",
       "3  54276           Land        2018   29500   White     True                1   \n",
       "4  54277            BMW        2020   90000   White     True                1   \n",
       "\n",
       "   brand_encoded  fuel_type_Diesel  fuel_type_Gasoline  fuel_type_Hybrid  \n",
       "0              2             False                True             False  \n",
       "1              7             False                True             False  \n",
       "2              2             False                True             False  \n",
       "3              9             False                True             False  \n",
       "4              0             False                True             False  "
      ]
     },
     "execution_count": 26,
     "metadata": {},
     "output_type": "execute_result"
    }
   ],
   "source": [
    "# Encode the 'ext_col' column using the predefined dictionary\n",
    "test_df3['ext_col_encoded'] = test_df3['ext_col'].map(ext_col_encoding)\n",
    "test_df3['brand_encoded'] = test_df3['brand'].map(brand_encoding)\n",
    "\n",
    "# One-hot encode fuel_type\n",
    "test_df3 = pd.get_dummies(test_df3, columns=['fuel_type'])\n",
    "\n",
    "test_df3.head()"
   ]
  },
  {
   "cell_type": "markdown",
   "id": "d6d21453",
   "metadata": {
    "papermill": {
     "duration": 0.020131,
     "end_time": "2024-06-06T16:34:05.688234",
     "exception": false,
     "start_time": "2024-06-06T16:34:05.668103",
     "status": "completed"
    },
    "tags": []
   },
   "source": [
    "### 2.2.4 Make a new dataframe for the preprocessed data"
   ]
  },
  {
   "cell_type": "code",
   "execution_count": 27,
   "id": "665b45d7",
   "metadata": {
    "execution": {
     "iopub.execute_input": "2024-06-06T16:34:05.732173Z",
     "iopub.status.busy": "2024-06-06T16:34:05.731720Z",
     "iopub.status.idle": "2024-06-06T16:34:05.753549Z",
     "shell.execute_reply": "2024-06-06T16:34:05.752161Z"
    },
    "papermill": {
     "duration": 0.04738,
     "end_time": "2024-06-06T16:34:05.756099",
     "exception": false,
     "start_time": "2024-06-06T16:34:05.708719",
     "status": "completed"
    },
    "tags": []
   },
   "outputs": [
    {
     "data": {
      "text/html": [
       "<div>\n",
       "<style scoped>\n",
       "    .dataframe tbody tr th:only-of-type {\n",
       "        vertical-align: middle;\n",
       "    }\n",
       "\n",
       "    .dataframe tbody tr th {\n",
       "        vertical-align: top;\n",
       "    }\n",
       "\n",
       "    .dataframe thead th {\n",
       "        text-align: right;\n",
       "    }\n",
       "</style>\n",
       "<table border=\"1\" class=\"dataframe\">\n",
       "  <thead>\n",
       "    <tr style=\"text-align: right;\">\n",
       "      <th></th>\n",
       "      <th>id</th>\n",
       "      <th>model_year</th>\n",
       "      <th>milage</th>\n",
       "      <th>fuel_type_Diesel</th>\n",
       "      <th>fuel_type_Gasoline</th>\n",
       "      <th>fuel_type_Hybrid</th>\n",
       "      <th>accident</th>\n",
       "      <th>brand_encoded</th>\n",
       "      <th>ext_col_encoded</th>\n",
       "      <th>price</th>\n",
       "    </tr>\n",
       "  </thead>\n",
       "  <tbody>\n",
       "    <tr>\n",
       "      <th>0</th>\n",
       "      <td>0</td>\n",
       "      <td>2018</td>\n",
       "      <td>74349</td>\n",
       "      <td>False</td>\n",
       "      <td>True</td>\n",
       "      <td>False</td>\n",
       "      <td>False</td>\n",
       "      <td>1</td>\n",
       "      <td>4</td>\n",
       "      <td>11000</td>\n",
       "    </tr>\n",
       "    <tr>\n",
       "      <th>1</th>\n",
       "      <td>1</td>\n",
       "      <td>2007</td>\n",
       "      <td>80000</td>\n",
       "      <td>False</td>\n",
       "      <td>True</td>\n",
       "      <td>False</td>\n",
       "      <td>False</td>\n",
       "      <td>0</td>\n",
       "      <td>0</td>\n",
       "      <td>8250</td>\n",
       "    </tr>\n",
       "    <tr>\n",
       "      <th>2</th>\n",
       "      <td>2</td>\n",
       "      <td>2009</td>\n",
       "      <td>91491</td>\n",
       "      <td>False</td>\n",
       "      <td>True</td>\n",
       "      <td>False</td>\n",
       "      <td>False</td>\n",
       "      <td>19</td>\n",
       "      <td>6</td>\n",
       "      <td>15000</td>\n",
       "    </tr>\n",
       "    <tr>\n",
       "      <th>3</th>\n",
       "      <td>3</td>\n",
       "      <td>2022</td>\n",
       "      <td>2437</td>\n",
       "      <td>False</td>\n",
       "      <td>False</td>\n",
       "      <td>True</td>\n",
       "      <td>False</td>\n",
       "      <td>0</td>\n",
       "      <td>2</td>\n",
       "      <td>63500</td>\n",
       "    </tr>\n",
       "    <tr>\n",
       "      <th>4</th>\n",
       "      <td>4</td>\n",
       "      <td>2001</td>\n",
       "      <td>111000</td>\n",
       "      <td>False</td>\n",
       "      <td>True</td>\n",
       "      <td>False</td>\n",
       "      <td>False</td>\n",
       "      <td>25</td>\n",
       "      <td>1</td>\n",
       "      <td>7850</td>\n",
       "    </tr>\n",
       "  </tbody>\n",
       "</table>\n",
       "</div>"
      ],
      "text/plain": [
       "   id  model_year  milage  fuel_type_Diesel  fuel_type_Gasoline  \\\n",
       "0   0        2018   74349             False                True   \n",
       "1   1        2007   80000             False                True   \n",
       "2   2        2009   91491             False                True   \n",
       "3   3        2022    2437             False               False   \n",
       "4   4        2001  111000             False                True   \n",
       "\n",
       "   fuel_type_Hybrid accident  brand_encoded  ext_col_encoded  price  \n",
       "0             False    False              1                4  11000  \n",
       "1             False    False              0                0   8250  \n",
       "2             False    False             19                6  15000  \n",
       "3              True    False              0                2  63500  \n",
       "4             False    False             25                1   7850  "
      ]
     },
     "execution_count": 27,
     "metadata": {},
     "output_type": "execute_result"
    }
   ],
   "source": [
    "frain_df = train_df3[['id', 'model_year', 'milage', 'fuel_type_Diesel', 'fuel_type_Gasoline', 'fuel_type_Hybrid', 'accident', 'brand_encoded', \n",
    "                      'ext_col_encoded', 'price']].copy()\n",
    "frain_df.head()"
   ]
  },
  {
   "cell_type": "code",
   "execution_count": 28,
   "id": "4052dbf1",
   "metadata": {
    "execution": {
     "iopub.execute_input": "2024-06-06T16:34:05.800684Z",
     "iopub.status.busy": "2024-06-06T16:34:05.800175Z",
     "iopub.status.idle": "2024-06-06T16:34:05.819932Z",
     "shell.execute_reply": "2024-06-06T16:34:05.818758Z"
    },
    "papermill": {
     "duration": 0.045712,
     "end_time": "2024-06-06T16:34:05.822689",
     "exception": false,
     "start_time": "2024-06-06T16:34:05.776977",
     "status": "completed"
    },
    "tags": []
   },
   "outputs": [
    {
     "data": {
      "text/html": [
       "<div>\n",
       "<style scoped>\n",
       "    .dataframe tbody tr th:only-of-type {\n",
       "        vertical-align: middle;\n",
       "    }\n",
       "\n",
       "    .dataframe tbody tr th {\n",
       "        vertical-align: top;\n",
       "    }\n",
       "\n",
       "    .dataframe thead th {\n",
       "        text-align: right;\n",
       "    }\n",
       "</style>\n",
       "<table border=\"1\" class=\"dataframe\">\n",
       "  <thead>\n",
       "    <tr style=\"text-align: right;\">\n",
       "      <th></th>\n",
       "      <th>id</th>\n",
       "      <th>model_year</th>\n",
       "      <th>milage</th>\n",
       "      <th>fuel_type_Diesel</th>\n",
       "      <th>fuel_type_Gasoline</th>\n",
       "      <th>fuel_type_Hybrid</th>\n",
       "      <th>accident</th>\n",
       "      <th>brand_encoded</th>\n",
       "      <th>ext_col_encoded</th>\n",
       "    </tr>\n",
       "  </thead>\n",
       "  <tbody>\n",
       "    <tr>\n",
       "      <th>0</th>\n",
       "      <td>54273</td>\n",
       "      <td>2014</td>\n",
       "      <td>73000</td>\n",
       "      <td>False</td>\n",
       "      <td>True</td>\n",
       "      <td>False</td>\n",
       "      <td>False</td>\n",
       "      <td>2</td>\n",
       "      <td>1</td>\n",
       "    </tr>\n",
       "    <tr>\n",
       "      <th>1</th>\n",
       "      <td>54274</td>\n",
       "      <td>2015</td>\n",
       "      <td>128032</td>\n",
       "      <td>False</td>\n",
       "      <td>True</td>\n",
       "      <td>False</td>\n",
       "      <td>False</td>\n",
       "      <td>7</td>\n",
       "      <td>3</td>\n",
       "    </tr>\n",
       "    <tr>\n",
       "      <th>2</th>\n",
       "      <td>54275</td>\n",
       "      <td>2015</td>\n",
       "      <td>51983</td>\n",
       "      <td>False</td>\n",
       "      <td>True</td>\n",
       "      <td>False</td>\n",
       "      <td>False</td>\n",
       "      <td>2</td>\n",
       "      <td>4</td>\n",
       "    </tr>\n",
       "    <tr>\n",
       "      <th>3</th>\n",
       "      <td>54276</td>\n",
       "      <td>2018</td>\n",
       "      <td>29500</td>\n",
       "      <td>False</td>\n",
       "      <td>True</td>\n",
       "      <td>False</td>\n",
       "      <td>True</td>\n",
       "      <td>9</td>\n",
       "      <td>1</td>\n",
       "    </tr>\n",
       "    <tr>\n",
       "      <th>4</th>\n",
       "      <td>54277</td>\n",
       "      <td>2020</td>\n",
       "      <td>90000</td>\n",
       "      <td>False</td>\n",
       "      <td>True</td>\n",
       "      <td>False</td>\n",
       "      <td>True</td>\n",
       "      <td>0</td>\n",
       "      <td>1</td>\n",
       "    </tr>\n",
       "  </tbody>\n",
       "</table>\n",
       "</div>"
      ],
      "text/plain": [
       "      id  model_year  milage  fuel_type_Diesel  fuel_type_Gasoline  \\\n",
       "0  54273        2014   73000             False                True   \n",
       "1  54274        2015  128032             False                True   \n",
       "2  54275        2015   51983             False                True   \n",
       "3  54276        2018   29500             False                True   \n",
       "4  54277        2020   90000             False                True   \n",
       "\n",
       "   fuel_type_Hybrid accident  brand_encoded  ext_col_encoded  \n",
       "0             False    False              2                1  \n",
       "1             False    False              7                3  \n",
       "2             False    False              2                4  \n",
       "3             False     True              9                1  \n",
       "4             False     True              0                1  "
      ]
     },
     "execution_count": 28,
     "metadata": {},
     "output_type": "execute_result"
    }
   ],
   "source": [
    "fest_df = test_df3[['id', 'model_year', 'milage', 'fuel_type_Diesel', 'fuel_type_Gasoline', 'fuel_type_Hybrid', \n",
    "                    'accident', 'brand_encoded', 'ext_col_encoded']].copy()\n",
    "fest_df.head()"
   ]
  },
  {
   "cell_type": "markdown",
   "id": "e4be1aad",
   "metadata": {
    "papermill": {
     "duration": 0.020712,
     "end_time": "2024-06-06T16:34:05.864924",
     "exception": false,
     "start_time": "2024-06-06T16:34:05.844212",
     "status": "completed"
    },
    "tags": []
   },
   "source": [
    "## 2.3 Train-test split\n",
    "We will split the training data to training set and validation set, and keep the test data as test set."
   ]
  },
  {
   "cell_type": "code",
   "execution_count": 29,
   "id": "c88e6fb4",
   "metadata": {
    "execution": {
     "iopub.execute_input": "2024-06-06T16:34:05.909449Z",
     "iopub.status.busy": "2024-06-06T16:34:05.908997Z",
     "iopub.status.idle": "2024-06-06T16:34:07.307735Z",
     "shell.execute_reply": "2024-06-06T16:34:07.306554Z"
    },
    "papermill": {
     "duration": 1.424887,
     "end_time": "2024-06-06T16:34:07.310665",
     "exception": false,
     "start_time": "2024-06-06T16:34:05.885778",
     "status": "completed"
    },
    "tags": []
   },
   "outputs": [
    {
     "name": "stdout",
     "output_type": "stream",
     "text": [
      "X_train shape:  (43130, 8)\n",
      "X_test shape:  (10783, 8)\n",
      "y_train shape:  (43130,)\n",
      "y_test shape:  (10783,)\n"
     ]
    }
   ],
   "source": [
    "from sklearn.model_selection import train_test_split\n",
    "\n",
    "# Setting X asfeatures and y as target variable - price\n",
    "X = frain_df.drop(['price', 'id'], axis=1)  # Features\n",
    "y = frain_df['price']  # Target variable\n",
    "\n",
    "# Split the data into training and testing sets\n",
    "X_train, X_test, y_train, y_test = train_test_split(X, y, test_size=0.2, random_state=42)\n",
    "\n",
    "print(\"X_train shape: \", X_train.shape)\n",
    "print(\"X_test shape: \", X_test.shape)\n",
    "print(\"y_train shape: \", y_train.shape)\n",
    "print(\"y_test shape: \", y_test.shape)"
   ]
  },
  {
   "cell_type": "code",
   "execution_count": null,
   "id": "af52bc1e",
   "metadata": {
    "papermill": {
     "duration": 0.020785,
     "end_time": "2024-06-06T16:34:07.352513",
     "exception": false,
     "start_time": "2024-06-06T16:34:07.331728",
     "status": "completed"
    },
    "tags": []
   },
   "outputs": [],
   "source": []
  },
  {
   "cell_type": "markdown",
   "id": "4f63d93b",
   "metadata": {
    "papermill": {
     "duration": 0.020611,
     "end_time": "2024-06-06T16:34:07.393992",
     "exception": false,
     "start_time": "2024-06-06T16:34:07.373381",
     "status": "completed"
    },
    "tags": []
   },
   "source": [
    "# Final Prediction"
   ]
  },
  {
   "cell_type": "code",
   "execution_count": null,
   "id": "b968d7d0",
   "metadata": {
    "execution": {
     "iopub.execute_input": "2024-06-06T16:30:55.965457Z",
     "iopub.status.busy": "2024-06-06T16:30:55.964482Z",
     "iopub.status.idle": "2024-06-06T16:30:55.982235Z",
     "shell.execute_reply": "2024-06-06T16:30:55.980556Z",
     "shell.execute_reply.started": "2024-06-06T16:30:55.965409Z"
    },
    "papermill": {
     "duration": 0.020571,
     "end_time": "2024-06-06T16:34:07.435700",
     "exception": false,
     "start_time": "2024-06-06T16:34:07.415129",
     "status": "completed"
    },
    "tags": []
   },
   "outputs": [],
   "source": []
  },
  {
   "cell_type": "code",
   "execution_count": null,
   "id": "f5569a4e",
   "metadata": {
    "papermill": {
     "duration": 0.021022,
     "end_time": "2024-06-06T16:34:07.477808",
     "exception": false,
     "start_time": "2024-06-06T16:34:07.456786",
     "status": "completed"
    },
    "tags": []
   },
   "outputs": [],
   "source": []
  }
 ],
 "metadata": {
  "kaggle": {
   "accelerator": "none",
   "dataSources": [
    {
     "datasetId": 5149343,
     "sourceId": 8605671,
     "sourceType": "datasetVersion"
    }
   ],
   "dockerImageVersionId": 30715,
   "isGpuEnabled": false,
   "isInternetEnabled": true,
   "language": "python",
   "sourceType": "notebook"
  },
  "kernelspec": {
   "display_name": "Python 3",
   "language": "python",
   "name": "python3"
  },
  "language_info": {
   "codemirror_mode": {
    "name": "ipython",
    "version": 3
   },
   "file_extension": ".py",
   "mimetype": "text/x-python",
   "name": "python",
   "nbconvert_exporter": "python",
   "pygments_lexer": "ipython3",
   "version": "3.10.13"
  },
  "papermill": {
   "default_parameters": {},
   "duration": 11.465362,
   "end_time": "2024-06-06T16:34:08.424875",
   "environment_variables": {},
   "exception": null,
   "input_path": "__notebook__.ipynb",
   "output_path": "__notebook__.ipynb",
   "parameters": {},
   "start_time": "2024-06-06T16:33:56.959513",
   "version": "2.5.0"
  }
 },
 "nbformat": 4,
 "nbformat_minor": 5
}
